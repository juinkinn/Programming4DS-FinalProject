{
 "cells": [
  {
   "cell_type": "markdown",
   "metadata": {},
   "source": [
    "# Final Project - Programming for Data Science"
   ]
  },
  {
   "cell_type": "markdown",
   "metadata": {},
   "source": [
    "## Team members"
   ]
  },
  {
   "cell_type": "markdown",
   "metadata": {},
   "source": [
    "1. Trần Thành Long - 22127250\n",
    "\n",
    "2. Nguyễn Hoàng Trung Kiên - 22127478"
   ]
  },
  {
   "cell_type": "markdown",
   "metadata": {},
   "source": [
    "## Dataset\n",
    "\n",
    "[Steam games dataset](https://www.kaggle.com/datasets/gruffgemini/steam-games-dataset)"
   ]
  },
  {
   "cell_type": "markdown",
   "metadata": {},
   "source": [
    "## Import libraries"
   ]
  },
  {
   "cell_type": "code",
   "execution_count": 18,
   "metadata": {},
   "outputs": [],
   "source": [
    "import pandas as pd\n",
    "import matplotlib.pyplot as plt\n",
    "import seaborn as sns"
   ]
  },
  {
   "cell_type": "markdown",
   "metadata": {},
   "source": [
    "## 1. Collecting data"
   ]
  },
  {
   "cell_type": "code",
   "execution_count": 19,
   "metadata": {},
   "outputs": [],
   "source": [
    "df = pd.read_csv('dataset.csv')"
   ]
  },
  {
   "cell_type": "markdown",
   "metadata": {},
   "source": [
    "### What subject is your data about? What is the source of your data?"
   ]
  },
  {
   "cell_type": "markdown",
   "metadata": {},
   "source": [
    "- **Subject**: The dataset includes information on over 60000 video games from Steam platform (from 1997 to 2023).\n",
    "- **Source**: [Kaggle](https://www.kaggle.com/datasets/gruffgemini/steam-games-dataset)"
   ]
  },
  {
   "cell_type": "markdown",
   "metadata": {},
   "source": [
    "### Do authors of this data allow you to use like this? ###"
   ]
  },
  {
   "cell_type": "markdown",
   "metadata": {},
   "source": [
    "- **Yes**, based on this data's license: [CC0: Public Domain](https://creativecommons.org/publicdomain/zero/1.0/)."
   ]
  },
  {
   "cell_type": "markdown",
   "metadata": {},
   "source": [
    "### How did authors collect data? ###"
   ]
  },
  {
   "cell_type": "markdown",
   "metadata": {},
   "source": [
    "- User tags info and data from [howlongtobeat.com](https://howlongtobeat.com/) on over 60000 Steam games (from 1997 to 2023)."
   ]
  },
  {
   "cell_type": "markdown",
   "metadata": {},
   "source": [
    "## 2. Exploring data and preprocessing"
   ]
  },
  {
   "cell_type": "markdown",
   "metadata": {},
   "source": [
    "### How many rows and how many columns?"
   ]
  },
  {
   "cell_type": "code",
   "execution_count": 20,
   "metadata": {},
   "outputs": [
    {
     "data": {
      "text/plain": [
       "(63543, 11)"
      ]
     },
     "execution_count": 20,
     "metadata": {},
     "output_type": "execute_result"
    }
   ],
   "source": [
    "df.shape"
   ]
  },
  {
   "cell_type": "markdown",
   "metadata": {},
   "source": [
    "$\\rightarrow$ There are ```63543``` rows and ```11``` columns."
   ]
  },
  {
   "cell_type": "markdown",
   "metadata": {},
   "source": [
    "### What is the meaning of each row?"
   ]
  },
  {
   "cell_type": "code",
   "execution_count": 21,
   "metadata": {},
   "outputs": [
    {
     "data": {
      "text/html": [
       "<div>\n",
       "<style scoped>\n",
       "    .dataframe tbody tr th:only-of-type {\n",
       "        vertical-align: middle;\n",
       "    }\n",
       "\n",
       "    .dataframe tbody tr th {\n",
       "        vertical-align: top;\n",
       "    }\n",
       "\n",
       "    .dataframe thead th {\n",
       "        text-align: right;\n",
       "    }\n",
       "</style>\n",
       "<table border=\"1\" class=\"dataframe\">\n",
       "  <thead>\n",
       "    <tr style=\"text-align: right;\">\n",
       "      <th></th>\n",
       "      <th>id</th>\n",
       "      <th>name</th>\n",
       "      <th>year</th>\n",
       "      <th>metacritic_rating</th>\n",
       "      <th>reviewer_rating</th>\n",
       "      <th>positivity_ratio</th>\n",
       "      <th>to_beat_main</th>\n",
       "      <th>to_beat_extra</th>\n",
       "      <th>to_beat_completionist</th>\n",
       "      <th>extra_content_length</th>\n",
       "      <th>tags</th>\n",
       "    </tr>\n",
       "  </thead>\n",
       "  <tbody>\n",
       "    <tr>\n",
       "      <th>0</th>\n",
       "      <td>96000</td>\n",
       "      <td>The Tiny Bang Story</td>\n",
       "      <td>2011.0</td>\n",
       "      <td>63.0</td>\n",
       "      <td>8.0</td>\n",
       "      <td>7.073879</td>\n",
       "      <td>3.60</td>\n",
       "      <td>3.60</td>\n",
       "      <td>3.77</td>\n",
       "      <td>0.17</td>\n",
       "      <td>Story Rich|Steampunk|Adventure|Atmospheric|Puz...</td>\n",
       "    </tr>\n",
       "    <tr>\n",
       "      <th>1</th>\n",
       "      <td>262410</td>\n",
       "      <td>World of Guns: Gun Disassembly</td>\n",
       "      <td>2014.0</td>\n",
       "      <td>NaN</td>\n",
       "      <td>8.0</td>\n",
       "      <td>5.208940</td>\n",
       "      <td>2.00</td>\n",
       "      <td>NaN</td>\n",
       "      <td>28.07</td>\n",
       "      <td>26.07</td>\n",
       "      <td>Horror|First-Person|Historical|Multiplayer|Str...</td>\n",
       "    </tr>\n",
       "    <tr>\n",
       "      <th>2</th>\n",
       "      <td>1250410</td>\n",
       "      <td>Microsoft Flight Simulator 40th Anniversary Ed...</td>\n",
       "      <td>2020.0</td>\n",
       "      <td>91.0</td>\n",
       "      <td>6.0</td>\n",
       "      <td>3.581082</td>\n",
       "      <td>NaN</td>\n",
       "      <td>NaN</td>\n",
       "      <td>NaN</td>\n",
       "      <td>NaN</td>\n",
       "      <td>Multiplayer|Adventure|VR|Action Roguelike|Phys...</td>\n",
       "    </tr>\n",
       "    <tr>\n",
       "      <th>3</th>\n",
       "      <td>365450</td>\n",
       "      <td>Hacknet</td>\n",
       "      <td>2015.0</td>\n",
       "      <td>82.0</td>\n",
       "      <td>8.0</td>\n",
       "      <td>14.548520</td>\n",
       "      <td>7.06</td>\n",
       "      <td>8.73</td>\n",
       "      <td>10.75</td>\n",
       "      <td>3.69</td>\n",
       "      <td>Horror|Story Rich|Hacking|Crime|Multiplayer|Dy...</td>\n",
       "    </tr>\n",
       "    <tr>\n",
       "      <th>4</th>\n",
       "      <td>92800</td>\n",
       "      <td>SpaceChem</td>\n",
       "      <td>2011.0</td>\n",
       "      <td>84.0</td>\n",
       "      <td>8.0</td>\n",
       "      <td>11.440415</td>\n",
       "      <td>43.32</td>\n",
       "      <td>57.79</td>\n",
       "      <td>67.55</td>\n",
       "      <td>24.23</td>\n",
       "      <td>Automation|Strategy|Building|Puzzle|Science|Pr...</td>\n",
       "    </tr>\n",
       "    <tr>\n",
       "      <th>5</th>\n",
       "      <td>1301720</td>\n",
       "      <td>Escape Room - Der kranke Kollege</td>\n",
       "      <td>2020.0</td>\n",
       "      <td>NaN</td>\n",
       "      <td>8.0</td>\n",
       "      <td>6.828914</td>\n",
       "      <td>1.69</td>\n",
       "      <td>2.49</td>\n",
       "      <td>2.31</td>\n",
       "      <td>0.62</td>\n",
       "      <td>Horror|First-Person|Crime|Multiplayer|Adventur...</td>\n",
       "    </tr>\n",
       "    <tr>\n",
       "      <th>6</th>\n",
       "      <td>589870</td>\n",
       "      <td>Learn to Fly 3</td>\n",
       "      <td>2017.0</td>\n",
       "      <td>NaN</td>\n",
       "      <td>8.0</td>\n",
       "      <td>15.571125</td>\n",
       "      <td>3.02</td>\n",
       "      <td>6.35</td>\n",
       "      <td>11.78</td>\n",
       "      <td>8.76</td>\n",
       "      <td>Multiplayer|Strategy|Action|Adventure|Physics|...</td>\n",
       "    </tr>\n",
       "    <tr>\n",
       "      <th>7</th>\n",
       "      <td>736260</td>\n",
       "      <td>Baba Is You</td>\n",
       "      <td>2019.0</td>\n",
       "      <td>87.0</td>\n",
       "      <td>9.0</td>\n",
       "      <td>49.397183</td>\n",
       "      <td>6.84</td>\n",
       "      <td>19.28</td>\n",
       "      <td>46.70</td>\n",
       "      <td>39.86</td>\n",
       "      <td>Horror|Sokoban|Strategy|Level Editor|Pixel Gra...</td>\n",
       "    </tr>\n",
       "    <tr>\n",
       "      <th>8</th>\n",
       "      <td>585420</td>\n",
       "      <td>Trailmakers</td>\n",
       "      <td>2019.0</td>\n",
       "      <td>NaN</td>\n",
       "      <td>8.0</td>\n",
       "      <td>11.906299</td>\n",
       "      <td>12.18</td>\n",
       "      <td>85.26</td>\n",
       "      <td>406.74</td>\n",
       "      <td>394.56</td>\n",
       "      <td>Robots|Co-op Campaign|Automobile Sim|Action-Ad...</td>\n",
       "    </tr>\n",
       "    <tr>\n",
       "      <th>9</th>\n",
       "      <td>1455840</td>\n",
       "      <td>Dorfromantik</td>\n",
       "      <td>2022.0</td>\n",
       "      <td>NaN</td>\n",
       "      <td>9.0</td>\n",
       "      <td>32.146377</td>\n",
       "      <td>5.25</td>\n",
       "      <td>13.60</td>\n",
       "      <td>63.94</td>\n",
       "      <td>58.69</td>\n",
       "      <td>Procedural Generation|Strategy|Soundtrack|Atmo...</td>\n",
       "    </tr>\n",
       "  </tbody>\n",
       "</table>\n",
       "</div>"
      ],
      "text/plain": [
       "        id                                               name    year  \\\n",
       "0    96000                                The Tiny Bang Story  2011.0   \n",
       "1   262410                     World of Guns: Gun Disassembly  2014.0   \n",
       "2  1250410  Microsoft Flight Simulator 40th Anniversary Ed...  2020.0   \n",
       "3   365450                                            Hacknet  2015.0   \n",
       "4    92800                                          SpaceChem  2011.0   \n",
       "5  1301720                   Escape Room - Der kranke Kollege  2020.0   \n",
       "6   589870                                     Learn to Fly 3  2017.0   \n",
       "7   736260                                        Baba Is You  2019.0   \n",
       "8   585420                                        Trailmakers  2019.0   \n",
       "9  1455840                                       Dorfromantik  2022.0   \n",
       "\n",
       "   metacritic_rating  reviewer_rating  positivity_ratio  to_beat_main  \\\n",
       "0               63.0              8.0          7.073879          3.60   \n",
       "1                NaN              8.0          5.208940          2.00   \n",
       "2               91.0              6.0          3.581082           NaN   \n",
       "3               82.0              8.0         14.548520          7.06   \n",
       "4               84.0              8.0         11.440415         43.32   \n",
       "5                NaN              8.0          6.828914          1.69   \n",
       "6                NaN              8.0         15.571125          3.02   \n",
       "7               87.0              9.0         49.397183          6.84   \n",
       "8                NaN              8.0         11.906299         12.18   \n",
       "9                NaN              9.0         32.146377          5.25   \n",
       "\n",
       "   to_beat_extra  to_beat_completionist  extra_content_length  \\\n",
       "0           3.60                   3.77                  0.17   \n",
       "1            NaN                  28.07                 26.07   \n",
       "2            NaN                    NaN                   NaN   \n",
       "3           8.73                  10.75                  3.69   \n",
       "4          57.79                  67.55                 24.23   \n",
       "5           2.49                   2.31                  0.62   \n",
       "6           6.35                  11.78                  8.76   \n",
       "7          19.28                  46.70                 39.86   \n",
       "8          85.26                 406.74                394.56   \n",
       "9          13.60                  63.94                 58.69   \n",
       "\n",
       "                                                tags  \n",
       "0  Story Rich|Steampunk|Adventure|Atmospheric|Puz...  \n",
       "1  Horror|First-Person|Historical|Multiplayer|Str...  \n",
       "2  Multiplayer|Adventure|VR|Action Roguelike|Phys...  \n",
       "3  Horror|Story Rich|Hacking|Crime|Multiplayer|Dy...  \n",
       "4  Automation|Strategy|Building|Puzzle|Science|Pr...  \n",
       "5  Horror|First-Person|Crime|Multiplayer|Adventur...  \n",
       "6  Multiplayer|Strategy|Action|Adventure|Physics|...  \n",
       "7  Horror|Sokoban|Strategy|Level Editor|Pixel Gra...  \n",
       "8  Robots|Co-op Campaign|Automobile Sim|Action-Ad...  \n",
       "9  Procedural Generation|Strategy|Soundtrack|Atmo...  "
      ]
     },
     "execution_count": 21,
     "metadata": {},
     "output_type": "execute_result"
    }
   ],
   "source": [
    "df.head(10)"
   ]
  },
  {
   "cell_type": "markdown",
   "metadata": {},
   "source": [
    "- Each row represents a record of a Steam game."
   ]
  },
  {
   "cell_type": "markdown",
   "metadata": {},
   "source": [
    "### Are there duplicated rows?"
   ]
  },
  {
   "cell_type": "code",
   "execution_count": 22,
   "metadata": {},
   "outputs": [
    {
     "data": {
      "text/plain": [
       "np.int64(0)"
      ]
     },
     "execution_count": 22,
     "metadata": {},
     "output_type": "execute_result"
    }
   ],
   "source": [
    "df.duplicated().sum()"
   ]
  },
  {
   "cell_type": "markdown",
   "metadata": {},
   "source": [
    "$\\rightarrow$ **No** duplicated rows."
   ]
  },
  {
   "cell_type": "markdown",
   "metadata": {},
   "source": [
    "### What is the meaning of each column?"
   ]
  },
  {
   "cell_type": "code",
   "execution_count": 23,
   "metadata": {},
   "outputs": [
    {
     "data": {
      "text/plain": [
       "Index(['id', 'name', 'year', 'metacritic_rating', 'reviewer_rating',\n",
       "       'positivity_ratio', 'to_beat_main', 'to_beat_extra',\n",
       "       'to_beat_completionist', 'extra_content_length', 'tags'],\n",
       "      dtype='object')"
      ]
     },
     "execution_count": 23,
     "metadata": {},
     "output_type": "execute_result"
    }
   ],
   "source": [
    "df.columns"
   ]
  },
  {
   "cell_type": "markdown",
   "metadata": {},
   "source": [
    "- ```id```: Game ID on steam platform.\n",
    "- ```name```: Game name as appears on Steam platform.\n",
    "- ```year```: Year of release.\n",
    "- ```metacritic_rating```: Metacritic rating (the larger the better).\n",
    "- ```reviewer_rating```: Game rating given by users on the 0-10 scale (the larger the better).\n",
    "- ```positivity_ratio```: Number of positive reviews divided by the number of negative reviews.\n",
    "- ```to_beat_main```: Time required to beat the main plot of the game.\n",
    "- ```to_beat_extra```: Time required to beat the main and optional objectives of the game.\n",
    "- ```to_beat_completionist```: Time required to complete every single objective of the game including gathering all collectibles.\n",
    "- ```extra_content_length```: The difference between completionist time and extra time.\n",
    "- ```tags```: User tags (features) of the game separated by vertical line."
   ]
  },
  {
   "cell_type": "markdown",
   "metadata": {},
   "source": [
    "### What is the current data type of each column? Are there columns having inappropriate data types?"
   ]
  },
  {
   "cell_type": "code",
   "execution_count": 24,
   "metadata": {},
   "outputs": [
    {
     "data": {
      "text/plain": [
       "id                         int64\n",
       "name                      object\n",
       "year                     float64\n",
       "metacritic_rating        float64\n",
       "reviewer_rating          float64\n",
       "positivity_ratio         float64\n",
       "to_beat_main             float64\n",
       "to_beat_extra            float64\n",
       "to_beat_completionist    float64\n",
       "extra_content_length     float64\n",
       "tags                      object\n",
       "dtype: object"
      ]
     },
     "execution_count": 24,
     "metadata": {},
     "output_type": "execute_result"
    }
   ],
   "source": [
    "df.dtypes"
   ]
  },
  {
   "cell_type": "markdown",
   "metadata": {},
   "source": [
    "### With each numerical column, how are values distributed?"
   ]
  },
  {
   "cell_type": "markdown",
   "metadata": {},
   "source": [
    "- What is the percentage of missing values?"
   ]
  },
  {
   "cell_type": "code",
   "execution_count": 25,
   "metadata": {},
   "outputs": [
    {
     "name": "stdout",
     "output_type": "stream",
     "text": [
      "id: 0.0 %\n",
      "year: 0.1573737469115402 %\n",
      "metacritic_rating: 93.83724407094408 %\n",
      "reviewer_rating: 29.765670490848716 %\n",
      "positivity_ratio: 3.167933525329304 %\n",
      "to_beat_main: 71.98589931227673 %\n",
      "to_beat_extra: 78.86942700218749 %\n",
      "to_beat_completionist: 74.7635459452654 %\n",
      "extra_content_length: 66.66509292919756 %\n"
     ]
    }
   ],
   "source": [
    "numerical_cols = ['id', 'year', 'metacritic_rating', 'reviewer_rating', 'positivity_ratio', 'to_beat_main', 'to_beat_extra', 'to_beat_completionist', 'extra_content_length']\n",
    "missing_data = {numerical_col: sum(value == \"?\" or value != value for value in df[numerical_col]) / len(df[numerical_col]) * 100 for numerical_col in df[numerical_cols]}\n",
    "for k, v in missing_data.items():\n",
    "    print(f'{k}: {v} %')"
   ]
  },
  {
   "cell_type": "markdown",
   "metadata": {},
   "source": [
    "- The column(s) with the highest missing data ratio is ```metacritic_rating``` (~93.837%).\n",
    "- The column(s) with the lowest missing data ratio is ```id``` (0%), has no missing data."
   ]
  },
  {
   "cell_type": "markdown",
   "metadata": {},
   "source": [
    "$\\rightarrow$ Despite the large proportion of missing values in some columns, the quantity of the data records are still enough and helpful for analysis (63543 rows)."
   ]
  },
  {
   "cell_type": "markdown",
   "metadata": {},
   "source": [
    "- Distribution of numeric columns:"
   ]
  },
  {
   "cell_type": "code",
   "execution_count": 26,
   "metadata": {},
   "outputs": [
    {
     "data": {
      "image/png": "[encoded data removed]",
      "text/plain": [
       "<Figure size 1400x1200 with 9 Axes>"
      ]
     },
     "metadata": {},
     "output_type": "display_data"
    }
   ],
   "source": [
    "numeric_cols = ['id', 'year', 'metacritic_rating', 'reviewer_rating', 'positivity_ratio', 'to_beat_main', 'to_beat_extra', 'to_beat_completionist', 'extra_content_length']\n",
    "plt.figure(figsize=(14, 12))  \n",
    "\n",
    "for i in range(len(numeric_cols)):\n",
    "    plt.subplot(3, 3, i + 1)  \n",
    "    plt.hist(df[numeric_cols[i]], bins=20, edgecolor='black', alpha=0.7, density=True)\n",
    "    sns.kdeplot(df[numeric_cols[i]], color='red', linewidth=2)\n",
    "    plt.title(f'Distribution of {numeric_cols[i]}')\n",
    "    plt.xlabel(numeric_cols[i])\n",
    "    plt.ylabel('Density')\n",
    "\n",
    "plt.tight_layout(pad=3.0)  \n",
    "plt.show()"
   ]
  },
  {
   "cell_type": "markdown",
   "metadata": {},
   "source": [
    "- **Comments**:\n",
    "    - Most distributions tend to be slightly or significantly **skewed** to one side:\n",
    "        - Left-skewed: ```year```, ```metacritic_rating```.\n",
    "        - Right-skewed: ```positivity_ratio```, ```to_beat_main```, ```to_beat_extra```, ```to_beat_completionist```, ```extra_content_length```.\n",
    "        \n",
    "    $\\rightarrow$ Heavily affected by **outliers**, requiring appropriate **handling measures**.\n",
    "    \n",
    "    - The distribution of ```reviewer_rating``` tends to **concentrate** around certain specific **bins**."
   ]
  },
  {
   "cell_type": "markdown",
   "metadata": {},
   "source": [
    "### With each categorical column, how are values distributed?"
   ]
  },
  {
   "cell_type": "markdown",
   "metadata": {},
   "source": [
    "- What is the percentage of missing values?"
   ]
  },
  {
   "cell_type": "code",
   "execution_count": 27,
   "metadata": {},
   "outputs": [
    {
     "name": "stdout",
     "output_type": "stream",
     "text": [
      "name: 0.0 %\n",
      "tags: 0.0 %\n"
     ]
    }
   ],
   "source": [
    "categorical_cols = ['name', 'tags']\n",
    "missing_data = {cate_col: sum(value == \"?\" or value != value for value in df[cate_col]) / len(df[cate_col]) * 100 for cate_col in df[categorical_cols]}\n",
    "for k, v in missing_data.items():\n",
    "    print(f'{k}: {v} %')"
   ]
  },
  {
   "cell_type": "markdown",
   "metadata": {},
   "source": [
    "$\\rightarrow$ **No** missing data."
   ]
  },
  {
   "cell_type": "markdown",
   "metadata": {},
   "source": [
    "- How many different values? Show a few"
   ]
  },
  {
   "cell_type": "code",
   "execution_count": 28,
   "metadata": {},
   "outputs": [
    {
     "name": "stdout",
     "output_type": "stream",
     "text": [
      "name    63186\n",
      "tags    54024\n",
      "dtype: int64\n",
      "Distinct 'name' values: ['The Tiny Bang Story' 'World of Guns: Gun Disassembly'\n",
      " 'Microsoft Flight Simulator 40th Anniversary Edition' 'Hacknet'\n",
      " 'SpaceChem']\n",
      "Distinct 'tags' values: ['Story Rich|Steampunk|Adventure|Atmospheric|Puzzle|Surreal|Collectathon|Comedy|Relaxing|Touch-Friendly|Classic|Funny|Mystery|Casual|Indie|Short|Cartoony|Retro|Logic|Cult Classic|Remake|Singleplayer|Minigames|Great Soundtrack|Hand-drawn|Colorful|Cute|Hidden Object|Family Friendly|2D|Stylized'\n",
      " 'Horror|First-Person|Historical|Multiplayer|Strategy|Gun Customization|Action|Old School|Adventure|Military|Exploration|Puzzle|Free to Play|Co-op|FPS|Open World|Relaxing|Funny|3D|Casual|Indie|Shooter|America|Simulation|Singleplayer|Realistic|3D Platformer|Online Co-Op|Education|Logic|Sandbox'\n",
      " 'Multiplayer|Adventure|VR|Action Roguelike|Physics|Atmospheric|Boxing|Surreal|Psychological Horror|Controller|Beautiful|Open World|Auto Battler|Flight|Sexual Content|Real-Time|Short|Life Sim|Epic|Singleplayer|Simulation|Realistic|Colorful|Family Friendly|TrackIR|Logic'\n",
      " 'Horror|Story Rich|Hacking|Crime|Multiplayer|Dystopian |Strategy|Adventure|Atmospheric|Puzzle|Cyberpunk|Detective|Programming|Massively Multiplayer|Typing|Casual|Indie|Simulation|Singleplayer|Great Soundtrack|Choices Matter|Education|2D|Difficult|Logic|Illuminati|Sci-fi'\n",
      " 'Automation|Strategy|Building|Puzzle|Science|Programming|Touch-Friendly|Casual|Indie|Simulation|Singleplayer|Space|Great Soundtrack|Education|Addictive|2D|Difficult|Logic|Illuminati|Sci-fi']\n"
     ]
    }
   ],
   "source": [
    "distinct_values = df[['name', 'tags']].nunique()\n",
    "print(distinct_values)\n",
    "\n",
    "distinct_values_name = df['name'].unique()[:5]  \n",
    "distinct_values_tags = df['tags'].unique()[:5]  \n",
    "\n",
    "print(\"Distinct 'name' values:\", distinct_values_name)\n",
    "print(\"Distinct 'tags' values:\", distinct_values_tags)\n"
   ]
  },
  {
   "cell_type": "markdown",
   "metadata": {},
   "source": [
    "- Are they abnormal?"
   ]
  },
  {
   "cell_type": "markdown",
   "metadata": {},
   "source": [
    "$\\rightarrow$ **No**."
   ]
  },
  {
   "cell_type": "markdown",
   "metadata": {},
   "source": [
    "## 3. Asking meaningful questions"
   ]
  },
  {
   "cell_type": "markdown",
   "metadata": {},
   "source": [
    "### Question 1: How does the time allocation required to complete a game change over time?"
   ]
  },
  {
   "cell_type": "markdown",
   "metadata": {},
   "source": [
    "#### Benefits of finding answer:\n",
    "- **Research and gain** an overview of game development over time.\n",
    "- **Provide** a basis for analysis and comparison with games in the present time and in the future, e.g. game designers can learn from historical trends to balance between creating engaging, shorter experiences versus sprawling, long-form games that could potentially cause player burnout."
   ]
  },
  {
   "cell_type": "markdown",
   "metadata": {},
   "source": [
    "#### How to find the answer by using data?\n",
    "- Calculate the time allocation for each game and the average time allocation for all games each year by using ```to_beat_main```, and ```to_beat_completionist``` columns.\n",
    "- Visualize the change, give comments and draw conclusions."
   ]
  },
  {
   "cell_type": "markdown",
   "metadata": {},
   "source": [
    "### Question 2: What are the trends in the shifting popularity of single-player and multiplayer games over the years?"
   ]
  },
  {
   "cell_type": "markdown",
   "metadata": {},
   "source": [
    "#### Benefits of finding answer:\n",
    "- **Understanding Player Preferences**: Identifies how gaming culture is evolving (e.g., a shift toward online multiplayer experiences or a resurgence in single-player narratives).\n",
    "- **Guiding Game Development**: Helps game developers align their focus and provides insights into whether hybrid games (offering both modes) are worth investing in.\n",
    "- **Player Community Insights**: Reflects the social aspect of gaming, whether players prefer playing with friends or immersing themselves in solo gameplay."
   ]
  },
  {
   "cell_type": "markdown",
   "metadata": {},
   "source": [
    "#### How to find the answer by using data?\n",
    "- To address this question, we will approach it from two ways:\n",
    "    - The average ```reviewer_rating``` for each game tag (**single-player**, **multiplayer** or both) over the years.\n",
    "    - The number of games belonging to the **single-player**, **multiplayer** or both tags over the years.\n",
    "- Visualize the trends, give comments and draw conclusions."
   ]
  },
  {
   "cell_type": "markdown",
   "metadata": {},
   "source": [
    "## 4. Preprocessing and analyzing data to answer each question"
   ]
  },
  {
   "cell_type": "markdown",
   "metadata": {},
   "source": [
    "### 4.1. Preprocessing:"
   ]
  },
  {
   "cell_type": "markdown",
   "metadata": {},
   "source": [
    "- ```id``` column is no longer helpful for further data exploration so it is unnecessary and will be removed."
   ]
  },
  {
   "cell_type": "code",
   "execution_count": 29,
   "metadata": {},
   "outputs": [],
   "source": [
    "del df['id']"
   ]
  },
  {
   "cell_type": "markdown",
   "metadata": {},
   "source": [
    "- From the result of the percentage of missing values, the ```metacritic_rating``` column has the highest percentage, and it is not necessary to be used for answering questions, so it will also be removed."
   ]
  },
  {
   "cell_type": "code",
   "execution_count": 30,
   "metadata": {},
   "outputs": [],
   "source": [
    "del df['metacritic_rating']"
   ]
  },
  {
   "cell_type": "markdown",
   "metadata": {},
   "source": [
    "- Based on the domain knowledge of the dataset, ```to_beat_extra``` and ```extra_content_length``` are implied by ```to_beat_main``` and ```to_beat_completionist```, so we will remove these 2 columns, which is redundant for analysis."
   ]
  },
  {
   "cell_type": "code",
   "execution_count": 31,
   "metadata": {},
   "outputs": [],
   "source": [
    "del df['to_beat_extra']\n",
    "del df['extra_content_length']"
   ]
  },
  {
   "cell_type": "markdown",
   "metadata": {},
   "source": [
    "- Remove rows with **year** == ```Nan```"
   ]
  },
  {
   "cell_type": "code",
   "execution_count": 32,
   "metadata": {},
   "outputs": [],
   "source": [
    "df = df[df['year'].notna()]"
   ]
  },
  {
   "cell_type": "markdown",
   "metadata": {},
   "source": [
    "- Sort the dataset by ```year```"
   ]
  },
  {
   "cell_type": "code",
   "execution_count": 33,
   "metadata": {},
   "outputs": [],
   "source": [
    "df = df.sort_values(by='year', ascending=True, ignore_index=True)"
   ]
  },
  {
   "cell_type": "markdown",
   "metadata": {},
   "source": [
    "- Convert ```year``` column into ```int``` type"
   ]
  },
  {
   "cell_type": "code",
   "execution_count": 34,
   "metadata": {},
   "outputs": [],
   "source": [
    "df['year'] = df['year'].astype('int64')"
   ]
  },
  {
   "cell_type": "markdown",
   "metadata": {},
   "source": [
    "#### 4.1.1. Preprocessing for question 1 ####"
   ]
  },
  {
   "cell_type": "markdown",
   "metadata": {},
   "source": [
    "- Create dataframe for answering question 1 and drop unnecessary columns"
   ]
  },
  {
   "cell_type": "code",
   "execution_count": 35,
   "metadata": {},
   "outputs": [],
   "source": [
    "df_q1 = df.drop(columns=['reviewer_rating', 'positivity_ratio', 'tags']) "
   ]
  },
  {
   "cell_type": "markdown",
   "metadata": {},
   "source": [
    "- Drop rows that have ```null``` or ```NaN``` values in ```to_beat_main``` and ```to_beat_completionist``` columns, since it may lead to a false record when filling ```to_beat_main``` or ```to_beat_completionist```. They may relate to each other (```to_beat_completionist``` is calculated by adding ```to_beat_main``` with ```extra_content_length```, which was removed earlier), so it is better to keep the existing records and not use the traditional filling methods."
   ]
  },
  {
   "cell_type": "code",
   "execution_count": 36,
   "metadata": {},
   "outputs": [
    {
     "data": {
      "text/html": [
       "<div>\n",
       "<style scoped>\n",
       "    .dataframe tbody tr th:only-of-type {\n",
       "        vertical-align: middle;\n",
       "    }\n",
       "\n",
       "    .dataframe tbody tr th {\n",
       "        vertical-align: top;\n",
       "    }\n",
       "\n",
       "    .dataframe thead th {\n",
       "        text-align: right;\n",
       "    }\n",
       "</style>\n",
       "<table border=\"1\" class=\"dataframe\">\n",
       "  <thead>\n",
       "    <tr style=\"text-align: right;\">\n",
       "      <th></th>\n",
       "      <th>name</th>\n",
       "      <th>year</th>\n",
       "      <th>to_beat_main</th>\n",
       "      <th>to_beat_completionist</th>\n",
       "    </tr>\n",
       "  </thead>\n",
       "  <tbody>\n",
       "    <tr>\n",
       "      <th>0</th>\n",
       "      <td>POSTAL</td>\n",
       "      <td>1997</td>\n",
       "      <td>2.54</td>\n",
       "      <td>9.73</td>\n",
       "    </tr>\n",
       "    <tr>\n",
       "      <th>2</th>\n",
       "      <td>Half-Life</td>\n",
       "      <td>1998</td>\n",
       "      <td>17.17</td>\n",
       "      <td>18.40</td>\n",
       "    </tr>\n",
       "    <tr>\n",
       "      <th>3</th>\n",
       "      <td>Half-Life: Opposing Force</td>\n",
       "      <td>1999</td>\n",
       "      <td>12.08</td>\n",
       "      <td>15.37</td>\n",
       "    </tr>\n",
       "    <tr>\n",
       "      <th>4</th>\n",
       "      <td>Legacy of Kain: Soul Reaver</td>\n",
       "      <td>1999</td>\n",
       "      <td>11.79</td>\n",
       "      <td>14.51</td>\n",
       "    </tr>\n",
       "    <tr>\n",
       "      <th>6</th>\n",
       "      <td>Ricochet</td>\n",
       "      <td>2000</td>\n",
       "      <td>40.00</td>\n",
       "      <td>73.92</td>\n",
       "    </tr>\n",
       "    <tr>\n",
       "      <th>...</th>\n",
       "      <td>...</td>\n",
       "      <td>...</td>\n",
       "      <td>...</td>\n",
       "      <td>...</td>\n",
       "    </tr>\n",
       "    <tr>\n",
       "      <th>63412</th>\n",
       "      <td>Zortch</td>\n",
       "      <td>2023</td>\n",
       "      <td>3.50</td>\n",
       "      <td>6.00</td>\n",
       "    </tr>\n",
       "    <tr>\n",
       "      <th>63418</th>\n",
       "      <td>Rome: The Mystery of the Chronovisor - Hidden ...</td>\n",
       "      <td>2023</td>\n",
       "      <td>14.74</td>\n",
       "      <td>18.90</td>\n",
       "    </tr>\n",
       "    <tr>\n",
       "      <th>63437</th>\n",
       "      <td>Dark Skies: The Nemansk Incident</td>\n",
       "      <td>2023</td>\n",
       "      <td>3.50</td>\n",
       "      <td>6.00</td>\n",
       "    </tr>\n",
       "    <tr>\n",
       "      <th>63439</th>\n",
       "      <td>Shame Legacy</td>\n",
       "      <td>2023</td>\n",
       "      <td>2.38</td>\n",
       "      <td>3.38</td>\n",
       "    </tr>\n",
       "    <tr>\n",
       "      <th>63440</th>\n",
       "      <td>Melon Journey: Bittersweet Memories</td>\n",
       "      <td>2023</td>\n",
       "      <td>5.50</td>\n",
       "      <td>6.50</td>\n",
       "    </tr>\n",
       "  </tbody>\n",
       "</table>\n",
       "<p>12555 rows × 4 columns</p>\n",
       "</div>"
      ],
      "text/plain": [
       "                                                    name  year  to_beat_main  \\\n",
       "0                                                 POSTAL  1997          2.54   \n",
       "2                                              Half-Life  1998         17.17   \n",
       "3                              Half-Life: Opposing Force  1999         12.08   \n",
       "4                            Legacy of Kain: Soul Reaver  1999         11.79   \n",
       "6                                               Ricochet  2000         40.00   \n",
       "...                                                  ...   ...           ...   \n",
       "63412                                             Zortch  2023          3.50   \n",
       "63418  Rome: The Mystery of the Chronovisor - Hidden ...  2023         14.74   \n",
       "63437                   Dark Skies: The Nemansk Incident  2023          3.50   \n",
       "63439                                       Shame Legacy  2023          2.38   \n",
       "63440                Melon Journey: Bittersweet Memories  2023          5.50   \n",
       "\n",
       "       to_beat_completionist  \n",
       "0                       9.73  \n",
       "2                      18.40  \n",
       "3                      15.37  \n",
       "4                      14.51  \n",
       "6                      73.92  \n",
       "...                      ...  \n",
       "63412                   6.00  \n",
       "63418                  18.90  \n",
       "63437                   6.00  \n",
       "63439                   3.38  \n",
       "63440                   6.50  \n",
       "\n",
       "[12555 rows x 4 columns]"
      ]
     },
     "execution_count": 36,
     "metadata": {},
     "output_type": "execute_result"
    }
   ],
   "source": [
    "df_q1 = df_q1.dropna(subset=['to_beat_main', 'to_beat_completionist'])\n",
    "df_q1"
   ]
  },
  {
   "cell_type": "code",
   "execution_count": 37,
   "metadata": {},
   "outputs": [
    {
     "name": "stdout",
     "output_type": "stream",
     "text": [
      "<class 'pandas.core.frame.DataFrame'>\n",
      "Index: 12555 entries, 0 to 63440\n",
      "Data columns (total 4 columns):\n",
      " #   Column                 Non-Null Count  Dtype  \n",
      "---  ------                 --------------  -----  \n",
      " 0   name                   12555 non-null  object \n",
      " 1   year                   12555 non-null  int64  \n",
      " 2   to_beat_main           12555 non-null  float64\n",
      " 3   to_beat_completionist  12555 non-null  float64\n",
      "dtypes: float64(2), int64(1), object(1)\n",
      "memory usage: 490.4+ KB\n"
     ]
    }
   ],
   "source": [
    "df_q1.info()"
   ]
  },
  {
   "cell_type": "markdown",
   "metadata": {},
   "source": [
    "$\\rightarrow$ The dataset is still **big** enough for analysis ($12555$ samples)."
   ]
  },
  {
   "cell_type": "markdown",
   "metadata": {},
   "source": [
    "#### 4.1.2. Preprocessing for question 2 ####"
   ]
  },
  {
   "cell_type": "markdown",
   "metadata": {},
   "source": [
    "- Based on the distribution, the missing values of ```reviewer_rating``` and ```positivity_ratio``` will be filled by their **median**"
   ]
  },
  {
   "cell_type": "code",
   "execution_count": 38,
   "metadata": {},
   "outputs": [],
   "source": [
    "df['reviewer_rating'] = df['reviewer_rating'].fillna(df['reviewer_rating'].median())\n",
    "df['positivity_ratio'] = df['positivity_ratio'].fillna(df['positivity_ratio'].median())"
   ]
  },
  {
   "cell_type": "markdown",
   "metadata": {},
   "source": [
    "- Convert ```reviewer_rating``` column into ```int``` type"
   ]
  },
  {
   "cell_type": "code",
   "execution_count": 39,
   "metadata": {},
   "outputs": [],
   "source": [
    "df['reviewer_rating'] = df['reviewer_rating'].astype('int64')"
   ]
  },
  {
   "cell_type": "markdown",
   "metadata": {},
   "source": [
    "- Create dataframe for answering question 2 and drop unnecessary columns"
   ]
  },
  {
   "cell_type": "code",
   "execution_count": 40,
   "metadata": {},
   "outputs": [],
   "source": [
    "df_q2 = df.drop(columns=['to_beat_main', 'to_beat_completionist'])"
   ]
  },
  {
   "cell_type": "markdown",
   "metadata": {},
   "source": [
    "- Add ```Singleplayer / Multiplayer``` column, extracted from ```tags``` and drop the ```tags``` column"
   ]
  },
  {
   "cell_type": "code",
   "execution_count": 41,
   "metadata": {},
   "outputs": [],
   "source": [
    "def play_mode(tags):\n",
    "    if \"Singleplayer\" in tags and \"Multiplayer\" in tags:\n",
    "        return \"Both\"\n",
    "    elif \"Singleplayer\" in tags:\n",
    "        return \"Singleplayer\"\n",
    "    elif \"Multiplayer\" in tags:\n",
    "        return \"Multiplayer\"\n",
    "    else:\n",
    "        return \"None\"\n",
    "\n",
    "df_q2['Singleplayer / Multiplayer'] = [play_mode(tag) for tag in df_q2['tags']]\n",
    "df_q2 = df_q2.drop(columns='tags')"
   ]
  },
  {
   "cell_type": "code",
   "execution_count": 42,
   "metadata": {},
   "outputs": [
    {
     "name": "stdout",
     "output_type": "stream",
     "text": [
      "<class 'pandas.core.frame.DataFrame'>\n",
      "RangeIndex: 63443 entries, 0 to 63442\n",
      "Data columns (total 5 columns):\n",
      " #   Column                      Non-Null Count  Dtype  \n",
      "---  ------                      --------------  -----  \n",
      " 0   name                        63443 non-null  object \n",
      " 1   year                        63443 non-null  int64  \n",
      " 2   reviewer_rating             63443 non-null  int64  \n",
      " 3   positivity_ratio            63443 non-null  float64\n",
      " 4   Singleplayer / Multiplayer  63443 non-null  object \n",
      "dtypes: float64(1), int64(2), object(2)\n",
      "memory usage: 2.4+ MB\n"
     ]
    }
   ],
   "source": [
    "df_q2.info()"
   ]
  },
  {
   "cell_type": "markdown",
   "metadata": {},
   "source": [
    "### 4.2. Answering Question 1: "
   ]
  },
  {
   "cell_type": "markdown",
   "metadata": {},
   "source": [
    "- We will focus on these following attributes:\n",
    "    - ```to_beat_main```: Time required to beat the main plot of the game (main content).\n",
    "    - ```to_beat_completionist```: Time required to complete every single objective of the game including gathering all collectibles (main and extra content).\n",
    "\n",
    "$\\rightarrow$ Calculate the time allocation (in percentage) between the main content and the total content of each game."
   ]
  },
  {
   "cell_type": "code",
   "execution_count": 43,
   "metadata": {},
   "outputs": [
    {
     "data": {
      "text/html": [
       "<div>\n",
       "<style scoped>\n",
       "    .dataframe tbody tr th:only-of-type {\n",
       "        vertical-align: middle;\n",
       "    }\n",
       "\n",
       "    .dataframe tbody tr th {\n",
       "        vertical-align: top;\n",
       "    }\n",
       "\n",
       "    .dataframe thead th {\n",
       "        text-align: right;\n",
       "    }\n",
       "</style>\n",
       "<table border=\"1\" class=\"dataframe\">\n",
       "  <thead>\n",
       "    <tr style=\"text-align: right;\">\n",
       "      <th></th>\n",
       "      <th>name</th>\n",
       "      <th>year</th>\n",
       "      <th>to_beat_main</th>\n",
       "      <th>to_beat_completionist</th>\n",
       "      <th>main_content_time_allocation</th>\n",
       "    </tr>\n",
       "  </thead>\n",
       "  <tbody>\n",
       "    <tr>\n",
       "      <th>21108</th>\n",
       "      <td>11-11 Memories Retold</td>\n",
       "      <td>2018</td>\n",
       "      <td>57.62</td>\n",
       "      <td>52.90</td>\n",
       "      <td>108.922495</td>\n",
       "    </tr>\n",
       "    <tr>\n",
       "      <th>25759</th>\n",
       "      <td>ART SQOOL</td>\n",
       "      <td>2019</td>\n",
       "      <td>2.51</td>\n",
       "      <td>2.43</td>\n",
       "      <td>103.292181</td>\n",
       "    </tr>\n",
       "    <tr>\n",
       "      <th>4889</th>\n",
       "      <td>BeamNG.drive</td>\n",
       "      <td>2015</td>\n",
       "      <td>7.91</td>\n",
       "      <td>7.84</td>\n",
       "      <td>100.892857</td>\n",
       "    </tr>\n",
       "    <tr>\n",
       "      <th>53466</th>\n",
       "      <td>Space Route</td>\n",
       "      <td>2022</td>\n",
       "      <td>2.50</td>\n",
       "      <td>2.50</td>\n",
       "      <td>100.000000</td>\n",
       "    </tr>\n",
       "    <tr>\n",
       "      <th>19832</th>\n",
       "      <td>Ayahuasca: Polyventure</td>\n",
       "      <td>2018</td>\n",
       "      <td>0.47</td>\n",
       "      <td>0.47</td>\n",
       "      <td>100.000000</td>\n",
       "    </tr>\n",
       "    <tr>\n",
       "      <th>...</th>\n",
       "      <td>...</td>\n",
       "      <td>...</td>\n",
       "      <td>...</td>\n",
       "      <td>...</td>\n",
       "      <td>...</td>\n",
       "    </tr>\n",
       "    <tr>\n",
       "      <th>60531</th>\n",
       "      <td>Spin Rhythm XD</td>\n",
       "      <td>2023</td>\n",
       "      <td>3.29</td>\n",
       "      <td>1104.83</td>\n",
       "      <td>0.297783</td>\n",
       "    </tr>\n",
       "    <tr>\n",
       "      <th>52315</th>\n",
       "      <td>SudoKube</td>\n",
       "      <td>2022</td>\n",
       "      <td>0.07</td>\n",
       "      <td>49.58</td>\n",
       "      <td>0.141186</td>\n",
       "    </tr>\n",
       "    <tr>\n",
       "      <th>16078</th>\n",
       "      <td>Sudokube</td>\n",
       "      <td>2017</td>\n",
       "      <td>0.07</td>\n",
       "      <td>49.58</td>\n",
       "      <td>0.141186</td>\n",
       "    </tr>\n",
       "    <tr>\n",
       "      <th>42152</th>\n",
       "      <td>Amazing Fix</td>\n",
       "      <td>2021</td>\n",
       "      <td>2.00</td>\n",
       "      <td>1654.76</td>\n",
       "      <td>0.120863</td>\n",
       "    </tr>\n",
       "    <tr>\n",
       "      <th>4403</th>\n",
       "      <td>SMITE®</td>\n",
       "      <td>2015</td>\n",
       "      <td>2.90</td>\n",
       "      <td>15316.17</td>\n",
       "      <td>0.018934</td>\n",
       "    </tr>\n",
       "  </tbody>\n",
       "</table>\n",
       "<p>12555 rows × 5 columns</p>\n",
       "</div>"
      ],
      "text/plain": [
       "                         name  year  to_beat_main  to_beat_completionist  \\\n",
       "21108   11-11 Memories Retold  2018         57.62                  52.90   \n",
       "25759               ART SQOOL  2019          2.51                   2.43   \n",
       "4889             BeamNG.drive  2015          7.91                   7.84   \n",
       "53466             Space Route  2022          2.50                   2.50   \n",
       "19832  Ayahuasca: Polyventure  2018          0.47                   0.47   \n",
       "...                       ...   ...           ...                    ...   \n",
       "60531          Spin Rhythm XD  2023          3.29                1104.83   \n",
       "52315                SudoKube  2022          0.07                  49.58   \n",
       "16078                Sudokube  2017          0.07                  49.58   \n",
       "42152             Amazing Fix  2021          2.00                1654.76   \n",
       "4403                   SMITE®  2015          2.90               15316.17   \n",
       "\n",
       "       main_content_time_allocation  \n",
       "21108                    108.922495  \n",
       "25759                    103.292181  \n",
       "4889                     100.892857  \n",
       "53466                    100.000000  \n",
       "19832                    100.000000  \n",
       "...                             ...  \n",
       "60531                      0.297783  \n",
       "52315                      0.141186  \n",
       "16078                      0.141186  \n",
       "42152                      0.120863  \n",
       "4403                       0.018934  \n",
       "\n",
       "[12555 rows x 5 columns]"
      ]
     },
     "execution_count": 43,
     "metadata": {},
     "output_type": "execute_result"
    }
   ],
   "source": [
    "df_q1 = df_q1.copy()\n",
    "# Calculate\n",
    "df_q1['main_content_time_allocation'] = df_q1['to_beat_main'] / df_q1['to_beat_completionist'] * 100 # By percentage\n",
    "# Sort by main_content_time_allocation column in the descending order\n",
    "df_q1 = df_q1.sort_values(by='main_content_time_allocation', ascending=False)\n",
    "df_q1"
   ]
  },
  {
   "cell_type": "markdown",
   "metadata": {},
   "source": [
    "- There is a **conflict** here as the allocated time for main content **exceeds** the total content in some games ($>100 \\%$) $\\rightarrow$ **Remove** these rows"
   ]
  },
  {
   "cell_type": "code",
   "execution_count": 44,
   "metadata": {},
   "outputs": [
    {
     "data": {
      "text/html": [
       "<div>\n",
       "<style scoped>\n",
       "    .dataframe tbody tr th:only-of-type {\n",
       "        vertical-align: middle;\n",
       "    }\n",
       "\n",
       "    .dataframe tbody tr th {\n",
       "        vertical-align: top;\n",
       "    }\n",
       "\n",
       "    .dataframe thead th {\n",
       "        text-align: right;\n",
       "    }\n",
       "</style>\n",
       "<table border=\"1\" class=\"dataframe\">\n",
       "  <thead>\n",
       "    <tr style=\"text-align: right;\">\n",
       "      <th></th>\n",
       "      <th>name</th>\n",
       "      <th>year</th>\n",
       "      <th>to_beat_main</th>\n",
       "      <th>to_beat_completionist</th>\n",
       "      <th>main_content_time_allocation</th>\n",
       "    </tr>\n",
       "  </thead>\n",
       "  <tbody>\n",
       "    <tr>\n",
       "      <th>53466</th>\n",
       "      <td>Space Route</td>\n",
       "      <td>2022</td>\n",
       "      <td>2.50</td>\n",
       "      <td>2.50</td>\n",
       "      <td>100.000000</td>\n",
       "    </tr>\n",
       "    <tr>\n",
       "      <th>19832</th>\n",
       "      <td>Ayahuasca: Polyventure</td>\n",
       "      <td>2018</td>\n",
       "      <td>0.47</td>\n",
       "      <td>0.47</td>\n",
       "      <td>100.000000</td>\n",
       "    </tr>\n",
       "    <tr>\n",
       "      <th>50785</th>\n",
       "      <td>Hell Mission</td>\n",
       "      <td>2022</td>\n",
       "      <td>4.00</td>\n",
       "      <td>4.00</td>\n",
       "      <td>100.000000</td>\n",
       "    </tr>\n",
       "    <tr>\n",
       "      <th>61707</th>\n",
       "      <td>Day of the dead</td>\n",
       "      <td>2023</td>\n",
       "      <td>12.05</td>\n",
       "      <td>12.05</td>\n",
       "      <td>100.000000</td>\n",
       "    </tr>\n",
       "    <tr>\n",
       "      <th>62377</th>\n",
       "      <td>RE:CALL</td>\n",
       "      <td>2023</td>\n",
       "      <td>0.47</td>\n",
       "      <td>0.47</td>\n",
       "      <td>100.000000</td>\n",
       "    </tr>\n",
       "    <tr>\n",
       "      <th>...</th>\n",
       "      <td>...</td>\n",
       "      <td>...</td>\n",
       "      <td>...</td>\n",
       "      <td>...</td>\n",
       "      <td>...</td>\n",
       "    </tr>\n",
       "    <tr>\n",
       "      <th>60531</th>\n",
       "      <td>Spin Rhythm XD</td>\n",
       "      <td>2023</td>\n",
       "      <td>3.29</td>\n",
       "      <td>1104.83</td>\n",
       "      <td>0.297783</td>\n",
       "    </tr>\n",
       "    <tr>\n",
       "      <th>52315</th>\n",
       "      <td>SudoKube</td>\n",
       "      <td>2022</td>\n",
       "      <td>0.07</td>\n",
       "      <td>49.58</td>\n",
       "      <td>0.141186</td>\n",
       "    </tr>\n",
       "    <tr>\n",
       "      <th>16078</th>\n",
       "      <td>Sudokube</td>\n",
       "      <td>2017</td>\n",
       "      <td>0.07</td>\n",
       "      <td>49.58</td>\n",
       "      <td>0.141186</td>\n",
       "    </tr>\n",
       "    <tr>\n",
       "      <th>42152</th>\n",
       "      <td>Amazing Fix</td>\n",
       "      <td>2021</td>\n",
       "      <td>2.00</td>\n",
       "      <td>1654.76</td>\n",
       "      <td>0.120863</td>\n",
       "    </tr>\n",
       "    <tr>\n",
       "      <th>4403</th>\n",
       "      <td>SMITE®</td>\n",
       "      <td>2015</td>\n",
       "      <td>2.90</td>\n",
       "      <td>15316.17</td>\n",
       "      <td>0.018934</td>\n",
       "    </tr>\n",
       "  </tbody>\n",
       "</table>\n",
       "<p>12552 rows × 5 columns</p>\n",
       "</div>"
      ],
      "text/plain": [
       "                         name  year  to_beat_main  to_beat_completionist  \\\n",
       "53466             Space Route  2022          2.50                   2.50   \n",
       "19832  Ayahuasca: Polyventure  2018          0.47                   0.47   \n",
       "50785            Hell Mission  2022          4.00                   4.00   \n",
       "61707         Day of the dead  2023         12.05                  12.05   \n",
       "62377                 RE:CALL  2023          0.47                   0.47   \n",
       "...                       ...   ...           ...                    ...   \n",
       "60531          Spin Rhythm XD  2023          3.29                1104.83   \n",
       "52315                SudoKube  2022          0.07                  49.58   \n",
       "16078                Sudokube  2017          0.07                  49.58   \n",
       "42152             Amazing Fix  2021          2.00                1654.76   \n",
       "4403                   SMITE®  2015          2.90               15316.17   \n",
       "\n",
       "       main_content_time_allocation  \n",
       "53466                    100.000000  \n",
       "19832                    100.000000  \n",
       "50785                    100.000000  \n",
       "61707                    100.000000  \n",
       "62377                    100.000000  \n",
       "...                             ...  \n",
       "60531                      0.297783  \n",
       "52315                      0.141186  \n",
       "16078                      0.141186  \n",
       "42152                      0.120863  \n",
       "4403                       0.018934  \n",
       "\n",
       "[12552 rows x 5 columns]"
      ]
     },
     "execution_count": 44,
     "metadata": {},
     "output_type": "execute_result"
    }
   ],
   "source": [
    "# Only keep rows have valid main_content_time_allocation (<= 100)\n",
    "df_q1 = df_q1[df_q1['main_content_time_allocation'] <= 100]\n",
    "df_q1"
   ]
  },
  {
   "cell_type": "markdown",
   "metadata": {},
   "source": [
    "- Calculate the average time allocation for main content of all games each year:"
   ]
  },
  {
   "cell_type": "code",
   "execution_count": 45,
   "metadata": {},
   "outputs": [
    {
     "data": {
      "text/html": [
       "<div>\n",
       "<style scoped>\n",
       "    .dataframe tbody tr th:only-of-type {\n",
       "        vertical-align: middle;\n",
       "    }\n",
       "\n",
       "    .dataframe tbody tr th {\n",
       "        vertical-align: top;\n",
       "    }\n",
       "\n",
       "    .dataframe thead th {\n",
       "        text-align: right;\n",
       "    }\n",
       "</style>\n",
       "<table border=\"1\" class=\"dataframe\">\n",
       "  <thead>\n",
       "    <tr style=\"text-align: right;\">\n",
       "      <th></th>\n",
       "      <th>main_content_time_allocation</th>\n",
       "    </tr>\n",
       "    <tr>\n",
       "      <th>year</th>\n",
       "      <th></th>\n",
       "    </tr>\n",
       "  </thead>\n",
       "  <tbody>\n",
       "    <tr>\n",
       "      <th>1997</th>\n",
       "      <td>26.104830</td>\n",
       "    </tr>\n",
       "    <tr>\n",
       "      <th>1998</th>\n",
       "      <td>93.315217</td>\n",
       "    </tr>\n",
       "    <tr>\n",
       "      <th>1999</th>\n",
       "      <td>79.924486</td>\n",
       "    </tr>\n",
       "    <tr>\n",
       "      <th>2000</th>\n",
       "      <td>75.626003</td>\n",
       "    </tr>\n",
       "    <tr>\n",
       "      <th>2001</th>\n",
       "      <td>73.097043</td>\n",
       "    </tr>\n",
       "    <tr>\n",
       "      <th>2002</th>\n",
       "      <td>77.520502</td>\n",
       "    </tr>\n",
       "    <tr>\n",
       "      <th>2003</th>\n",
       "      <td>22.758150</td>\n",
       "    </tr>\n",
       "    <tr>\n",
       "      <th>2004</th>\n",
       "      <td>49.714471</td>\n",
       "    </tr>\n",
       "    <tr>\n",
       "      <th>2005</th>\n",
       "      <td>47.036250</td>\n",
       "    </tr>\n",
       "    <tr>\n",
       "      <th>2006</th>\n",
       "      <td>48.678151</td>\n",
       "    </tr>\n",
       "    <tr>\n",
       "      <th>2007</th>\n",
       "      <td>56.483306</td>\n",
       "    </tr>\n",
       "    <tr>\n",
       "      <th>2008</th>\n",
       "      <td>56.774616</td>\n",
       "    </tr>\n",
       "    <tr>\n",
       "      <th>2009</th>\n",
       "      <td>58.141053</td>\n",
       "    </tr>\n",
       "    <tr>\n",
       "      <th>2010</th>\n",
       "      <td>46.955016</td>\n",
       "    </tr>\n",
       "    <tr>\n",
       "      <th>2011</th>\n",
       "      <td>46.799839</td>\n",
       "    </tr>\n",
       "    <tr>\n",
       "      <th>2012</th>\n",
       "      <td>45.960322</td>\n",
       "    </tr>\n",
       "    <tr>\n",
       "      <th>2013</th>\n",
       "      <td>46.725154</td>\n",
       "    </tr>\n",
       "    <tr>\n",
       "      <th>2014</th>\n",
       "      <td>51.056516</td>\n",
       "    </tr>\n",
       "    <tr>\n",
       "      <th>2015</th>\n",
       "      <td>50.820039</td>\n",
       "    </tr>\n",
       "    <tr>\n",
       "      <th>2016</th>\n",
       "      <td>51.716355</td>\n",
       "    </tr>\n",
       "    <tr>\n",
       "      <th>2017</th>\n",
       "      <td>52.872317</td>\n",
       "    </tr>\n",
       "    <tr>\n",
       "      <th>2018</th>\n",
       "      <td>53.478501</td>\n",
       "    </tr>\n",
       "    <tr>\n",
       "      <th>2019</th>\n",
       "      <td>52.437715</td>\n",
       "    </tr>\n",
       "    <tr>\n",
       "      <th>2020</th>\n",
       "      <td>53.147633</td>\n",
       "    </tr>\n",
       "    <tr>\n",
       "      <th>2021</th>\n",
       "      <td>53.844669</td>\n",
       "    </tr>\n",
       "    <tr>\n",
       "      <th>2022</th>\n",
       "      <td>53.017615</td>\n",
       "    </tr>\n",
       "    <tr>\n",
       "      <th>2023</th>\n",
       "      <td>53.337246</td>\n",
       "    </tr>\n",
       "  </tbody>\n",
       "</table>\n",
       "</div>"
      ],
      "text/plain": [
       "      main_content_time_allocation\n",
       "year                              \n",
       "1997                     26.104830\n",
       "1998                     93.315217\n",
       "1999                     79.924486\n",
       "2000                     75.626003\n",
       "2001                     73.097043\n",
       "2002                     77.520502\n",
       "2003                     22.758150\n",
       "2004                     49.714471\n",
       "2005                     47.036250\n",
       "2006                     48.678151\n",
       "2007                     56.483306\n",
       "2008                     56.774616\n",
       "2009                     58.141053\n",
       "2010                     46.955016\n",
       "2011                     46.799839\n",
       "2012                     45.960322\n",
       "2013                     46.725154\n",
       "2014                     51.056516\n",
       "2015                     50.820039\n",
       "2016                     51.716355\n",
       "2017                     52.872317\n",
       "2018                     53.478501\n",
       "2019                     52.437715\n",
       "2020                     53.147633\n",
       "2021                     53.844669\n",
       "2022                     53.017615\n",
       "2023                     53.337246"
      ]
     },
     "execution_count": 45,
     "metadata": {},
     "output_type": "execute_result"
    }
   ],
   "source": [
    "# Calculate\n",
    "avg_time_allocation_by_year = df_q1.groupby('year')[['main_content_time_allocation']].mean()\n",
    "avg_time_allocation_by_year"
   ]
  },
  {
   "cell_type": "code",
   "execution_count": 46,
   "metadata": {},
   "outputs": [
    {
     "data": {
      "image/png": "[encoded data removed]",
      "text/plain": [
       "<Figure size 1200x600 with 1 Axes>"
      ]
     },
     "metadata": {},
     "output_type": "display_data"
    }
   ],
   "source": [
    "# Visualize by line chart\n",
    "plt.figure(figsize=(12, 6))\n",
    "plt.plot(avg_time_allocation_by_year.index, avg_time_allocation_by_year['main_content_time_allocation'], marker='o', label='Main Content Time Allocation')\n",
    "plt.title('Average Time Allocation for Main Content by Year', fontsize=16)\n",
    "plt.xlabel('Year', fontsize=12)\n",
    "plt.ylabel('Average Time Allocation (%)', fontsize=12)\n",
    "plt.grid(True)\n",
    "\n",
    "plt.tight_layout()\n",
    "plt.show()"
   ]
  },
  {
   "cell_type": "markdown",
   "metadata": {},
   "source": [
    "#### Comments:\n",
    "- **Before** 2004: Games tended to focus **exclusively** on **either** main content or extra content.\n",
    "- **From** 2004 **onward**: Games began to **balance** between main content and extra content, with a distribution hovering **around** $50 \\%$.\n",
    "- **During a short period** from 2007 to 2009, the allocation of time to main content **slightly increased** (approaching $60 \\%$) but subsequently **returned** to a **balanced** level ($50 \\%$).\n",
    "- **From** 2010 to the **present**: The allocation of time for main content has shown a **slight upward** trend over time, but the **differences** between years are **minimal**."
   ]
  },
  {
   "cell_type": "markdown",
   "metadata": {},
   "source": [
    "#### Conclusions:\n",
    "- Recent games tend to strike a **balance** between the time allocated for **main** content and **extra** content, ensuring that the **core narrative** each game aims to convey is delivered, while also providing **variety and richness** $\\rightarrow$ Help **avoid** boredom and fatigue for players."
   ]
  },
  {
   "cell_type": "markdown",
   "metadata": {},
   "source": [
    "### 4.3. Answering Question 2: "
   ]
  },
  {
   "cell_type": "markdown",
   "metadata": {},
   "source": [
    "#### Strategies explanation:\n",
    "- In this question, we might have some concerns: **Why** do we only use **reviews from game reviewers** (```reviewer_rating```) to make **general rating** of games instead of **compiling reviews** from both them and **regular gamers** (```positvity_ratio```)?\n",
    "- First, we will check the correlation between the two attributes ```reviewer_rating``` and ```positivity_ratio```:"
   ]
  },
  {
   "cell_type": "code",
   "execution_count": 47,
   "metadata": {},
   "outputs": [
    {
     "data": {
      "text/html": [
       "<div>\n",
       "<style scoped>\n",
       "    .dataframe tbody tr th:only-of-type {\n",
       "        vertical-align: middle;\n",
       "    }\n",
       "\n",
       "    .dataframe tbody tr th {\n",
       "        vertical-align: top;\n",
       "    }\n",
       "\n",
       "    .dataframe thead th {\n",
       "        text-align: right;\n",
       "    }\n",
       "</style>\n",
       "<table border=\"1\" class=\"dataframe\">\n",
       "  <thead>\n",
       "    <tr style=\"text-align: right;\">\n",
       "      <th></th>\n",
       "      <th>reviewer_rating</th>\n",
       "      <th>positivity_ratio</th>\n",
       "    </tr>\n",
       "  </thead>\n",
       "  <tbody>\n",
       "    <tr>\n",
       "      <th>reviewer_rating</th>\n",
       "      <td>1.000000</td>\n",
       "      <td>0.510751</td>\n",
       "    </tr>\n",
       "    <tr>\n",
       "      <th>positivity_ratio</th>\n",
       "      <td>0.510751</td>\n",
       "      <td>1.000000</td>\n",
       "    </tr>\n",
       "  </tbody>\n",
       "</table>\n",
       "</div>"
      ],
      "text/plain": [
       "                  reviewer_rating  positivity_ratio\n",
       "reviewer_rating          1.000000          0.510751\n",
       "positivity_ratio         0.510751          1.000000"
      ]
     },
     "execution_count": 47,
     "metadata": {},
     "output_type": "execute_result"
    }
   ],
   "source": [
    "correlation = df_q2[['reviewer_rating', 'positivity_ratio']].corr()\n",
    "correlation"
   ]
  },
  {
   "cell_type": "markdown",
   "metadata": {},
   "source": [
    "$\\rightarrow$ We can see that the **correlation** between these two columns is only **moderate positive** (~0.511)."
   ]
  },
  {
   "cell_type": "markdown",
   "metadata": {},
   "source": [
    "We will **analyze** ```positivity_ratio``` column as follows:\n",
    "- ```positivity_ratio``` column provides information about the ratio of the number of positive reviews to the number of negative reviews from players.\n",
    "- To make the data in this column more **intuitive**, we will create a **new column**, ```overall_positivity_ratio```. This column will indicate the **ratio** of **positive** reviews to the **total** number of reviews from players.\n",
    "- Formula: $\\text{Overall Positivity Ratio} = \\frac{\\text{Positivity Ratio}}{\\text{Positivity Ratio} + 1}, \\text{Positivity Ratio} \\geq 0$"
   ]
  },
  {
   "cell_type": "code",
   "execution_count": 48,
   "metadata": {},
   "outputs": [
    {
     "data": {
      "text/html": [
       "<div>\n",
       "<style scoped>\n",
       "    .dataframe tbody tr th:only-of-type {\n",
       "        vertical-align: middle;\n",
       "    }\n",
       "\n",
       "    .dataframe tbody tr th {\n",
       "        vertical-align: top;\n",
       "    }\n",
       "\n",
       "    .dataframe thead th {\n",
       "        text-align: right;\n",
       "    }\n",
       "</style>\n",
       "<table border=\"1\" class=\"dataframe\">\n",
       "  <thead>\n",
       "    <tr style=\"text-align: right;\">\n",
       "      <th></th>\n",
       "      <th>name</th>\n",
       "      <th>year</th>\n",
       "      <th>reviewer_rating</th>\n",
       "      <th>positivity_ratio</th>\n",
       "      <th>Singleplayer / Multiplayer</th>\n",
       "      <th>overall_positivity_ratio</th>\n",
       "    </tr>\n",
       "  </thead>\n",
       "  <tbody>\n",
       "    <tr>\n",
       "      <th>0</th>\n",
       "      <td>POSTAL</td>\n",
       "      <td>1997</td>\n",
       "      <td>8</td>\n",
       "      <td>7.791457</td>\n",
       "      <td>Both</td>\n",
       "      <td>0.886253</td>\n",
       "    </tr>\n",
       "    <tr>\n",
       "      <th>1</th>\n",
       "      <td>Carmageddon Max Pack</td>\n",
       "      <td>1997</td>\n",
       "      <td>8</td>\n",
       "      <td>7.906977</td>\n",
       "      <td>Both</td>\n",
       "      <td>0.887728</td>\n",
       "    </tr>\n",
       "    <tr>\n",
       "      <th>2</th>\n",
       "      <td>Half-Life</td>\n",
       "      <td>1998</td>\n",
       "      <td>9</td>\n",
       "      <td>27.847231</td>\n",
       "      <td>Both</td>\n",
       "      <td>0.965335</td>\n",
       "    </tr>\n",
       "    <tr>\n",
       "      <th>3</th>\n",
       "      <td>Half-Life: Opposing Force</td>\n",
       "      <td>1999</td>\n",
       "      <td>9</td>\n",
       "      <td>19.693287</td>\n",
       "      <td>Singleplayer</td>\n",
       "      <td>0.951675</td>\n",
       "    </tr>\n",
       "    <tr>\n",
       "      <th>4</th>\n",
       "      <td>Legacy of Kain: Soul Reaver</td>\n",
       "      <td>1999</td>\n",
       "      <td>6</td>\n",
       "      <td>2.795309</td>\n",
       "      <td>Singleplayer</td>\n",
       "      <td>0.736517</td>\n",
       "    </tr>\n",
       "    <tr>\n",
       "      <th>...</th>\n",
       "      <td>...</td>\n",
       "      <td>...</td>\n",
       "      <td>...</td>\n",
       "      <td>...</td>\n",
       "      <td>...</td>\n",
       "      <td>...</td>\n",
       "    </tr>\n",
       "    <tr>\n",
       "      <th>63438</th>\n",
       "      <td>Mr. Hopp's Playhouse 3</td>\n",
       "      <td>2023</td>\n",
       "      <td>8</td>\n",
       "      <td>11.000000</td>\n",
       "      <td>Singleplayer</td>\n",
       "      <td>0.916667</td>\n",
       "    </tr>\n",
       "    <tr>\n",
       "      <th>63439</th>\n",
       "      <td>Shame Legacy</td>\n",
       "      <td>2023</td>\n",
       "      <td>5</td>\n",
       "      <td>1.439024</td>\n",
       "      <td>Singleplayer</td>\n",
       "      <td>0.590000</td>\n",
       "    </tr>\n",
       "    <tr>\n",
       "      <th>63440</th>\n",
       "      <td>Melon Journey: Bittersweet Memories</td>\n",
       "      <td>2023</td>\n",
       "      <td>8</td>\n",
       "      <td>6.875000</td>\n",
       "      <td>None</td>\n",
       "      <td>0.873016</td>\n",
       "    </tr>\n",
       "    <tr>\n",
       "      <th>63441</th>\n",
       "      <td>Forest Of Relics</td>\n",
       "      <td>2023</td>\n",
       "      <td>8</td>\n",
       "      <td>8.000000</td>\n",
       "      <td>Singleplayer</td>\n",
       "      <td>0.888889</td>\n",
       "    </tr>\n",
       "    <tr>\n",
       "      <th>63442</th>\n",
       "      <td>Substance 3D Sampler 2023</td>\n",
       "      <td>2023</td>\n",
       "      <td>6</td>\n",
       "      <td>6.000000</td>\n",
       "      <td>None</td>\n",
       "      <td>0.857143</td>\n",
       "    </tr>\n",
       "  </tbody>\n",
       "</table>\n",
       "<p>63443 rows × 6 columns</p>\n",
       "</div>"
      ],
      "text/plain": [
       "                                      name  year  reviewer_rating  \\\n",
       "0                                   POSTAL  1997                8   \n",
       "1                     Carmageddon Max Pack  1997                8   \n",
       "2                                Half-Life  1998                9   \n",
       "3                Half-Life: Opposing Force  1999                9   \n",
       "4              Legacy of Kain: Soul Reaver  1999                6   \n",
       "...                                    ...   ...              ...   \n",
       "63438               Mr. Hopp's Playhouse 3  2023                8   \n",
       "63439                         Shame Legacy  2023                5   \n",
       "63440  Melon Journey: Bittersweet Memories  2023                8   \n",
       "63441                     Forest Of Relics  2023                8   \n",
       "63442            Substance 3D Sampler 2023  2023                6   \n",
       "\n",
       "       positivity_ratio Singleplayer / Multiplayer  overall_positivity_ratio  \n",
       "0              7.791457                       Both                  0.886253  \n",
       "1              7.906977                       Both                  0.887728  \n",
       "2             27.847231                       Both                  0.965335  \n",
       "3             19.693287               Singleplayer                  0.951675  \n",
       "4              2.795309               Singleplayer                  0.736517  \n",
       "...                 ...                        ...                       ...  \n",
       "63438         11.000000               Singleplayer                  0.916667  \n",
       "63439          1.439024               Singleplayer                  0.590000  \n",
       "63440          6.875000                       None                  0.873016  \n",
       "63441          8.000000               Singleplayer                  0.888889  \n",
       "63442          6.000000                       None                  0.857143  \n",
       "\n",
       "[63443 rows x 6 columns]"
      ]
     },
     "execution_count": 48,
     "metadata": {},
     "output_type": "execute_result"
    }
   ],
   "source": [
    "df_q2['overall_positivity_ratio'] = df_q2['positivity_ratio'] / (df_q2['positivity_ratio'] + 1)\n",
    "df_q2"
   ]
  },
  {
   "cell_type": "markdown",
   "metadata": {},
   "source": [
    "- Check the correlation between ```reviewer_rating``` and ```overall_positivity_ratio```:"
   ]
  },
  {
   "cell_type": "code",
   "execution_count": 49,
   "metadata": {},
   "outputs": [
    {
     "data": {
      "text/html": [
       "<div>\n",
       "<style scoped>\n",
       "    .dataframe tbody tr th:only-of-type {\n",
       "        vertical-align: middle;\n",
       "    }\n",
       "\n",
       "    .dataframe tbody tr th {\n",
       "        vertical-align: top;\n",
       "    }\n",
       "\n",
       "    .dataframe thead th {\n",
       "        text-align: right;\n",
       "    }\n",
       "</style>\n",
       "<table border=\"1\" class=\"dataframe\">\n",
       "  <thead>\n",
       "    <tr style=\"text-align: right;\">\n",
       "      <th></th>\n",
       "      <th>reviewer_rating</th>\n",
       "      <th>overall_positivity_ratio</th>\n",
       "    </tr>\n",
       "  </thead>\n",
       "  <tbody>\n",
       "    <tr>\n",
       "      <th>reviewer_rating</th>\n",
       "      <td>1.000000</td>\n",
       "      <td>0.746752</td>\n",
       "    </tr>\n",
       "    <tr>\n",
       "      <th>overall_positivity_ratio</th>\n",
       "      <td>0.746752</td>\n",
       "      <td>1.000000</td>\n",
       "    </tr>\n",
       "  </tbody>\n",
       "</table>\n",
       "</div>"
      ],
      "text/plain": [
       "                          reviewer_rating  overall_positivity_ratio\n",
       "reviewer_rating                  1.000000                  0.746752\n",
       "overall_positivity_ratio         0.746752                  1.000000"
      ]
     },
     "execution_count": 49,
     "metadata": {},
     "output_type": "execute_result"
    }
   ],
   "source": [
    "correlation = df_q2[['reviewer_rating', 'overall_positivity_ratio']].corr()\n",
    "correlation"
   ]
  },
  {
   "cell_type": "markdown",
   "metadata": {},
   "source": [
    "- The **correlation** between these two columns is **strong positive** (~0.747) $\\rightarrow$ We **only** need to use the data from ```reviewer_rating``` column for the **overall rating** of games."
   ]
  },
  {
   "cell_type": "markdown",
   "metadata": {},
   "source": [
    "- Drop ```positivity_ratio``` and ```overall_positivity_ratio``` columns:"
   ]
  },
  {
   "cell_type": "code",
   "execution_count": 50,
   "metadata": {},
   "outputs": [
    {
     "data": {
      "text/html": [
       "<div>\n",
       "<style scoped>\n",
       "    .dataframe tbody tr th:only-of-type {\n",
       "        vertical-align: middle;\n",
       "    }\n",
       "\n",
       "    .dataframe tbody tr th {\n",
       "        vertical-align: top;\n",
       "    }\n",
       "\n",
       "    .dataframe thead th {\n",
       "        text-align: right;\n",
       "    }\n",
       "</style>\n",
       "<table border=\"1\" class=\"dataframe\">\n",
       "  <thead>\n",
       "    <tr style=\"text-align: right;\">\n",
       "      <th></th>\n",
       "      <th>name</th>\n",
       "      <th>year</th>\n",
       "      <th>reviewer_rating</th>\n",
       "      <th>Singleplayer / Multiplayer</th>\n",
       "    </tr>\n",
       "  </thead>\n",
       "  <tbody>\n",
       "    <tr>\n",
       "      <th>0</th>\n",
       "      <td>POSTAL</td>\n",
       "      <td>1997</td>\n",
       "      <td>8</td>\n",
       "      <td>Both</td>\n",
       "    </tr>\n",
       "    <tr>\n",
       "      <th>1</th>\n",
       "      <td>Carmageddon Max Pack</td>\n",
       "      <td>1997</td>\n",
       "      <td>8</td>\n",
       "      <td>Both</td>\n",
       "    </tr>\n",
       "    <tr>\n",
       "      <th>2</th>\n",
       "      <td>Half-Life</td>\n",
       "      <td>1998</td>\n",
       "      <td>9</td>\n",
       "      <td>Both</td>\n",
       "    </tr>\n",
       "    <tr>\n",
       "      <th>3</th>\n",
       "      <td>Half-Life: Opposing Force</td>\n",
       "      <td>1999</td>\n",
       "      <td>9</td>\n",
       "      <td>Singleplayer</td>\n",
       "    </tr>\n",
       "    <tr>\n",
       "      <th>4</th>\n",
       "      <td>Legacy of Kain: Soul Reaver</td>\n",
       "      <td>1999</td>\n",
       "      <td>6</td>\n",
       "      <td>Singleplayer</td>\n",
       "    </tr>\n",
       "    <tr>\n",
       "      <th>...</th>\n",
       "      <td>...</td>\n",
       "      <td>...</td>\n",
       "      <td>...</td>\n",
       "      <td>...</td>\n",
       "    </tr>\n",
       "    <tr>\n",
       "      <th>63438</th>\n",
       "      <td>Mr. Hopp's Playhouse 3</td>\n",
       "      <td>2023</td>\n",
       "      <td>8</td>\n",
       "      <td>Singleplayer</td>\n",
       "    </tr>\n",
       "    <tr>\n",
       "      <th>63439</th>\n",
       "      <td>Shame Legacy</td>\n",
       "      <td>2023</td>\n",
       "      <td>5</td>\n",
       "      <td>Singleplayer</td>\n",
       "    </tr>\n",
       "    <tr>\n",
       "      <th>63440</th>\n",
       "      <td>Melon Journey: Bittersweet Memories</td>\n",
       "      <td>2023</td>\n",
       "      <td>8</td>\n",
       "      <td>None</td>\n",
       "    </tr>\n",
       "    <tr>\n",
       "      <th>63441</th>\n",
       "      <td>Forest Of Relics</td>\n",
       "      <td>2023</td>\n",
       "      <td>8</td>\n",
       "      <td>Singleplayer</td>\n",
       "    </tr>\n",
       "    <tr>\n",
       "      <th>63442</th>\n",
       "      <td>Substance 3D Sampler 2023</td>\n",
       "      <td>2023</td>\n",
       "      <td>6</td>\n",
       "      <td>None</td>\n",
       "    </tr>\n",
       "  </tbody>\n",
       "</table>\n",
       "<p>63443 rows × 4 columns</p>\n",
       "</div>"
      ],
      "text/plain": [
       "                                      name  year  reviewer_rating  \\\n",
       "0                                   POSTAL  1997                8   \n",
       "1                     Carmageddon Max Pack  1997                8   \n",
       "2                                Half-Life  1998                9   \n",
       "3                Half-Life: Opposing Force  1999                9   \n",
       "4              Legacy of Kain: Soul Reaver  1999                6   \n",
       "...                                    ...   ...              ...   \n",
       "63438               Mr. Hopp's Playhouse 3  2023                8   \n",
       "63439                         Shame Legacy  2023                5   \n",
       "63440  Melon Journey: Bittersweet Memories  2023                8   \n",
       "63441                     Forest Of Relics  2023                8   \n",
       "63442            Substance 3D Sampler 2023  2023                6   \n",
       "\n",
       "      Singleplayer / Multiplayer  \n",
       "0                           Both  \n",
       "1                           Both  \n",
       "2                           Both  \n",
       "3                   Singleplayer  \n",
       "4                   Singleplayer  \n",
       "...                          ...  \n",
       "63438               Singleplayer  \n",
       "63439               Singleplayer  \n",
       "63440                       None  \n",
       "63441               Singleplayer  \n",
       "63442                       None  \n",
       "\n",
       "[63443 rows x 4 columns]"
      ]
     },
     "execution_count": 50,
     "metadata": {},
     "output_type": "execute_result"
    }
   ],
   "source": [
    "df_q2 = df_q2.drop(columns=['positivity_ratio', 'overall_positivity_ratio'])\n",
    "df_q2"
   ]
  },
  {
   "cell_type": "markdown",
   "metadata": {},
   "source": [
    "- **1st approach**: The average ```reviewer_rating``` for each game tag (**single-player**, **multiplayer** or both) over the years:"
   ]
  },
  {
   "cell_type": "code",
   "execution_count": 51,
   "metadata": {},
   "outputs": [
    {
     "data": {
      "text/html": [
       "<div>\n",
       "<style scoped>\n",
       "    .dataframe tbody tr th:only-of-type {\n",
       "        vertical-align: middle;\n",
       "    }\n",
       "\n",
       "    .dataframe tbody tr th {\n",
       "        vertical-align: top;\n",
       "    }\n",
       "\n",
       "    .dataframe thead th {\n",
       "        text-align: right;\n",
       "    }\n",
       "</style>\n",
       "<table border=\"1\" class=\"dataframe\">\n",
       "  <thead>\n",
       "    <tr style=\"text-align: right;\">\n",
       "      <th></th>\n",
       "      <th>year</th>\n",
       "      <th>Singleplayer / Multiplayer</th>\n",
       "      <th>reviewer_rating</th>\n",
       "    </tr>\n",
       "  </thead>\n",
       "  <tbody>\n",
       "    <tr>\n",
       "      <th>0</th>\n",
       "      <td>1997</td>\n",
       "      <td>Both</td>\n",
       "      <td>8.000000</td>\n",
       "    </tr>\n",
       "    <tr>\n",
       "      <th>1</th>\n",
       "      <td>1998</td>\n",
       "      <td>Both</td>\n",
       "      <td>9.000000</td>\n",
       "    </tr>\n",
       "    <tr>\n",
       "      <th>2</th>\n",
       "      <td>1999</td>\n",
       "      <td>Multiplayer</td>\n",
       "      <td>8.000000</td>\n",
       "    </tr>\n",
       "    <tr>\n",
       "      <th>3</th>\n",
       "      <td>1999</td>\n",
       "      <td>Singleplayer</td>\n",
       "      <td>7.500000</td>\n",
       "    </tr>\n",
       "    <tr>\n",
       "      <th>4</th>\n",
       "      <td>2000</td>\n",
       "      <td>Multiplayer</td>\n",
       "      <td>8.500000</td>\n",
       "    </tr>\n",
       "    <tr>\n",
       "      <th>...</th>\n",
       "      <td>...</td>\n",
       "      <td>...</td>\n",
       "      <td>...</td>\n",
       "    </tr>\n",
       "    <tr>\n",
       "      <th>82</th>\n",
       "      <td>2022</td>\n",
       "      <td>Singleplayer</td>\n",
       "      <td>6.400375</td>\n",
       "    </tr>\n",
       "    <tr>\n",
       "      <th>83</th>\n",
       "      <td>2023</td>\n",
       "      <td>Both</td>\n",
       "      <td>6.371795</td>\n",
       "    </tr>\n",
       "    <tr>\n",
       "      <th>84</th>\n",
       "      <td>2023</td>\n",
       "      <td>Multiplayer</td>\n",
       "      <td>6.314607</td>\n",
       "    </tr>\n",
       "    <tr>\n",
       "      <th>85</th>\n",
       "      <td>2023</td>\n",
       "      <td>None</td>\n",
       "      <td>6.456704</td>\n",
       "    </tr>\n",
       "    <tr>\n",
       "      <th>86</th>\n",
       "      <td>2023</td>\n",
       "      <td>Singleplayer</td>\n",
       "      <td>6.455723</td>\n",
       "    </tr>\n",
       "  </tbody>\n",
       "</table>\n",
       "<p>87 rows × 3 columns</p>\n",
       "</div>"
      ],
      "text/plain": [
       "    year Singleplayer / Multiplayer  reviewer_rating\n",
       "0   1997                       Both         8.000000\n",
       "1   1998                       Both         9.000000\n",
       "2   1999                Multiplayer         8.000000\n",
       "3   1999               Singleplayer         7.500000\n",
       "4   2000                Multiplayer         8.500000\n",
       "..   ...                        ...              ...\n",
       "82  2022               Singleplayer         6.400375\n",
       "83  2023                       Both         6.371795\n",
       "84  2023                Multiplayer         6.314607\n",
       "85  2023                       None         6.456704\n",
       "86  2023               Singleplayer         6.455723\n",
       "\n",
       "[87 rows x 3 columns]"
      ]
     },
     "execution_count": 51,
     "metadata": {},
     "output_type": "execute_result"
    }
   ],
   "source": [
    "avg_rating_per_year = df_q2.groupby(['year', 'Singleplayer / Multiplayer'])['reviewer_rating'].mean().reset_index()\n",
    "avg_rating_per_year"
   ]
  },
  {
   "cell_type": "markdown",
   "metadata": {},
   "source": [
    "- Skip ```None``` values:"
   ]
  },
  {
   "cell_type": "code",
   "execution_count": 52,
   "metadata": {},
   "outputs": [
    {
     "data": {
      "text/html": [
       "<div>\n",
       "<style scoped>\n",
       "    .dataframe tbody tr th:only-of-type {\n",
       "        vertical-align: middle;\n",
       "    }\n",
       "\n",
       "    .dataframe tbody tr th {\n",
       "        vertical-align: top;\n",
       "    }\n",
       "\n",
       "    .dataframe thead th {\n",
       "        text-align: right;\n",
       "    }\n",
       "</style>\n",
       "<table border=\"1\" class=\"dataframe\">\n",
       "  <thead>\n",
       "    <tr style=\"text-align: right;\">\n",
       "      <th></th>\n",
       "      <th>year</th>\n",
       "      <th>Singleplayer / Multiplayer</th>\n",
       "      <th>reviewer_rating</th>\n",
       "    </tr>\n",
       "  </thead>\n",
       "  <tbody>\n",
       "    <tr>\n",
       "      <th>0</th>\n",
       "      <td>1997</td>\n",
       "      <td>Both</td>\n",
       "      <td>8.000000</td>\n",
       "    </tr>\n",
       "    <tr>\n",
       "      <th>1</th>\n",
       "      <td>1998</td>\n",
       "      <td>Both</td>\n",
       "      <td>9.000000</td>\n",
       "    </tr>\n",
       "    <tr>\n",
       "      <th>2</th>\n",
       "      <td>1999</td>\n",
       "      <td>Multiplayer</td>\n",
       "      <td>8.000000</td>\n",
       "    </tr>\n",
       "    <tr>\n",
       "      <th>3</th>\n",
       "      <td>1999</td>\n",
       "      <td>Singleplayer</td>\n",
       "      <td>7.500000</td>\n",
       "    </tr>\n",
       "    <tr>\n",
       "      <th>4</th>\n",
       "      <td>2000</td>\n",
       "      <td>Multiplayer</td>\n",
       "      <td>8.500000</td>\n",
       "    </tr>\n",
       "    <tr>\n",
       "      <th>...</th>\n",
       "      <td>...</td>\n",
       "      <td>...</td>\n",
       "      <td>...</td>\n",
       "    </tr>\n",
       "    <tr>\n",
       "      <th>80</th>\n",
       "      <td>2022</td>\n",
       "      <td>Multiplayer</td>\n",
       "      <td>6.238636</td>\n",
       "    </tr>\n",
       "    <tr>\n",
       "      <th>82</th>\n",
       "      <td>2022</td>\n",
       "      <td>Singleplayer</td>\n",
       "      <td>6.400375</td>\n",
       "    </tr>\n",
       "    <tr>\n",
       "      <th>83</th>\n",
       "      <td>2023</td>\n",
       "      <td>Both</td>\n",
       "      <td>6.371795</td>\n",
       "    </tr>\n",
       "    <tr>\n",
       "      <th>84</th>\n",
       "      <td>2023</td>\n",
       "      <td>Multiplayer</td>\n",
       "      <td>6.314607</td>\n",
       "    </tr>\n",
       "    <tr>\n",
       "      <th>86</th>\n",
       "      <td>2023</td>\n",
       "      <td>Singleplayer</td>\n",
       "      <td>6.455723</td>\n",
       "    </tr>\n",
       "  </tbody>\n",
       "</table>\n",
       "<p>67 rows × 3 columns</p>\n",
       "</div>"
      ],
      "text/plain": [
       "    year Singleplayer / Multiplayer  reviewer_rating\n",
       "0   1997                       Both         8.000000\n",
       "1   1998                       Both         9.000000\n",
       "2   1999                Multiplayer         8.000000\n",
       "3   1999               Singleplayer         7.500000\n",
       "4   2000                Multiplayer         8.500000\n",
       "..   ...                        ...              ...\n",
       "80  2022                Multiplayer         6.238636\n",
       "82  2022               Singleplayer         6.400375\n",
       "83  2023                       Both         6.371795\n",
       "84  2023                Multiplayer         6.314607\n",
       "86  2023               Singleplayer         6.455723\n",
       "\n",
       "[67 rows x 3 columns]"
      ]
     },
     "execution_count": 52,
     "metadata": {},
     "output_type": "execute_result"
    }
   ],
   "source": [
    "avg_rating_per_year = avg_rating_per_year[avg_rating_per_year['Singleplayer / Multiplayer'] != 'None']\n",
    "avg_rating_per_year"
   ]
  },
  {
   "cell_type": "code",
   "execution_count": 53,
   "metadata": {},
   "outputs": [
    {
     "data": {
      "image/png": "[encoded data removed]",
      "text/plain": [
       "<Figure size 1200x600 with 1 Axes>"
      ]
     },
     "metadata": {},
     "output_type": "display_data"
    }
   ],
   "source": [
    "# Visualize by using line chart\n",
    "pivot_data = avg_rating_per_year.pivot(index='year', columns='Singleplayer / Multiplayer', values='reviewer_rating')\n",
    "\n",
    "plt.figure(figsize=(12, 6))\n",
    "for column in pivot_data.columns:\n",
    "    plt.plot(pivot_data.index, pivot_data[column], marker='o', label=column)\n",
    "\n",
    "plt.title('Average Reviewer Rating for Game Tags Over the Years', fontsize=16)\n",
    "plt.xlabel('Year', fontsize=12)\n",
    "plt.ylabel('Average Reviewer Rating', fontsize=12)\n",
    "plt.legend(title='Game Tag')\n",
    "plt.grid(True)\n",
    "plt.tight_layout()\n",
    "\n",
    "plt.show()"
   ]
  },
  {
   "cell_type": "markdown",
   "metadata": {},
   "source": [
    "- **Comments**:\n",
    "    - Overall, games with **both** modes consistently received better reviews over time.\n",
    "    - In the period before 2005, the dataset was generally quite **sparse** (*possibly due to a lack of samples*): Games having **both** single-player and multiplayer modes were rated the **highest** (9.0) in 1998 and games having only **single-player** mode recieved the **lowest** rating (6.0) in 2005.\n",
    "    - For games featuring **both** single-player and multiplayer modes:\n",
    "        - During the period from 2006 to 2010: Reviews of these games tended to **rise** sharply in the first half (peaking in 2007) and then **declined** significantly in the latter half of the period (reaching their lowest point in 2009).\n",
    "        - During the period from 2011 to 2023 (when this dataset was finalized): Reviews of these games continued to **decline** over the years, with the lowest point being in 2023.\n",
    "    - For games with only **single-player** mode:\n",
    "        - During the period from 2006 to 2010: Reviews for these games **fluctuated** significantly year by year, peaking in 2006 and hitting their lowest point in 2010.\n",
    "        - During the period from 2011 to 2020: Reviews for these games still showed considerable **fluctuations** year by year, with the peaks in later years trending downward, and the lowest peak being in 2019.\n",
    "        - During the period from 2020 to 2023: Reviews for these games showed a slight **upward** trend, peaking in 2023.\n",
    "    - For games with only **multiplayer** mode:\n",
    "        - During the period from 2007 to 2018: Reviews for these games tended to **decline** significantly over the years, peaking in 2007 and hitting their lowest point in 2018.\n",
    "        - During the period from 2018 to 2023: Reviews for these games experienced **strong growth**, peaking in 2023."
   ]
  },
  {
   "cell_type": "markdown",
   "metadata": {},
   "source": [
    "- **2nd approach**: The number of games belonging to the **single-player**, **multiplayer** or both tags over the years:"
   ]
  },
  {
   "cell_type": "code",
   "execution_count": 54,
   "metadata": {},
   "outputs": [
    {
     "data": {
      "text/html": [
       "<div>\n",
       "<style scoped>\n",
       "    .dataframe tbody tr th:only-of-type {\n",
       "        vertical-align: middle;\n",
       "    }\n",
       "\n",
       "    .dataframe tbody tr th {\n",
       "        vertical-align: top;\n",
       "    }\n",
       "\n",
       "    .dataframe thead th {\n",
       "        text-align: right;\n",
       "    }\n",
       "</style>\n",
       "<table border=\"1\" class=\"dataframe\">\n",
       "  <thead>\n",
       "    <tr style=\"text-align: right;\">\n",
       "      <th></th>\n",
       "      <th>year</th>\n",
       "      <th>Singleplayer / Multiplayer</th>\n",
       "      <th>number_of_games</th>\n",
       "    </tr>\n",
       "  </thead>\n",
       "  <tbody>\n",
       "    <tr>\n",
       "      <th>0</th>\n",
       "      <td>1997</td>\n",
       "      <td>Both</td>\n",
       "      <td>2</td>\n",
       "    </tr>\n",
       "    <tr>\n",
       "      <th>1</th>\n",
       "      <td>1998</td>\n",
       "      <td>Both</td>\n",
       "      <td>1</td>\n",
       "    </tr>\n",
       "    <tr>\n",
       "      <th>2</th>\n",
       "      <td>1999</td>\n",
       "      <td>Multiplayer</td>\n",
       "      <td>1</td>\n",
       "    </tr>\n",
       "    <tr>\n",
       "      <th>3</th>\n",
       "      <td>1999</td>\n",
       "      <td>Singleplayer</td>\n",
       "      <td>2</td>\n",
       "    </tr>\n",
       "    <tr>\n",
       "      <th>4</th>\n",
       "      <td>2000</td>\n",
       "      <td>Multiplayer</td>\n",
       "      <td>2</td>\n",
       "    </tr>\n",
       "    <tr>\n",
       "      <th>...</th>\n",
       "      <td>...</td>\n",
       "      <td>...</td>\n",
       "      <td>...</td>\n",
       "    </tr>\n",
       "    <tr>\n",
       "      <th>80</th>\n",
       "      <td>2022</td>\n",
       "      <td>Multiplayer</td>\n",
       "      <td>440</td>\n",
       "    </tr>\n",
       "    <tr>\n",
       "      <th>82</th>\n",
       "      <td>2022</td>\n",
       "      <td>Singleplayer</td>\n",
       "      <td>6404</td>\n",
       "    </tr>\n",
       "    <tr>\n",
       "      <th>83</th>\n",
       "      <td>2023</td>\n",
       "      <td>Both</td>\n",
       "      <td>390</td>\n",
       "    </tr>\n",
       "    <tr>\n",
       "      <th>84</th>\n",
       "      <td>2023</td>\n",
       "      <td>Multiplayer</td>\n",
       "      <td>178</td>\n",
       "    </tr>\n",
       "    <tr>\n",
       "      <th>86</th>\n",
       "      <td>2023</td>\n",
       "      <td>Singleplayer</td>\n",
       "      <td>2857</td>\n",
       "    </tr>\n",
       "  </tbody>\n",
       "</table>\n",
       "<p>67 rows × 3 columns</p>\n",
       "</div>"
      ],
      "text/plain": [
       "    year Singleplayer / Multiplayer  number_of_games\n",
       "0   1997                       Both                2\n",
       "1   1998                       Both                1\n",
       "2   1999                Multiplayer                1\n",
       "3   1999               Singleplayer                2\n",
       "4   2000                Multiplayer                2\n",
       "..   ...                        ...              ...\n",
       "80  2022                Multiplayer              440\n",
       "82  2022               Singleplayer             6404\n",
       "83  2023                       Both              390\n",
       "84  2023                Multiplayer              178\n",
       "86  2023               Singleplayer             2857\n",
       "\n",
       "[67 rows x 3 columns]"
      ]
     },
     "execution_count": 54,
     "metadata": {},
     "output_type": "execute_result"
    }
   ],
   "source": [
    "games_per_year = df_q2.groupby(['year', 'Singleplayer / Multiplayer']).size().reset_index(name='number_of_games')\n",
    "\n",
    "# Skip None values\n",
    "games_per_year = games_per_year[games_per_year['Singleplayer / Multiplayer'] != 'None']\n",
    "games_per_year"
   ]
  },
  {
   "cell_type": "code",
   "execution_count": 55,
   "metadata": {},
   "outputs": [
    {
     "data": {
      "image/png": "[encoded data removed]",
      "text/plain": [
       "<Figure size 1200x600 with 1 Axes>"
      ]
     },
     "metadata": {},
     "output_type": "display_data"
    }
   ],
   "source": [
    "# Visualize by using line chart\n",
    "pivot_data = games_per_year.pivot(index='year', columns='Singleplayer / Multiplayer', values='number_of_games').fillna(0)\n",
    "\n",
    "plt.figure(figsize=(12, 6))\n",
    "for column in pivot_data.columns:\n",
    "    plt.plot(pivot_data.index, pivot_data[column], marker='o', label=column)\n",
    "\n",
    "plt.title('Number of Games by Tag Over the Years', fontsize=16)\n",
    "plt.xlabel('Year', fontsize=12)\n",
    "plt.ylabel('Number of Games', fontsize=12)\n",
    "plt.legend(title='Game Tag')\n",
    "plt.grid(True)\n",
    "plt.tight_layout()\n",
    "\n",
    "plt.show()"
   ]
  },
  {
   "cell_type": "markdown",
   "metadata": {},
   "source": [
    "- **Comments**:\n",
    "    - During the period from 1997 to 2020:\n",
    "        - The number of games gradually **increased** over the years, with a significant **spike** in the number of **single-player** games in 2020.\n",
    "        - **Single-player** games overwhelmingly **outnumbered** the other two types.\n",
    "    - The **spike** in the number of games during the period from 2019 to 2022 can be **explained** by the following **real-world events**:\n",
    "        - The **rapid development** of **indie** games:\n",
    "            - **Indie** games are mostly low-budget, affordable titles that require minimal investment in manpower and time, do not demand high-end hardware, and are easily accessible to a wide range of players.\n",
    "            - This period marked the **release** of many **famous indie** games such as Telling Lies, Ori and the Will of the Wisps, etc.\n",
    "            - Most indie games are **single-player** experiences, which explains the dramatic growth in this genre.\n",
    "        - The **COVID-19** pandemic: Due to the pandemic, the **demand** for entertainment and gaming **increased** more than ever, driving the **creation** of numerous new games.\n",
    "    - During the period from 2021 to 2023:\n",
    "        - The number of **single-player** games continued to **grow** until 2022 but saw a great **decline** in 2023.\n",
    "        - The number of **multiplayer** games and games with **both** modes decreased over the years, reaching their lowest point in 2023."
   ]
  },
  {
   "cell_type": "markdown",
   "metadata": {},
   "source": [
    "#### Conclusions:\n",
    "- **1st approach**: People nowadays tend to prefer games that focus on just one of the two modes, especially **multiplayer** mode.\n",
    "- **2nd approach**: Most game developers still focus heavily on investing in **single-player** games.\n",
    "\n",
    "$\\rightarrow$ Game developers should **pay** more attention and **invest** heavily in **multiplayer** games to align with the current and near-future **preferences** of players."
   ]
  },
  {
   "cell_type": "markdown",
   "metadata": {},
   "source": [
    "# 5. Reflection"
   ]
  },
  {
   "cell_type": "markdown",
   "metadata": {},
   "source": [
    "## 1. Each member: What difficulties have you encountered?"
   ]
  },
  {
   "cell_type": "markdown",
   "metadata": {},
   "source": [
    "### 1. 22127250 - Trần Thành Long:\n",
    "#### Data Collection:\n",
    "\n",
    "- In this project, our team made some oversights during the preliminary evaluation of the dataset, selecting one with a relatively high missing ratio \n",
    "$\\rightarrow$ This led to numerous difficulties in the data analysis process and in answering questions.\n",
    "\n",
    "#### Data Analysis:\n",
    "\n",
    "- In this project, to answer question 2, I initially planned to combine ratings from reviewers and players (two different sources) to create an overall evaluation of a game. \n",
    "\n",
    "- However, these two attributes exhibit a strong correlation with each other. If the aggregation approach were still chosen, the results would be almost identical to selecting just one of the two ratings\n",
    "$\\rightarrow$ When aiming to aggregate certain attributes of a dataset as a basis for data analysis, it is advisable to first examine the correlation between these attributes. \n",
    "### 2. 22127478 - Nguyễn Hoàng Trung Kiên\n",
    "\n",
    "- In the preprocessing step, it was sometimes a bit challenging since the dataset had so many columns that have large proportion of missing values. That makes columns selection task quite difficult. At first I decided to check missing data proportion, if any column which had the missing rate above 50%, I would eliminate that column, but there were 5/11 columns having the rate above 50%. Since one of the remain columns was ```id```, which was not really helpful for analysis, we only had 5 columns that were suitable, a very small number of columns $\\rightarrow$ My team has decided to change the approach to check missing values by ```years```\n",
    "\n",
    "- To handle missing values, it was hard to decide which methods of filling were suitable. The columns didn't have normal distribution, and since the main task is analysis, not modeling, some old filling methods like filling by ```mean```, ```mode```, ```median``` should be considered with each columns' domain knowledge carefully before implementing. (For example column ```reviewer_rating``` and ```positivity_ratio``` might relate to each other, if we chose inapproriate method, it could result a wrong record since we haven't dived into checking correlation between these columns, like it might have positive correlation but after filling, one was high and another was low). "
   ]
  },
  {
   "cell_type": "markdown",
   "metadata": {},
   "source": [
    "## 2. Each member: What have you learned?"
   ]
  },
  {
   "cell_type": "markdown",
   "metadata": {},
   "source": [
    "### 1. 22127250 - Trần Thành Long:\n",
    "#### Data Collection\n",
    "- In addition to verifying copyright issues of the dataset, a preliminary check of its accuracy and authenticity before selection is also crucial.\n",
    "\n",
    "- When using pre-existing datasets, it is essential to examine and consult reviews from multiple sources to ensure reliability and minimize limitations during data analysis.\n",
    "#### Data Exploration:\n",
    "- Visualization plays a crucial role in the data exploration process.\n",
    "\n",
    "- For the statistical analysis of numerical attributes in a dataset, visualization helps us easily identify the distribution of data columns and relatively detect outliers within the data\n",
    "$\\rightarrow$ Contributes to minimizing conflicts between the dataset and real-world experiences.\n",
    "\n",
    "#### Data Analysis\n",
    "- Using fewer attributes not only enhances performance but also simplifies and clarifies the results of the analysis process.\n",
    "\n",
    "### 2. 22127478 - Nguyễn Hoàng Trung Kiên\n",
    "\n",
    "- Through the project, I can apply successfully the basic preprocessing steps which I've learned from the course, help me to identify missing values, duplicates,... of the dataset. This is a crucial part to prepare a clean data for further analyzing steps.\n",
    "\n",
    "- Decide handling missing values method plays a vital role in preprocessing steps. When doing this, data distribution, domain knowledge, percentage of missng values or many other factors must be taken into clear consideration, to minimize its affection to the dataset.\n",
    "\n",
    "- Besides preprocessing steps, I am able to learn how we make insights properly based on the dataset and visualizing them effectively.\n",
    "\n",
    "- The project supports me to practice basic steps in data analysis, handled by helpful tools and materials such as ```pandas```, ```matplotlib```... which have been learned from the course."
   ]
  },
  {
   "cell_type": "markdown",
   "metadata": {},
   "source": [
    "## 3. Your group: If you had more time, what would you do?"
   ]
  },
  {
   "cell_type": "markdown",
   "metadata": {},
   "source": [
    "- Select and examine datasets more carefully, ensuring both quantity and quality.\n",
    "\n",
    "- Discover more potential insights and interesting points of the datasets, make more questions for analyzing helpful information.\n",
    "\n",
    "- Make further analysis by other methods, such as correlation checking.\n",
    "\n",
    "- Spend more time on preprocessing steps to find which methods are suitable for the dataset."
   ]
  }
 ],
 "metadata": {
  "kernelspec": {
   "display_name": "Python 3",
   "language": "python",
   "name": "python3"
  },
  "language_info": {
   "codemirror_mode": {
    "name": "ipython",
    "version": 3
   },
   "file_extension": ".py",
   "mimetype": "text/x-python",
   "name": "python",
   "nbconvert_exporter": "python",
   "pygments_lexer": "ipython3",
   "version": "3.11.9"
  }
 },
 "nbformat": 4,
 "nbformat_minor": 4
}
