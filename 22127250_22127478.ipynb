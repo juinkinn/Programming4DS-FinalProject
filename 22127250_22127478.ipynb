{
 "cells": [
  {
   "cell_type": "markdown",
   "metadata": {},
   "source": [
    "# Final Project - Programming for Data Science"
   ]
  },
  {
   "cell_type": "markdown",
   "metadata": {},
   "source": [
    "## Team members"
   ]
  },
  {
   "cell_type": "markdown",
   "metadata": {},
   "source": [
    "1. Trần Thành Long - 22127250\n",
    "\n",
    "2. Nguyễn Hoàng Trung Kiên - 22127478"
   ]
  },
  {
   "cell_type": "markdown",
   "metadata": {},
   "source": [
    "## Dataset\n",
    "\n",
    "[Steam games dataset](https://www.kaggle.com/datasets/gruffgemini/steam-games-dataset)"
   ]
  },
  {
   "cell_type": "markdown",
   "metadata": {},
   "source": [
    "## Import libraries"
   ]
  },
  {
   "cell_type": "code",
   "execution_count": 441,
   "metadata": {},
   "outputs": [],
   "source": [
    "import pandas as pd\n",
    "import matplotlib.pyplot as plt\n",
    "import datetime\n",
    "import seaborn as sns"
   ]
  },
  {
   "cell_type": "markdown",
   "metadata": {},
   "source": [
    "## 1. Collecting data"
   ]
  },
  {
   "cell_type": "code",
   "execution_count": 442,
   "metadata": {},
   "outputs": [
    {
     "data": {
      "text/html": [
       "<div>\n",
       "<style scoped>\n",
       "    .dataframe tbody tr th:only-of-type {\n",
       "        vertical-align: middle;\n",
       "    }\n",
       "\n",
       "    .dataframe tbody tr th {\n",
       "        vertical-align: top;\n",
       "    }\n",
       "\n",
       "    .dataframe thead th {\n",
       "        text-align: right;\n",
       "    }\n",
       "</style>\n",
       "<table border=\"1\" class=\"dataframe\">\n",
       "  <thead>\n",
       "    <tr style=\"text-align: right;\">\n",
       "      <th></th>\n",
       "      <th>id</th>\n",
       "      <th>name</th>\n",
       "      <th>year</th>\n",
       "      <th>metacritic_rating</th>\n",
       "      <th>reviewer_rating</th>\n",
       "      <th>positivity_ratio</th>\n",
       "      <th>to_beat_main</th>\n",
       "      <th>to_beat_extra</th>\n",
       "      <th>to_beat_completionist</th>\n",
       "      <th>extra_content_length</th>\n",
       "      <th>tags</th>\n",
       "    </tr>\n",
       "  </thead>\n",
       "  <tbody>\n",
       "    <tr>\n",
       "      <th>0</th>\n",
       "      <td>96000</td>\n",
       "      <td>The Tiny Bang Story</td>\n",
       "      <td>2011.0</td>\n",
       "      <td>63.0</td>\n",
       "      <td>8.0</td>\n",
       "      <td>7.073879</td>\n",
       "      <td>3.60</td>\n",
       "      <td>3.60</td>\n",
       "      <td>3.77</td>\n",
       "      <td>0.17</td>\n",
       "      <td>Story Rich|Steampunk|Adventure|Atmospheric|Puz...</td>\n",
       "    </tr>\n",
       "    <tr>\n",
       "      <th>1</th>\n",
       "      <td>262410</td>\n",
       "      <td>World of Guns: Gun Disassembly</td>\n",
       "      <td>2014.0</td>\n",
       "      <td>NaN</td>\n",
       "      <td>8.0</td>\n",
       "      <td>5.208940</td>\n",
       "      <td>2.00</td>\n",
       "      <td>NaN</td>\n",
       "      <td>28.07</td>\n",
       "      <td>26.07</td>\n",
       "      <td>Horror|First-Person|Historical|Multiplayer|Str...</td>\n",
       "    </tr>\n",
       "    <tr>\n",
       "      <th>2</th>\n",
       "      <td>1250410</td>\n",
       "      <td>Microsoft Flight Simulator 40th Anniversary Ed...</td>\n",
       "      <td>2020.0</td>\n",
       "      <td>91.0</td>\n",
       "      <td>6.0</td>\n",
       "      <td>3.581082</td>\n",
       "      <td>NaN</td>\n",
       "      <td>NaN</td>\n",
       "      <td>NaN</td>\n",
       "      <td>NaN</td>\n",
       "      <td>Multiplayer|Adventure|VR|Action Roguelike|Phys...</td>\n",
       "    </tr>\n",
       "    <tr>\n",
       "      <th>3</th>\n",
       "      <td>365450</td>\n",
       "      <td>Hacknet</td>\n",
       "      <td>2015.0</td>\n",
       "      <td>82.0</td>\n",
       "      <td>8.0</td>\n",
       "      <td>14.548520</td>\n",
       "      <td>7.06</td>\n",
       "      <td>8.73</td>\n",
       "      <td>10.75</td>\n",
       "      <td>3.69</td>\n",
       "      <td>Horror|Story Rich|Hacking|Crime|Multiplayer|Dy...</td>\n",
       "    </tr>\n",
       "    <tr>\n",
       "      <th>4</th>\n",
       "      <td>92800</td>\n",
       "      <td>SpaceChem</td>\n",
       "      <td>2011.0</td>\n",
       "      <td>84.0</td>\n",
       "      <td>8.0</td>\n",
       "      <td>11.440415</td>\n",
       "      <td>43.32</td>\n",
       "      <td>57.79</td>\n",
       "      <td>67.55</td>\n",
       "      <td>24.23</td>\n",
       "      <td>Automation|Strategy|Building|Puzzle|Science|Pr...</td>\n",
       "    </tr>\n",
       "    <tr>\n",
       "      <th>...</th>\n",
       "      <td>...</td>\n",
       "      <td>...</td>\n",
       "      <td>...</td>\n",
       "      <td>...</td>\n",
       "      <td>...</td>\n",
       "      <td>...</td>\n",
       "      <td>...</td>\n",
       "      <td>...</td>\n",
       "      <td>...</td>\n",
       "      <td>...</td>\n",
       "      <td>...</td>\n",
       "    </tr>\n",
       "    <tr>\n",
       "      <th>63538</th>\n",
       "      <td>521720</td>\n",
       "      <td>Uncharted Waters</td>\n",
       "      <td>2017.0</td>\n",
       "      <td>NaN</td>\n",
       "      <td>7.0</td>\n",
       "      <td>6.000000</td>\n",
       "      <td>27.88</td>\n",
       "      <td>29.86</td>\n",
       "      <td>NaN</td>\n",
       "      <td>-27.88</td>\n",
       "      <td>Retro|RPG|Trading</td>\n",
       "    </tr>\n",
       "    <tr>\n",
       "      <th>63539</th>\n",
       "      <td>34311</td>\n",
       "      <td>Kid Chameleon™</td>\n",
       "      <td>2010.0</td>\n",
       "      <td>NaN</td>\n",
       "      <td>NaN</td>\n",
       "      <td>6.000000</td>\n",
       "      <td>4.38</td>\n",
       "      <td>8.15</td>\n",
       "      <td>11.17</td>\n",
       "      <td>6.79</td>\n",
       "      <td>Retro|Platformer</td>\n",
       "    </tr>\n",
       "    <tr>\n",
       "      <th>63540</th>\n",
       "      <td>34289</td>\n",
       "      <td>Fatal Labyrinth™</td>\n",
       "      <td>2010.0</td>\n",
       "      <td>NaN</td>\n",
       "      <td>7.0</td>\n",
       "      <td>5.000000</td>\n",
       "      <td>4.00</td>\n",
       "      <td>4.58</td>\n",
       "      <td>4.60</td>\n",
       "      <td>0.60</td>\n",
       "      <td>RPG</td>\n",
       "    </tr>\n",
       "    <tr>\n",
       "      <th>63541</th>\n",
       "      <td>628150</td>\n",
       "      <td>Sangokushi Eiketsuden</td>\n",
       "      <td>2017.0</td>\n",
       "      <td>NaN</td>\n",
       "      <td>6.0</td>\n",
       "      <td>3.153846</td>\n",
       "      <td>NaN</td>\n",
       "      <td>NaN</td>\n",
       "      <td>NaN</td>\n",
       "      <td>NaN</td>\n",
       "      <td>RPG</td>\n",
       "    </tr>\n",
       "    <tr>\n",
       "      <th>63542</th>\n",
       "      <td>660570</td>\n",
       "      <td>Million Arthur VR: Character Command RPG</td>\n",
       "      <td>2017.0</td>\n",
       "      <td>NaN</td>\n",
       "      <td>5.0</td>\n",
       "      <td>1.500000</td>\n",
       "      <td>NaN</td>\n",
       "      <td>NaN</td>\n",
       "      <td>NaN</td>\n",
       "      <td>NaN</td>\n",
       "      <td>RPG|VR|Anime</td>\n",
       "    </tr>\n",
       "  </tbody>\n",
       "</table>\n",
       "<p>63543 rows × 11 columns</p>\n",
       "</div>"
      ],
      "text/plain": [
       "            id                                               name    year  \\\n",
       "0        96000                                The Tiny Bang Story  2011.0   \n",
       "1       262410                     World of Guns: Gun Disassembly  2014.0   \n",
       "2      1250410  Microsoft Flight Simulator 40th Anniversary Ed...  2020.0   \n",
       "3       365450                                            Hacknet  2015.0   \n",
       "4        92800                                          SpaceChem  2011.0   \n",
       "...        ...                                                ...     ...   \n",
       "63538   521720                                   Uncharted Waters  2017.0   \n",
       "63539    34311                                     Kid Chameleon™  2010.0   \n",
       "63540    34289                                   Fatal Labyrinth™  2010.0   \n",
       "63541   628150                              Sangokushi Eiketsuden  2017.0   \n",
       "63542   660570           Million Arthur VR: Character Command RPG  2017.0   \n",
       "\n",
       "       metacritic_rating  reviewer_rating  positivity_ratio  to_beat_main  \\\n",
       "0                   63.0              8.0          7.073879          3.60   \n",
       "1                    NaN              8.0          5.208940          2.00   \n",
       "2                   91.0              6.0          3.581082           NaN   \n",
       "3                   82.0              8.0         14.548520          7.06   \n",
       "4                   84.0              8.0         11.440415         43.32   \n",
       "...                  ...              ...               ...           ...   \n",
       "63538                NaN              7.0          6.000000         27.88   \n",
       "63539                NaN              NaN          6.000000          4.38   \n",
       "63540                NaN              7.0          5.000000          4.00   \n",
       "63541                NaN              6.0          3.153846           NaN   \n",
       "63542                NaN              5.0          1.500000           NaN   \n",
       "\n",
       "       to_beat_extra  to_beat_completionist  extra_content_length  \\\n",
       "0               3.60                   3.77                  0.17   \n",
       "1                NaN                  28.07                 26.07   \n",
       "2                NaN                    NaN                   NaN   \n",
       "3               8.73                  10.75                  3.69   \n",
       "4              57.79                  67.55                 24.23   \n",
       "...              ...                    ...                   ...   \n",
       "63538          29.86                    NaN                -27.88   \n",
       "63539           8.15                  11.17                  6.79   \n",
       "63540           4.58                   4.60                  0.60   \n",
       "63541            NaN                    NaN                   NaN   \n",
       "63542            NaN                    NaN                   NaN   \n",
       "\n",
       "                                                    tags  \n",
       "0      Story Rich|Steampunk|Adventure|Atmospheric|Puz...  \n",
       "1      Horror|First-Person|Historical|Multiplayer|Str...  \n",
       "2      Multiplayer|Adventure|VR|Action Roguelike|Phys...  \n",
       "3      Horror|Story Rich|Hacking|Crime|Multiplayer|Dy...  \n",
       "4      Automation|Strategy|Building|Puzzle|Science|Pr...  \n",
       "...                                                  ...  \n",
       "63538                                  Retro|RPG|Trading  \n",
       "63539                                   Retro|Platformer  \n",
       "63540                                                RPG  \n",
       "63541                                                RPG  \n",
       "63542                                       RPG|VR|Anime  \n",
       "\n",
       "[63543 rows x 11 columns]"
      ]
     },
     "execution_count": 442,
     "metadata": {},
     "output_type": "execute_result"
    }
   ],
   "source": [
    "df = pd.read_csv('dataset.csv')\n",
    "df"
   ]
  },
  {
   "cell_type": "markdown",
   "metadata": {},
   "source": [
    "### What subject is your data about? What is the source of your data?"
   ]
  },
  {
   "cell_type": "markdown",
   "metadata": {},
   "source": [
    "- **Subject**: The dataset includes information on over 60000 video games from Steam platform (from 1997 to 2023).\n",
    "- **Source**: [Kaggle](https://www.kaggle.com/datasets/gruffgemini/steam-games-dataset)"
   ]
  },
  {
   "cell_type": "markdown",
   "metadata": {},
   "source": [
    "### Do authors of this data allow you to use like this? ###"
   ]
  },
  {
   "cell_type": "markdown",
   "metadata": {},
   "source": [
    "- **Yes**, based on this data's license: [CC0: Public Domain](https://creativecommons.org/publicdomain/zero/1.0/)."
   ]
  },
  {
   "cell_type": "markdown",
   "metadata": {},
   "source": [
    "### How did authors collect data? ###"
   ]
  },
  {
   "cell_type": "markdown",
   "metadata": {},
   "source": [
    "- User tags info and data from [howlongtobeat.com](https://howlongtobeat.com/) on over 60000 Steam games (from 1997 to 2023)."
   ]
  },
  {
   "cell_type": "markdown",
   "metadata": {},
   "source": [
    "## 2. Exploring data and preprocessing"
   ]
  },
  {
   "cell_type": "markdown",
   "metadata": {},
   "source": [
    "### How many rows and how many columns?"
   ]
  },
  {
   "cell_type": "code",
   "execution_count": 443,
   "metadata": {},
   "outputs": [
    {
     "data": {
      "text/plain": [
       "(63543, 11)"
      ]
     },
     "execution_count": 443,
     "metadata": {},
     "output_type": "execute_result"
    }
   ],
   "source": [
    "df.shape"
   ]
  },
  {
   "cell_type": "markdown",
   "metadata": {},
   "source": [
    "$\\rightarrow$ There are ```63543``` rows and ```11``` columns."
   ]
  },
  {
   "cell_type": "markdown",
   "metadata": {},
   "source": [
    "### What is the meaning of each row?"
   ]
  },
  {
   "cell_type": "markdown",
   "metadata": {},
   "source": [
    "### Are there duplicated rows?"
   ]
  },
  {
   "cell_type": "code",
   "execution_count": 444,
   "metadata": {},
   "outputs": [
    {
     "data": {
      "text/plain": [
       "np.int64(0)"
      ]
     },
     "execution_count": 444,
     "metadata": {},
     "output_type": "execute_result"
    }
   ],
   "source": [
    "df.duplicated().sum()"
   ]
  },
  {
   "cell_type": "markdown",
   "metadata": {},
   "source": [
    "$\\rightarrow$ **No** duplicated rows."
   ]
  },
  {
   "cell_type": "markdown",
   "metadata": {},
   "source": [
    "### What is the meaning of each column?"
   ]
  },
  {
   "cell_type": "code",
   "execution_count": 445,
   "metadata": {},
   "outputs": [
    {
     "data": {
      "text/plain": [
       "Index(['id', 'name', 'year', 'metacritic_rating', 'reviewer_rating',\n",
       "       'positivity_ratio', 'to_beat_main', 'to_beat_extra',\n",
       "       'to_beat_completionist', 'extra_content_length', 'tags'],\n",
       "      dtype='object')"
      ]
     },
     "execution_count": 445,
     "metadata": {},
     "output_type": "execute_result"
    }
   ],
   "source": [
    "df.columns"
   ]
  },
  {
   "cell_type": "markdown",
   "metadata": {},
   "source": [
    "- ```id```: Game ID on steam platform.\n",
    "- ```name```: Game name as appears on Steam platform.\n",
    "- ```year```: Year of release.\n",
    "- ```metacritic_rating```: Metacritic rating (the larger the better).\n",
    "- ```reviewer_rating```: Game rating given by users on the 0-10 scale (the larger the better).\n",
    "- ```positivity_ratio```: Number of positive reviews divided by the number of negative reviews.\n",
    "- ```to_beat_main```: Time required to beat the main plot of the game.\n",
    "- ```to_beat_extra```: Time required to beat the main and optional objectives of the game.\n",
    "- ```to_beat_completionist```: Time required to complete every single objective of the game including gathering all collectibles.\n",
    "- ```extra_content_length```: The difference between completionist time and extra time.\n",
    "- ```tags```: User tags (features) of the game separated by vertical line."
   ]
  },
  {
   "cell_type": "markdown",
   "metadata": {},
   "source": [
    "### What is the current data type of each column? Are there columns having inappropriate data types?"
   ]
  },
  {
   "cell_type": "code",
   "execution_count": 446,
   "metadata": {},
   "outputs": [
    {
     "data": {
      "text/plain": [
       "id                         int64\n",
       "name                      object\n",
       "year                     float64\n",
       "metacritic_rating        float64\n",
       "reviewer_rating          float64\n",
       "positivity_ratio         float64\n",
       "to_beat_main             float64\n",
       "to_beat_extra            float64\n",
       "to_beat_completionist    float64\n",
       "extra_content_length     float64\n",
       "tags                      object\n",
       "dtype: object"
      ]
     },
     "execution_count": 446,
     "metadata": {},
     "output_type": "execute_result"
    }
   ],
   "source": [
    "df.dtypes"
   ]
  },
  {
   "cell_type": "markdown",
   "metadata": {},
   "source": [
    "$\\rightarrow$ ```Year``` should be in ```datetime``` data type."
   ]
  },
  {
   "cell_type": "markdown",
   "metadata": {},
   "source": [
    "### With each numerical column, how are values distributed?"
   ]
  },
  {
   "cell_type": "markdown",
   "metadata": {},
   "source": [
    "- What is the percentage of missing values?"
   ]
  },
  {
   "cell_type": "code",
   "execution_count": 447,
   "metadata": {},
   "outputs": [
    {
     "name": "stdout",
     "output_type": "stream",
     "text": [
      "id: 0.0 %\n",
      "year: 0.1573737469115402 %\n",
      "metacritic_rating: 93.83724407094408 %\n",
      "reviewer_rating: 29.765670490848716 %\n",
      "positivity_ratio: 3.167933525329304 %\n",
      "to_beat_main: 71.98589931227673 %\n",
      "to_beat_extra: 78.86942700218749 %\n",
      "to_beat_completionist: 74.7635459452654 %\n",
      "extra_content_length: 66.66509292919756 %\n"
     ]
    }
   ],
   "source": [
    "numerical_cols = ['id', 'year', 'metacritic_rating', 'reviewer_rating', 'positivity_ratio', 'to_beat_main', 'to_beat_extra', 'to_beat_completionist', 'extra_content_length']\n",
    "missing_data = {numerical_col: sum(value == \"?\" or value != value for value in df[numerical_col]) / len(df[numerical_col]) * 100 for numerical_col in df[numerical_cols]}\n",
    "for k, v in missing_data.items():\n",
    "    print(f'{k}: {v} %')"
   ]
  },
  {
   "cell_type": "markdown",
   "metadata": {},
   "source": [
    "- The column(s) with the highest missing data ratio is ```metacritic_rating``` (~93.837%).\n",
    "- The column(s) with the lowest missing data ratio is ```id``` (0%)."
   ]
  },
  {
   "cell_type": "markdown",
   "metadata": {},
   "source": [
    "- Check the percentage of the missing values based on years to choose which period is suitable for analysis"
   ]
  },
  {
   "cell_type": "code",
   "execution_count": 448,
   "metadata": {},
   "outputs": [
    {
     "data": {
      "image/png": "[encoded data removed]",
      "text/plain": [
       "<Figure size 1000x600 with 1 Axes>"
      ]
     },
     "metadata": {},
     "output_type": "display_data"
    }
   ],
   "source": [
    "missing_by_year = df.groupby('year').agg(lambda x: x.isnull().mean() * 100).reset_index()\n",
    "missing_by_year.plot(kind='bar', x='year', figsize=(10, 6), stacked=False)\n",
    "\n",
    "plt.title('Missing Data Percentage by Year')\n",
    "plt.xlabel('Year')\n",
    "plt.ylabel('Missing Data Percentage (%)')\n",
    "plt.tight_layout()\n",
    "plt.show()"
   ]
  },
  {
   "cell_type": "markdown",
   "metadata": {},
   "source": [
    "$\\rightarrow$ Question will be based on the period 2004-2005 since they only have missing values in ```metacritic_rating``` column"
   ]
  },
  {
   "cell_type": "markdown",
   "metadata": {},
   "source": [
    "- Distribution of numeric columns:"
   ]
  },
  {
   "cell_type": "code",
   "execution_count": 449,
   "metadata": {},
   "outputs": [
    {
     "data": {
      "image/png": "[encoded data removed]",
      "text/plain": [
       "<Figure size 1400x1200 with 9 Axes>"
      ]
     },
     "metadata": {},
     "output_type": "display_data"
    }
   ],
   "source": [
    "numeric_cols = ['id', 'year', 'metacritic_rating', 'reviewer_rating', 'positivity_ratio', 'to_beat_main', 'to_beat_extra', 'to_beat_completionist', 'extra_content_length']\n",
    "plt.figure(figsize=(14, 12))  \n",
    "\n",
    "for i in range(len(numeric_cols)):\n",
    "    plt.subplot(3, 3, i + 1)  \n",
    "    plt.hist(df[numeric_cols[i]], bins=20, edgecolor='black', alpha=0.7, density=True)\n",
    "    sns.kdeplot(df[numeric_cols[i]], color='red', linewidth=2)\n",
    "    plt.title(f'Distribution of {numeric_cols[i]}')\n",
    "    plt.xlabel(numeric_cols[i])\n",
    "    plt.ylabel('Density')\n",
    "\n",
    "plt.tight_layout(pad=3.0)  \n",
    "plt.show()"
   ]
  },
  {
   "cell_type": "markdown",
   "metadata": {},
   "source": [
    "### With each categorical column, how are values distributed?"
   ]
  },
  {
   "cell_type": "markdown",
   "metadata": {},
   "source": [
    "- What is the percentage of missing values?"
   ]
  },
  {
   "cell_type": "code",
   "execution_count": 450,
   "metadata": {},
   "outputs": [
    {
     "name": "stdout",
     "output_type": "stream",
     "text": [
      "name: 0.0 %\n",
      "tags: 0.0 %\n"
     ]
    }
   ],
   "source": [
    "categorical_cols = ['name', 'tags']\n",
    "missing_data = {cate_col: sum(value == \"?\" or value != value for value in df[cate_col]) / len(df[cate_col]) * 100 for cate_col in df[categorical_cols]}\n",
    "for k, v in missing_data.items():\n",
    "    print(f'{k}: {v} %')"
   ]
  },
  {
   "cell_type": "markdown",
   "metadata": {},
   "source": [
    "$\\rightarrow$ **No** missing data."
   ]
  },
  {
   "cell_type": "markdown",
   "metadata": {},
   "source": [
    "- How many different values? Show a few"
   ]
  },
  {
   "cell_type": "code",
   "execution_count": 451,
   "metadata": {},
   "outputs": [
    {
     "name": "stdout",
     "output_type": "stream",
     "text": [
      "name    63186\n",
      "tags    54024\n",
      "dtype: int64\n",
      "Distinct 'name' values: ['The Tiny Bang Story' 'World of Guns: Gun Disassembly'\n",
      " 'Microsoft Flight Simulator 40th Anniversary Edition' 'Hacknet'\n",
      " 'SpaceChem']\n",
      "Distinct 'tags' values: ['Story Rich|Steampunk|Adventure|Atmospheric|Puzzle|Surreal|Collectathon|Comedy|Relaxing|Touch-Friendly|Classic|Funny|Mystery|Casual|Indie|Short|Cartoony|Retro|Logic|Cult Classic|Remake|Singleplayer|Minigames|Great Soundtrack|Hand-drawn|Colorful|Cute|Hidden Object|Family Friendly|2D|Stylized'\n",
      " 'Horror|First-Person|Historical|Multiplayer|Strategy|Gun Customization|Action|Old School|Adventure|Military|Exploration|Puzzle|Free to Play|Co-op|FPS|Open World|Relaxing|Funny|3D|Casual|Indie|Shooter|America|Simulation|Singleplayer|Realistic|3D Platformer|Online Co-Op|Education|Logic|Sandbox'\n",
      " 'Multiplayer|Adventure|VR|Action Roguelike|Physics|Atmospheric|Boxing|Surreal|Psychological Horror|Controller|Beautiful|Open World|Auto Battler|Flight|Sexual Content|Real-Time|Short|Life Sim|Epic|Singleplayer|Simulation|Realistic|Colorful|Family Friendly|TrackIR|Logic'\n",
      " 'Horror|Story Rich|Hacking|Crime|Multiplayer|Dystopian |Strategy|Adventure|Atmospheric|Puzzle|Cyberpunk|Detective|Programming|Massively Multiplayer|Typing|Casual|Indie|Simulation|Singleplayer|Great Soundtrack|Choices Matter|Education|2D|Difficult|Logic|Illuminati|Sci-fi'\n",
      " 'Automation|Strategy|Building|Puzzle|Science|Programming|Touch-Friendly|Casual|Indie|Simulation|Singleplayer|Space|Great Soundtrack|Education|Addictive|2D|Difficult|Logic|Illuminati|Sci-fi']\n"
     ]
    }
   ],
   "source": [
    "distinct_values = df[['name', 'tags']].nunique()\n",
    "print(distinct_values)\n",
    "\n",
    "distinct_values_name = df['name'].unique()[:5]  \n",
    "distinct_values_tags = df['tags'].unique()[:5]  \n",
    "\n",
    "print(\"Distinct 'name' values:\", distinct_values_name)\n",
    "print(\"Distinct 'tags' values:\", distinct_values_tags)\n"
   ]
  },
  {
   "cell_type": "markdown",
   "metadata": {},
   "source": [
    "- Are they abnormal?"
   ]
  },
  {
   "cell_type": "markdown",
   "metadata": {},
   "source": [
    "$\\rightarrow$ **No**."
   ]
  },
  {
   "cell_type": "markdown",
   "metadata": {},
   "source": [
    "## 3. Asking meaningful questions"
   ]
  },
  {
   "cell_type": "markdown",
   "metadata": {},
   "source": [
    "### Question 1: Which games have received the highest overall player ratings over the years? (List the top 20 games)"
   ]
  },
  {
   "cell_type": "markdown",
   "metadata": {},
   "source": [
    "#### Benefits of finding answer:\n",
    "- For developers:\n",
    "    - **Identify Top Performers**: Helps identify games that have consistently performed well, guiding developers and publishers in understanding what works in the market.\n",
    "    - **Marketing Insights**: Offers valuable insights for marketing strategies, emphasizing the qualities of these games to attract audiences.\n",
    "    - **Investment Opportunities**: Guides investors or stakeholders to identify game developers or studios that consistently produce top-rated games.\n",
    "- For customers:\n",
    "    - **Customers Guidance**: Assists players in discovering well-rated games, influencing purchase decisions and improving user satisfaction."
   ]
  },
  {
   "cell_type": "markdown",
   "metadata": {},
   "source": [
    "#### How to find the answer by using data?\n",
    "- Calculate the ```overall_rating``` for each Steam game. Formula:\n",
    "- Sort dataset by ```overall_rating``` column.\n",
    "- List the top 20 games by ```overall_rating```."
   ]
  },
  {
   "cell_type": "markdown",
   "metadata": {},
   "source": [
    "### Question 2: What are the trends in the shifting popularity of game tags in recent years (around the past 4 years)?"
   ]
  },
  {
   "cell_type": "markdown",
   "metadata": {},
   "source": [
    "#### Benefits of finding answer:\n",
    "- **Trend Analysis**: Helps understand which game genres or themes are gaining or losing popularity, informing future game development decisions.\n",
    "- **Content Strategy**: Guides developers in choosing game features or themes to align with current and future player expectations.\n",
    "- **Community Engagement**: Facilitates better engagement with players by aligning content updates or DLCs with trending tags or genres.\n",
    "- **Consumer Behavior Insights**: Offers an understanding of changing player preferences, helping refine marketing campaigns and game recommendations."
   ]
  },
  {
   "cell_type": "markdown",
   "metadata": {},
   "source": [
    "#### How to find the answer by using data?\n",
    "- To address this question, we will approach it from two perspectives:\n",
    "    - The overall user rating (```overall_rating```) for each game tag.\n",
    "    - The number of games associated with each game tag.\n",
    "- For each approach, we will focus only on the top 5 tags with the highest rating scores and the largest number of games (to observe trends)."
   ]
  },
  {
   "cell_type": "markdown",
   "metadata": {},
   "source": [
    "## 4. Preprocessing and analyzing data to answer each question"
   ]
  },
  {
   "cell_type": "markdown",
   "metadata": {},
   "source": [
    "### 4.1 Overall preprocessing:"
   ]
  },
  {
   "cell_type": "markdown",
   "metadata": {},
   "source": [
    "- ```id``` column is no longer helpful for further data exploration so it is unnecessary and will be removed."
   ]
  },
  {
   "cell_type": "code",
   "execution_count": 452,
   "metadata": {},
   "outputs": [],
   "source": [
    "del df['id']"
   ]
  },
  {
   "cell_type": "markdown",
   "metadata": {},
   "source": [
    "- From the result of the percentage of missing values based on ```years```, the ```metacritic_rating``` column has the highest percentage, and it is not necessary to be used for answering questions, so it will also be removed."
   ]
  },
  {
   "cell_type": "code",
   "execution_count": 453,
   "metadata": {},
   "outputs": [],
   "source": [
    "del df['metacritic_rating']"
   ]
  },
  {
   "cell_type": "markdown",
   "metadata": {},
   "source": [
    "- Remove rows with **year** == ```Nan```:"
   ]
  },
  {
   "cell_type": "code",
   "execution_count": 454,
   "metadata": {},
   "outputs": [],
   "source": [
    "df = df[df['year'].notna()]"
   ]
  },
  {
   "cell_type": "markdown",
   "metadata": {},
   "source": [
    "- Sort the dataset by ```year```:"
   ]
  },
  {
   "cell_type": "code",
   "execution_count": 455,
   "metadata": {},
   "outputs": [],
   "source": [
    "df = df.sort_values(by='year', ascending=True, ignore_index=True)"
   ]
  },
  {
   "cell_type": "markdown",
   "metadata": {},
   "source": [
    "- Based on the distribution, the missing values will be filled by their **median**"
   ]
  },
  {
   "cell_type": "code",
   "execution_count": 456,
   "metadata": {},
   "outputs": [],
   "source": [
    "df['reviewer_rating'] = df['reviewer_rating'].fillna(df['reviewer_rating'].median())\n",
    "df['positivity_ratio'] = df['positivity_ratio'].fillna(df['positivity_ratio'].median())\n",
    "df['to_beat_main'] = df['to_beat_main'].fillna(df['to_beat_main'].median())\n",
    "df['to_beat_extra'] = df['to_beat_extra'].fillna(df['to_beat_extra'].median())\n",
    "df['to_beat_completionist'] = df['to_beat_completionist'].fillna(df['to_beat_completionist'].median())\n",
    "df['extra_content_length'] = df['extra_content_length'].fillna(df['extra_content_length'].median())"
   ]
  },
  {
   "cell_type": "markdown",
   "metadata": {},
   "source": [
    "- Convert ```year``` column to ```datetime``` type:"
   ]
  },
  {
   "cell_type": "code",
   "execution_count": 457,
   "metadata": {},
   "outputs": [],
   "source": [
    "df = df.copy()\n",
    "df['year_temp'] = df['year']\n",
    "df.drop(columns=['year'], inplace=True)\n",
    "df['year'] = df['year_temp'].apply(lambda x: datetime.datetime(int(x), 1, 1).year)\n",
    "df.drop(columns=['year_temp'], inplace=True)"
   ]
  },
  {
   "cell_type": "markdown",
   "metadata": {},
   "source": [
    "- Convert ```reviewer_rating``` column into ```int``` type"
   ]
  },
  {
   "cell_type": "code",
   "execution_count": 458,
   "metadata": {},
   "outputs": [],
   "source": [
    "df['reviewer_rating'] = df['reviewer_rating'].apply(lambda x: int(x) if pd.notna(x) else x)"
   ]
  },
  {
   "cell_type": "markdown",
   "metadata": {},
   "source": [
    "- Dataset after **preprocessing**:"
   ]
  },
  {
   "cell_type": "code",
   "execution_count": 459,
   "metadata": {},
   "outputs": [
    {
     "data": {
      "text/html": [
       "<div>\n",
       "<style scoped>\n",
       "    .dataframe tbody tr th:only-of-type {\n",
       "        vertical-align: middle;\n",
       "    }\n",
       "\n",
       "    .dataframe tbody tr th {\n",
       "        vertical-align: top;\n",
       "    }\n",
       "\n",
       "    .dataframe thead th {\n",
       "        text-align: right;\n",
       "    }\n",
       "</style>\n",
       "<table border=\"1\" class=\"dataframe\">\n",
       "  <thead>\n",
       "    <tr style=\"text-align: right;\">\n",
       "      <th></th>\n",
       "      <th>name</th>\n",
       "      <th>reviewer_rating</th>\n",
       "      <th>positivity_ratio</th>\n",
       "      <th>to_beat_main</th>\n",
       "      <th>to_beat_extra</th>\n",
       "      <th>to_beat_completionist</th>\n",
       "      <th>extra_content_length</th>\n",
       "      <th>tags</th>\n",
       "      <th>year</th>\n",
       "    </tr>\n",
       "  </thead>\n",
       "  <tbody>\n",
       "    <tr>\n",
       "      <th>0</th>\n",
       "      <td>POSTAL</td>\n",
       "      <td>8</td>\n",
       "      <td>7.791457</td>\n",
       "      <td>2.54</td>\n",
       "      <td>3.38</td>\n",
       "      <td>9.73</td>\n",
       "      <td>7.19</td>\n",
       "      <td>Horror|Multiplayer|Level Editor|Action|Atmosph...</td>\n",
       "      <td>1997</td>\n",
       "    </tr>\n",
       "    <tr>\n",
       "      <th>1</th>\n",
       "      <td>Carmageddon Max Pack</td>\n",
       "      <td>8</td>\n",
       "      <td>7.906977</td>\n",
       "      <td>19.28</td>\n",
       "      <td>26.00</td>\n",
       "      <td>7.76</td>\n",
       "      <td>-19.28</td>\n",
       "      <td>Combat Racing|Classic|Racing|Arcade|Multiplaye...</td>\n",
       "      <td>1997</td>\n",
       "    </tr>\n",
       "    <tr>\n",
       "      <th>2</th>\n",
       "      <td>Half-Life</td>\n",
       "      <td>9</td>\n",
       "      <td>27.847231</td>\n",
       "      <td>17.17</td>\n",
       "      <td>17.41</td>\n",
       "      <td>18.40</td>\n",
       "      <td>1.23</td>\n",
       "      <td>Story Rich|First-Person|Action-Adventure|Multi...</td>\n",
       "      <td>1998</td>\n",
       "    </tr>\n",
       "    <tr>\n",
       "      <th>3</th>\n",
       "      <td>Half-Life: Opposing Force</td>\n",
       "      <td>9</td>\n",
       "      <td>19.693287</td>\n",
       "      <td>12.08</td>\n",
       "      <td>14.00</td>\n",
       "      <td>15.37</td>\n",
       "      <td>3.29</td>\n",
       "      <td>First-Person|Story Rich|Action|Adventure|Milit...</td>\n",
       "      <td>1999</td>\n",
       "    </tr>\n",
       "    <tr>\n",
       "      <th>4</th>\n",
       "      <td>Legacy of Kain: Soul Reaver</td>\n",
       "      <td>6</td>\n",
       "      <td>2.795309</td>\n",
       "      <td>11.79</td>\n",
       "      <td>12.78</td>\n",
       "      <td>14.51</td>\n",
       "      <td>2.72</td>\n",
       "      <td>Horror|Story Rich|Action-Adventure|Action|Adve...</td>\n",
       "      <td>1999</td>\n",
       "    </tr>\n",
       "    <tr>\n",
       "      <th>...</th>\n",
       "      <td>...</td>\n",
       "      <td>...</td>\n",
       "      <td>...</td>\n",
       "      <td>...</td>\n",
       "      <td>...</td>\n",
       "      <td>...</td>\n",
       "      <td>...</td>\n",
       "      <td>...</td>\n",
       "      <td>...</td>\n",
       "    </tr>\n",
       "    <tr>\n",
       "      <th>63438</th>\n",
       "      <td>Mr. Hopp's Playhouse 3</td>\n",
       "      <td>8</td>\n",
       "      <td>11.000000</td>\n",
       "      <td>2.04</td>\n",
       "      <td>7.50</td>\n",
       "      <td>7.76</td>\n",
       "      <td>-2.04</td>\n",
       "      <td>Horror|Story Rich|Action-Adventure|3D|Indie|Pi...</td>\n",
       "      <td>2023</td>\n",
       "    </tr>\n",
       "    <tr>\n",
       "      <th>63439</th>\n",
       "      <td>Shame Legacy</td>\n",
       "      <td>5</td>\n",
       "      <td>1.439024</td>\n",
       "      <td>2.38</td>\n",
       "      <td>7.50</td>\n",
       "      <td>3.38</td>\n",
       "      <td>1.00</td>\n",
       "      <td>Horror|Violent|Dark|Mystery Dungeon|First-Pers...</td>\n",
       "      <td>2023</td>\n",
       "    </tr>\n",
       "    <tr>\n",
       "      <th>63440</th>\n",
       "      <td>Melon Journey: Bittersweet Memories</td>\n",
       "      <td>8</td>\n",
       "      <td>6.875000</td>\n",
       "      <td>5.50</td>\n",
       "      <td>6.28</td>\n",
       "      <td>6.50</td>\n",
       "      <td>1.00</td>\n",
       "      <td>Cute|Pixel Graphics|Casual|Adventure</td>\n",
       "      <td>2023</td>\n",
       "    </tr>\n",
       "    <tr>\n",
       "      <th>63441</th>\n",
       "      <td>Forest Of Relics</td>\n",
       "      <td>8</td>\n",
       "      <td>8.000000</td>\n",
       "      <td>4.00</td>\n",
       "      <td>7.50</td>\n",
       "      <td>7.76</td>\n",
       "      <td>1.72</td>\n",
       "      <td>Platformer|3D Platformer|Funny|3D|Sexual Conte...</td>\n",
       "      <td>2023</td>\n",
       "    </tr>\n",
       "    <tr>\n",
       "      <th>63442</th>\n",
       "      <td>Substance 3D Sampler 2023</td>\n",
       "      <td>6</td>\n",
       "      <td>6.000000</td>\n",
       "      <td>4.00</td>\n",
       "      <td>7.50</td>\n",
       "      <td>7.76</td>\n",
       "      <td>1.72</td>\n",
       "      <td>Game Development</td>\n",
       "      <td>2023</td>\n",
       "    </tr>\n",
       "  </tbody>\n",
       "</table>\n",
       "<p>63443 rows × 9 columns</p>\n",
       "</div>"
      ],
      "text/plain": [
       "                                      name  reviewer_rating  positivity_ratio  \\\n",
       "0                                   POSTAL                8          7.791457   \n",
       "1                     Carmageddon Max Pack                8          7.906977   \n",
       "2                                Half-Life                9         27.847231   \n",
       "3                Half-Life: Opposing Force                9         19.693287   \n",
       "4              Legacy of Kain: Soul Reaver                6          2.795309   \n",
       "...                                    ...              ...               ...   \n",
       "63438               Mr. Hopp's Playhouse 3                8         11.000000   \n",
       "63439                         Shame Legacy                5          1.439024   \n",
       "63440  Melon Journey: Bittersweet Memories                8          6.875000   \n",
       "63441                     Forest Of Relics                8          8.000000   \n",
       "63442            Substance 3D Sampler 2023                6          6.000000   \n",
       "\n",
       "       to_beat_main  to_beat_extra  to_beat_completionist  \\\n",
       "0              2.54           3.38                   9.73   \n",
       "1             19.28          26.00                   7.76   \n",
       "2             17.17          17.41                  18.40   \n",
       "3             12.08          14.00                  15.37   \n",
       "4             11.79          12.78                  14.51   \n",
       "...             ...            ...                    ...   \n",
       "63438          2.04           7.50                   7.76   \n",
       "63439          2.38           7.50                   3.38   \n",
       "63440          5.50           6.28                   6.50   \n",
       "63441          4.00           7.50                   7.76   \n",
       "63442          4.00           7.50                   7.76   \n",
       "\n",
       "       extra_content_length  \\\n",
       "0                      7.19   \n",
       "1                    -19.28   \n",
       "2                      1.23   \n",
       "3                      3.29   \n",
       "4                      2.72   \n",
       "...                     ...   \n",
       "63438                 -2.04   \n",
       "63439                  1.00   \n",
       "63440                  1.00   \n",
       "63441                  1.72   \n",
       "63442                  1.72   \n",
       "\n",
       "                                                    tags  year  \n",
       "0      Horror|Multiplayer|Level Editor|Action|Atmosph...  1997  \n",
       "1      Combat Racing|Classic|Racing|Arcade|Multiplaye...  1997  \n",
       "2      Story Rich|First-Person|Action-Adventure|Multi...  1998  \n",
       "3      First-Person|Story Rich|Action|Adventure|Milit...  1999  \n",
       "4      Horror|Story Rich|Action-Adventure|Action|Adve...  1999  \n",
       "...                                                  ...   ...  \n",
       "63438  Horror|Story Rich|Action-Adventure|3D|Indie|Pi...  2023  \n",
       "63439  Horror|Violent|Dark|Mystery Dungeon|First-Pers...  2023  \n",
       "63440               Cute|Pixel Graphics|Casual|Adventure  2023  \n",
       "63441  Platformer|3D Platformer|Funny|3D|Sexual Conte...  2023  \n",
       "63442                                   Game Development  2023  \n",
       "\n",
       "[63443 rows x 9 columns]"
      ]
     },
     "execution_count": 459,
     "metadata": {},
     "output_type": "execute_result"
    }
   ],
   "source": [
    "df"
   ]
  },
  {
   "cell_type": "markdown",
   "metadata": {},
   "source": [
    "### 4.2. Preprocessing and answering Question 1: "
   ]
  },
  {
   "cell_type": "markdown",
   "metadata": {},
   "source": [
    "- Drop unnecessary columns"
   ]
  },
  {
   "cell_type": "code",
   "execution_count": 460,
   "metadata": {},
   "outputs": [],
   "source": [
    "df_q1 = df.drop(columns=['reviewer_rating', 'positivity_ratio', 'tags', 'to_beat_extra']) "
   ]
  },
  {
   "cell_type": "markdown",
   "metadata": {},
   "source": [
    "- Filter data into 2004-2005 period"
   ]
  },
  {
   "cell_type": "code",
   "execution_count": 461,
   "metadata": {},
   "outputs": [],
   "source": [
    "df_q1 = df_q1[(df_q1['year'] == 2004) | (df_q1['year'] == 2005)]"
   ]
  },
  {
   "cell_type": "code",
   "execution_count": 462,
   "metadata": {},
   "outputs": [
    {
     "data": {
      "text/html": [
       "<div>\n",
       "<style scoped>\n",
       "    .dataframe tbody tr th:only-of-type {\n",
       "        vertical-align: middle;\n",
       "    }\n",
       "\n",
       "    .dataframe tbody tr th {\n",
       "        vertical-align: top;\n",
       "    }\n",
       "\n",
       "    .dataframe thead th {\n",
       "        text-align: right;\n",
       "    }\n",
       "</style>\n",
       "<table border=\"1\" class=\"dataframe\">\n",
       "  <thead>\n",
       "    <tr style=\"text-align: right;\">\n",
       "      <th></th>\n",
       "      <th>name</th>\n",
       "      <th>to_beat_main</th>\n",
       "      <th>to_beat_completionist</th>\n",
       "      <th>extra_content_length</th>\n",
       "      <th>year</th>\n",
       "    </tr>\n",
       "  </thead>\n",
       "  <tbody>\n",
       "    <tr>\n",
       "      <th>18</th>\n",
       "      <td>Counter-Strike: Source</td>\n",
       "      <td>28.61</td>\n",
       "      <td>563.75</td>\n",
       "      <td>535.14</td>\n",
       "      <td>2004</td>\n",
       "    </tr>\n",
       "    <tr>\n",
       "      <th>19</th>\n",
       "      <td>Half-Life 2</td>\n",
       "      <td>17.17</td>\n",
       "      <td>18.40</td>\n",
       "      <td>1.23</td>\n",
       "      <td>2004</td>\n",
       "    </tr>\n",
       "    <tr>\n",
       "      <th>20</th>\n",
       "      <td>Counter-Strike: Condition Zero</td>\n",
       "      <td>28.61</td>\n",
       "      <td>563.75</td>\n",
       "      <td>535.14</td>\n",
       "      <td>2004</td>\n",
       "    </tr>\n",
       "    <tr>\n",
       "      <th>21</th>\n",
       "      <td>Half-Life 2: Deathmatch</td>\n",
       "      <td>12.95</td>\n",
       "      <td>19.47</td>\n",
       "      <td>6.52</td>\n",
       "      <td>2004</td>\n",
       "    </tr>\n",
       "    <tr>\n",
       "      <th>22</th>\n",
       "      <td>Half-Life: Source</td>\n",
       "      <td>12.08</td>\n",
       "      <td>15.37</td>\n",
       "      <td>3.29</td>\n",
       "      <td>2004</td>\n",
       "    </tr>\n",
       "    <tr>\n",
       "      <th>23</th>\n",
       "      <td>Geneforge 3</td>\n",
       "      <td>13.24</td>\n",
       "      <td>75.00</td>\n",
       "      <td>61.76</td>\n",
       "      <td>2005</td>\n",
       "    </tr>\n",
       "    <tr>\n",
       "      <th>24</th>\n",
       "      <td>Rag Doll Kung Fu</td>\n",
       "      <td>1.83</td>\n",
       "      <td>5.00</td>\n",
       "      <td>3.17</td>\n",
       "      <td>2005</td>\n",
       "    </tr>\n",
       "    <tr>\n",
       "      <th>25</th>\n",
       "      <td>Dungeon Siege II</td>\n",
       "      <td>27.09</td>\n",
       "      <td>53.77</td>\n",
       "      <td>26.68</td>\n",
       "      <td>2005</td>\n",
       "    </tr>\n",
       "    <tr>\n",
       "      <th>26</th>\n",
       "      <td>Half-Life 2: Lost Coast</td>\n",
       "      <td>12.95</td>\n",
       "      <td>19.47</td>\n",
       "      <td>6.52</td>\n",
       "      <td>2005</td>\n",
       "    </tr>\n",
       "    <tr>\n",
       "      <th>27</th>\n",
       "      <td>Darwinia</td>\n",
       "      <td>10.08</td>\n",
       "      <td>22.78</td>\n",
       "      <td>12.70</td>\n",
       "      <td>2005</td>\n",
       "    </tr>\n",
       "    <tr>\n",
       "      <th>28</th>\n",
       "      <td>Tom Clancy's Splinter Cell Chaos Theory®</td>\n",
       "      <td>12.99</td>\n",
       "      <td>19.44</td>\n",
       "      <td>6.45</td>\n",
       "      <td>2005</td>\n",
       "    </tr>\n",
       "  </tbody>\n",
       "</table>\n",
       "</div>"
      ],
      "text/plain": [
       "                                        name  to_beat_main  \\\n",
       "18                    Counter-Strike: Source         28.61   \n",
       "19                               Half-Life 2         17.17   \n",
       "20            Counter-Strike: Condition Zero         28.61   \n",
       "21                   Half-Life 2: Deathmatch         12.95   \n",
       "22                         Half-Life: Source         12.08   \n",
       "23                               Geneforge 3         13.24   \n",
       "24                          Rag Doll Kung Fu          1.83   \n",
       "25                          Dungeon Siege II         27.09   \n",
       "26                   Half-Life 2: Lost Coast         12.95   \n",
       "27                                  Darwinia         10.08   \n",
       "28  Tom Clancy's Splinter Cell Chaos Theory®         12.99   \n",
       "\n",
       "    to_beat_completionist  extra_content_length  year  \n",
       "18                 563.75                535.14  2004  \n",
       "19                  18.40                  1.23  2004  \n",
       "20                 563.75                535.14  2004  \n",
       "21                  19.47                  6.52  2004  \n",
       "22                  15.37                  3.29  2004  \n",
       "23                  75.00                 61.76  2005  \n",
       "24                   5.00                  3.17  2005  \n",
       "25                  53.77                 26.68  2005  \n",
       "26                  19.47                  6.52  2005  \n",
       "27                  22.78                 12.70  2005  \n",
       "28                  19.44                  6.45  2005  "
      ]
     },
     "execution_count": 462,
     "metadata": {},
     "output_type": "execute_result"
    }
   ],
   "source": [
    "df_q1"
   ]
  },
  {
   "cell_type": "markdown",
   "metadata": {},
   "source": [
    "### 4.3. Preprocessing and answering Question 2: "
   ]
  },
  {
   "cell_type": "markdown",
   "metadata": {},
   "source": [
    "- Drop unnecessary columns"
   ]
  },
  {
   "cell_type": "code",
   "execution_count": 463,
   "metadata": {},
   "outputs": [
    {
     "data": {
      "text/html": [
       "<div>\n",
       "<style scoped>\n",
       "    .dataframe tbody tr th:only-of-type {\n",
       "        vertical-align: middle;\n",
       "    }\n",
       "\n",
       "    .dataframe tbody tr th {\n",
       "        vertical-align: top;\n",
       "    }\n",
       "\n",
       "    .dataframe thead th {\n",
       "        text-align: right;\n",
       "    }\n",
       "</style>\n",
       "<table border=\"1\" class=\"dataframe\">\n",
       "  <thead>\n",
       "    <tr style=\"text-align: right;\">\n",
       "      <th></th>\n",
       "      <th>name</th>\n",
       "      <th>reviewer_rating</th>\n",
       "      <th>positivity_ratio</th>\n",
       "      <th>tags</th>\n",
       "      <th>year</th>\n",
       "    </tr>\n",
       "  </thead>\n",
       "  <tbody>\n",
       "    <tr>\n",
       "      <th>0</th>\n",
       "      <td>POSTAL</td>\n",
       "      <td>8</td>\n",
       "      <td>7.791457</td>\n",
       "      <td>Horror|Multiplayer|Level Editor|Action|Atmosph...</td>\n",
       "      <td>1997</td>\n",
       "    </tr>\n",
       "    <tr>\n",
       "      <th>1</th>\n",
       "      <td>Carmageddon Max Pack</td>\n",
       "      <td>8</td>\n",
       "      <td>7.906977</td>\n",
       "      <td>Combat Racing|Classic|Racing|Arcade|Multiplaye...</td>\n",
       "      <td>1997</td>\n",
       "    </tr>\n",
       "    <tr>\n",
       "      <th>2</th>\n",
       "      <td>Half-Life</td>\n",
       "      <td>9</td>\n",
       "      <td>27.847231</td>\n",
       "      <td>Story Rich|First-Person|Action-Adventure|Multi...</td>\n",
       "      <td>1998</td>\n",
       "    </tr>\n",
       "    <tr>\n",
       "      <th>3</th>\n",
       "      <td>Half-Life: Opposing Force</td>\n",
       "      <td>9</td>\n",
       "      <td>19.693287</td>\n",
       "      <td>First-Person|Story Rich|Action|Adventure|Milit...</td>\n",
       "      <td>1999</td>\n",
       "    </tr>\n",
       "    <tr>\n",
       "      <th>4</th>\n",
       "      <td>Legacy of Kain: Soul Reaver</td>\n",
       "      <td>6</td>\n",
       "      <td>2.795309</td>\n",
       "      <td>Horror|Story Rich|Action-Adventure|Action|Adve...</td>\n",
       "      <td>1999</td>\n",
       "    </tr>\n",
       "    <tr>\n",
       "      <th>...</th>\n",
       "      <td>...</td>\n",
       "      <td>...</td>\n",
       "      <td>...</td>\n",
       "      <td>...</td>\n",
       "      <td>...</td>\n",
       "    </tr>\n",
       "    <tr>\n",
       "      <th>63438</th>\n",
       "      <td>Mr. Hopp's Playhouse 3</td>\n",
       "      <td>8</td>\n",
       "      <td>11.000000</td>\n",
       "      <td>Horror|Story Rich|Action-Adventure|3D|Indie|Pi...</td>\n",
       "      <td>2023</td>\n",
       "    </tr>\n",
       "    <tr>\n",
       "      <th>63439</th>\n",
       "      <td>Shame Legacy</td>\n",
       "      <td>5</td>\n",
       "      <td>1.439024</td>\n",
       "      <td>Horror|Violent|Dark|Mystery Dungeon|First-Pers...</td>\n",
       "      <td>2023</td>\n",
       "    </tr>\n",
       "    <tr>\n",
       "      <th>63440</th>\n",
       "      <td>Melon Journey: Bittersweet Memories</td>\n",
       "      <td>8</td>\n",
       "      <td>6.875000</td>\n",
       "      <td>Cute|Pixel Graphics|Casual|Adventure</td>\n",
       "      <td>2023</td>\n",
       "    </tr>\n",
       "    <tr>\n",
       "      <th>63441</th>\n",
       "      <td>Forest Of Relics</td>\n",
       "      <td>8</td>\n",
       "      <td>8.000000</td>\n",
       "      <td>Platformer|3D Platformer|Funny|3D|Sexual Conte...</td>\n",
       "      <td>2023</td>\n",
       "    </tr>\n",
       "    <tr>\n",
       "      <th>63442</th>\n",
       "      <td>Substance 3D Sampler 2023</td>\n",
       "      <td>6</td>\n",
       "      <td>6.000000</td>\n",
       "      <td>Game Development</td>\n",
       "      <td>2023</td>\n",
       "    </tr>\n",
       "  </tbody>\n",
       "</table>\n",
       "<p>63443 rows × 5 columns</p>\n",
       "</div>"
      ],
      "text/plain": [
       "                                      name  reviewer_rating  positivity_ratio  \\\n",
       "0                                   POSTAL                8          7.791457   \n",
       "1                     Carmageddon Max Pack                8          7.906977   \n",
       "2                                Half-Life                9         27.847231   \n",
       "3                Half-Life: Opposing Force                9         19.693287   \n",
       "4              Legacy of Kain: Soul Reaver                6          2.795309   \n",
       "...                                    ...              ...               ...   \n",
       "63438               Mr. Hopp's Playhouse 3                8         11.000000   \n",
       "63439                         Shame Legacy                5          1.439024   \n",
       "63440  Melon Journey: Bittersweet Memories                8          6.875000   \n",
       "63441                     Forest Of Relics                8          8.000000   \n",
       "63442            Substance 3D Sampler 2023                6          6.000000   \n",
       "\n",
       "                                                    tags  year  \n",
       "0      Horror|Multiplayer|Level Editor|Action|Atmosph...  1997  \n",
       "1      Combat Racing|Classic|Racing|Arcade|Multiplaye...  1997  \n",
       "2      Story Rich|First-Person|Action-Adventure|Multi...  1998  \n",
       "3      First-Person|Story Rich|Action|Adventure|Milit...  1999  \n",
       "4      Horror|Story Rich|Action-Adventure|Action|Adve...  1999  \n",
       "...                                                  ...   ...  \n",
       "63438  Horror|Story Rich|Action-Adventure|3D|Indie|Pi...  2023  \n",
       "63439  Horror|Violent|Dark|Mystery Dungeon|First-Pers...  2023  \n",
       "63440               Cute|Pixel Graphics|Casual|Adventure  2023  \n",
       "63441  Platformer|3D Platformer|Funny|3D|Sexual Conte...  2023  \n",
       "63442                                   Game Development  2023  \n",
       "\n",
       "[63443 rows x 5 columns]"
      ]
     },
     "execution_count": 463,
     "metadata": {},
     "output_type": "execute_result"
    }
   ],
   "source": [
    "df_q2 = df.drop(columns=['to_beat_main', 'to_beat_extra', 'to_beat_completionist', 'extra_content_length'])\n",
    "df_q2"
   ]
  },
  {
   "cell_type": "markdown",
   "metadata": {},
   "source": [
    "- Add ```Singleplayer / Multiplayer``` column, extracted from ```tags``` and drop the ```tags``` column"
   ]
  },
  {
   "cell_type": "code",
   "execution_count": 464,
   "metadata": {},
   "outputs": [
    {
     "data": {
      "text/html": [
       "<div>\n",
       "<style scoped>\n",
       "    .dataframe tbody tr th:only-of-type {\n",
       "        vertical-align: middle;\n",
       "    }\n",
       "\n",
       "    .dataframe tbody tr th {\n",
       "        vertical-align: top;\n",
       "    }\n",
       "\n",
       "    .dataframe thead th {\n",
       "        text-align: right;\n",
       "    }\n",
       "</style>\n",
       "<table border=\"1\" class=\"dataframe\">\n",
       "  <thead>\n",
       "    <tr style=\"text-align: right;\">\n",
       "      <th></th>\n",
       "      <th>name</th>\n",
       "      <th>reviewer_rating</th>\n",
       "      <th>positivity_ratio</th>\n",
       "      <th>year</th>\n",
       "      <th>Singleplayer / Multiplayer</th>\n",
       "    </tr>\n",
       "  </thead>\n",
       "  <tbody>\n",
       "    <tr>\n",
       "      <th>0</th>\n",
       "      <td>POSTAL</td>\n",
       "      <td>8</td>\n",
       "      <td>7.791457</td>\n",
       "      <td>1997</td>\n",
       "      <td>Both</td>\n",
       "    </tr>\n",
       "    <tr>\n",
       "      <th>1</th>\n",
       "      <td>Carmageddon Max Pack</td>\n",
       "      <td>8</td>\n",
       "      <td>7.906977</td>\n",
       "      <td>1997</td>\n",
       "      <td>Both</td>\n",
       "    </tr>\n",
       "    <tr>\n",
       "      <th>2</th>\n",
       "      <td>Half-Life</td>\n",
       "      <td>9</td>\n",
       "      <td>27.847231</td>\n",
       "      <td>1998</td>\n",
       "      <td>Both</td>\n",
       "    </tr>\n",
       "    <tr>\n",
       "      <th>3</th>\n",
       "      <td>Half-Life: Opposing Force</td>\n",
       "      <td>9</td>\n",
       "      <td>19.693287</td>\n",
       "      <td>1999</td>\n",
       "      <td>Singleplayer</td>\n",
       "    </tr>\n",
       "    <tr>\n",
       "      <th>4</th>\n",
       "      <td>Legacy of Kain: Soul Reaver</td>\n",
       "      <td>6</td>\n",
       "      <td>2.795309</td>\n",
       "      <td>1999</td>\n",
       "      <td>Singleplayer</td>\n",
       "    </tr>\n",
       "    <tr>\n",
       "      <th>...</th>\n",
       "      <td>...</td>\n",
       "      <td>...</td>\n",
       "      <td>...</td>\n",
       "      <td>...</td>\n",
       "      <td>...</td>\n",
       "    </tr>\n",
       "    <tr>\n",
       "      <th>63438</th>\n",
       "      <td>Mr. Hopp's Playhouse 3</td>\n",
       "      <td>8</td>\n",
       "      <td>11.000000</td>\n",
       "      <td>2023</td>\n",
       "      <td>Singleplayer</td>\n",
       "    </tr>\n",
       "    <tr>\n",
       "      <th>63439</th>\n",
       "      <td>Shame Legacy</td>\n",
       "      <td>5</td>\n",
       "      <td>1.439024</td>\n",
       "      <td>2023</td>\n",
       "      <td>Singleplayer</td>\n",
       "    </tr>\n",
       "    <tr>\n",
       "      <th>63440</th>\n",
       "      <td>Melon Journey: Bittersweet Memories</td>\n",
       "      <td>8</td>\n",
       "      <td>6.875000</td>\n",
       "      <td>2023</td>\n",
       "      <td>None</td>\n",
       "    </tr>\n",
       "    <tr>\n",
       "      <th>63441</th>\n",
       "      <td>Forest Of Relics</td>\n",
       "      <td>8</td>\n",
       "      <td>8.000000</td>\n",
       "      <td>2023</td>\n",
       "      <td>Singleplayer</td>\n",
       "    </tr>\n",
       "    <tr>\n",
       "      <th>63442</th>\n",
       "      <td>Substance 3D Sampler 2023</td>\n",
       "      <td>6</td>\n",
       "      <td>6.000000</td>\n",
       "      <td>2023</td>\n",
       "      <td>None</td>\n",
       "    </tr>\n",
       "  </tbody>\n",
       "</table>\n",
       "<p>63443 rows × 5 columns</p>\n",
       "</div>"
      ],
      "text/plain": [
       "                                      name  reviewer_rating  positivity_ratio  \\\n",
       "0                                   POSTAL                8          7.791457   \n",
       "1                     Carmageddon Max Pack                8          7.906977   \n",
       "2                                Half-Life                9         27.847231   \n",
       "3                Half-Life: Opposing Force                9         19.693287   \n",
       "4              Legacy of Kain: Soul Reaver                6          2.795309   \n",
       "...                                    ...              ...               ...   \n",
       "63438               Mr. Hopp's Playhouse 3                8         11.000000   \n",
       "63439                         Shame Legacy                5          1.439024   \n",
       "63440  Melon Journey: Bittersweet Memories                8          6.875000   \n",
       "63441                     Forest Of Relics                8          8.000000   \n",
       "63442            Substance 3D Sampler 2023                6          6.000000   \n",
       "\n",
       "       year Singleplayer / Multiplayer  \n",
       "0      1997                       Both  \n",
       "1      1997                       Both  \n",
       "2      1998                       Both  \n",
       "3      1999               Singleplayer  \n",
       "4      1999               Singleplayer  \n",
       "...     ...                        ...  \n",
       "63438  2023               Singleplayer  \n",
       "63439  2023               Singleplayer  \n",
       "63440  2023                       None  \n",
       "63441  2023               Singleplayer  \n",
       "63442  2023                       None  \n",
       "\n",
       "[63443 rows x 5 columns]"
      ]
     },
     "execution_count": 464,
     "metadata": {},
     "output_type": "execute_result"
    }
   ],
   "source": [
    "def play_mode(tags):\n",
    "    if \"Singleplayer\" in tags and \"Multiplayer\" in tags:\n",
    "        return \"Both\"\n",
    "    elif \"Singleplayer\" in tags:\n",
    "        return \"Singleplayer\"\n",
    "    elif \"Multiplayer\" in tags:\n",
    "        return \"Multiplayer\"\n",
    "    else:\n",
    "        return \"None\"\n",
    "\n",
    "df_q2['Singleplayer / Multiplayer'] = [play_mode(tag) for tag in df_q2['tags']]\n",
    "df_q2.drop(columns='tags')"
   ]
  },
  {
   "cell_type": "markdown",
   "metadata": {},
   "source": [
    "# 5. Reflection"
   ]
  }
 ],
 "metadata": {
  "kernelspec": {
   "display_name": "Python 3",
   "language": "python",
   "name": "python3"
  },
  "language_info": {
   "codemirror_mode": {
    "name": "ipython",
    "version": 3
   },
   "file_extension": ".py",
   "mimetype": "text/x-python",
   "name": "python",
   "nbconvert_exporter": "python",
   "pygments_lexer": "ipython3",
   "version": "3.11.9"
  }
 },
 "nbformat": 4,
 "nbformat_minor": 4
}
