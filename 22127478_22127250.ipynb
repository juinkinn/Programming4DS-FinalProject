{
 "cells": [
  {
   "cell_type": "markdown",
   "metadata": {},
   "source": [
    "# Final Project - Programming for Data Science"
   ]
  },
  {
   "cell_type": "markdown",
   "metadata": {},
   "source": [
    "## Team members"
   ]
  },
  {
   "cell_type": "markdown",
   "metadata": {},
   "source": [
    "1. Nguyễn Hoàng Trung Kiên - 22127478\n",
    "\n",
    "2. Trần Thành Long - 22127250"
   ]
  },
  {
   "cell_type": "markdown",
   "metadata": {},
   "source": [
    "## Dataset name\n",
    "\n",
    "**Steam games dataset**"
   ]
  },
  {
   "cell_type": "markdown",
   "metadata": {},
   "source": [
    "## Import libraries"
   ]
  },
  {
   "cell_type": "code",
   "execution_count": 330,
   "metadata": {},
   "outputs": [],
   "source": [
    "import pandas as pd\n",
    "import matplotlib.pyplot as plt\n",
    "import datetime"
   ]
  },
  {
   "cell_type": "markdown",
   "metadata": {},
   "source": [
    "## 1. Collecting data"
   ]
  },
  {
   "cell_type": "code",
   "execution_count": 331,
   "metadata": {},
   "outputs": [
    {
     "data": {
      "text/html": [
       "<div>\n",
       "<style scoped>\n",
       "    .dataframe tbody tr th:only-of-type {\n",
       "        vertical-align: middle;\n",
       "    }\n",
       "\n",
       "    .dataframe tbody tr th {\n",
       "        vertical-align: top;\n",
       "    }\n",
       "\n",
       "    .dataframe thead th {\n",
       "        text-align: right;\n",
       "    }\n",
       "</style>\n",
       "<table border=\"1\" class=\"dataframe\">\n",
       "  <thead>\n",
       "    <tr style=\"text-align: right;\">\n",
       "      <th></th>\n",
       "      <th>id</th>\n",
       "      <th>name</th>\n",
       "      <th>year</th>\n",
       "      <th>metacritic_rating</th>\n",
       "      <th>reviewer_rating</th>\n",
       "      <th>positivity_ratio</th>\n",
       "      <th>to_beat_main</th>\n",
       "      <th>to_beat_extra</th>\n",
       "      <th>to_beat_completionist</th>\n",
       "      <th>extra_content_length</th>\n",
       "      <th>tags</th>\n",
       "    </tr>\n",
       "  </thead>\n",
       "  <tbody>\n",
       "    <tr>\n",
       "      <th>0</th>\n",
       "      <td>96000</td>\n",
       "      <td>The Tiny Bang Story</td>\n",
       "      <td>2011.0</td>\n",
       "      <td>63.0</td>\n",
       "      <td>8.0</td>\n",
       "      <td>7.073879</td>\n",
       "      <td>3.60</td>\n",
       "      <td>3.60</td>\n",
       "      <td>3.77</td>\n",
       "      <td>0.17</td>\n",
       "      <td>Story Rich|Steampunk|Adventure|Atmospheric|Puz...</td>\n",
       "    </tr>\n",
       "    <tr>\n",
       "      <th>1</th>\n",
       "      <td>262410</td>\n",
       "      <td>World of Guns: Gun Disassembly</td>\n",
       "      <td>2014.0</td>\n",
       "      <td>NaN</td>\n",
       "      <td>8.0</td>\n",
       "      <td>5.208940</td>\n",
       "      <td>2.00</td>\n",
       "      <td>NaN</td>\n",
       "      <td>28.07</td>\n",
       "      <td>26.07</td>\n",
       "      <td>Horror|First-Person|Historical|Multiplayer|Str...</td>\n",
       "    </tr>\n",
       "    <tr>\n",
       "      <th>2</th>\n",
       "      <td>1250410</td>\n",
       "      <td>Microsoft Flight Simulator 40th Anniversary Ed...</td>\n",
       "      <td>2020.0</td>\n",
       "      <td>91.0</td>\n",
       "      <td>6.0</td>\n",
       "      <td>3.581082</td>\n",
       "      <td>NaN</td>\n",
       "      <td>NaN</td>\n",
       "      <td>NaN</td>\n",
       "      <td>NaN</td>\n",
       "      <td>Multiplayer|Adventure|VR|Action Roguelike|Phys...</td>\n",
       "    </tr>\n",
       "    <tr>\n",
       "      <th>3</th>\n",
       "      <td>365450</td>\n",
       "      <td>Hacknet</td>\n",
       "      <td>2015.0</td>\n",
       "      <td>82.0</td>\n",
       "      <td>8.0</td>\n",
       "      <td>14.548520</td>\n",
       "      <td>7.06</td>\n",
       "      <td>8.73</td>\n",
       "      <td>10.75</td>\n",
       "      <td>3.69</td>\n",
       "      <td>Horror|Story Rich|Hacking|Crime|Multiplayer|Dy...</td>\n",
       "    </tr>\n",
       "    <tr>\n",
       "      <th>4</th>\n",
       "      <td>92800</td>\n",
       "      <td>SpaceChem</td>\n",
       "      <td>2011.0</td>\n",
       "      <td>84.0</td>\n",
       "      <td>8.0</td>\n",
       "      <td>11.440415</td>\n",
       "      <td>43.32</td>\n",
       "      <td>57.79</td>\n",
       "      <td>67.55</td>\n",
       "      <td>24.23</td>\n",
       "      <td>Automation|Strategy|Building|Puzzle|Science|Pr...</td>\n",
       "    </tr>\n",
       "    <tr>\n",
       "      <th>...</th>\n",
       "      <td>...</td>\n",
       "      <td>...</td>\n",
       "      <td>...</td>\n",
       "      <td>...</td>\n",
       "      <td>...</td>\n",
       "      <td>...</td>\n",
       "      <td>...</td>\n",
       "      <td>...</td>\n",
       "      <td>...</td>\n",
       "      <td>...</td>\n",
       "      <td>...</td>\n",
       "    </tr>\n",
       "    <tr>\n",
       "      <th>63538</th>\n",
       "      <td>521720</td>\n",
       "      <td>Uncharted Waters</td>\n",
       "      <td>2017.0</td>\n",
       "      <td>NaN</td>\n",
       "      <td>7.0</td>\n",
       "      <td>6.000000</td>\n",
       "      <td>27.88</td>\n",
       "      <td>29.86</td>\n",
       "      <td>NaN</td>\n",
       "      <td>-27.88</td>\n",
       "      <td>Retro|RPG|Trading</td>\n",
       "    </tr>\n",
       "    <tr>\n",
       "      <th>63539</th>\n",
       "      <td>34311</td>\n",
       "      <td>Kid Chameleon™</td>\n",
       "      <td>2010.0</td>\n",
       "      <td>NaN</td>\n",
       "      <td>NaN</td>\n",
       "      <td>6.000000</td>\n",
       "      <td>4.38</td>\n",
       "      <td>8.15</td>\n",
       "      <td>11.17</td>\n",
       "      <td>6.79</td>\n",
       "      <td>Retro|Platformer</td>\n",
       "    </tr>\n",
       "    <tr>\n",
       "      <th>63540</th>\n",
       "      <td>34289</td>\n",
       "      <td>Fatal Labyrinth™</td>\n",
       "      <td>2010.0</td>\n",
       "      <td>NaN</td>\n",
       "      <td>7.0</td>\n",
       "      <td>5.000000</td>\n",
       "      <td>4.00</td>\n",
       "      <td>4.58</td>\n",
       "      <td>4.60</td>\n",
       "      <td>0.60</td>\n",
       "      <td>RPG</td>\n",
       "    </tr>\n",
       "    <tr>\n",
       "      <th>63541</th>\n",
       "      <td>628150</td>\n",
       "      <td>Sangokushi Eiketsuden</td>\n",
       "      <td>2017.0</td>\n",
       "      <td>NaN</td>\n",
       "      <td>6.0</td>\n",
       "      <td>3.153846</td>\n",
       "      <td>NaN</td>\n",
       "      <td>NaN</td>\n",
       "      <td>NaN</td>\n",
       "      <td>NaN</td>\n",
       "      <td>RPG</td>\n",
       "    </tr>\n",
       "    <tr>\n",
       "      <th>63542</th>\n",
       "      <td>660570</td>\n",
       "      <td>Million Arthur VR: Character Command RPG</td>\n",
       "      <td>2017.0</td>\n",
       "      <td>NaN</td>\n",
       "      <td>5.0</td>\n",
       "      <td>1.500000</td>\n",
       "      <td>NaN</td>\n",
       "      <td>NaN</td>\n",
       "      <td>NaN</td>\n",
       "      <td>NaN</td>\n",
       "      <td>RPG|VR|Anime</td>\n",
       "    </tr>\n",
       "  </tbody>\n",
       "</table>\n",
       "<p>63543 rows × 11 columns</p>\n",
       "</div>"
      ],
      "text/plain": [
       "            id                                               name    year  \\\n",
       "0        96000                                The Tiny Bang Story  2011.0   \n",
       "1       262410                     World of Guns: Gun Disassembly  2014.0   \n",
       "2      1250410  Microsoft Flight Simulator 40th Anniversary Ed...  2020.0   \n",
       "3       365450                                            Hacknet  2015.0   \n",
       "4        92800                                          SpaceChem  2011.0   \n",
       "...        ...                                                ...     ...   \n",
       "63538   521720                                   Uncharted Waters  2017.0   \n",
       "63539    34311                                     Kid Chameleon™  2010.0   \n",
       "63540    34289                                   Fatal Labyrinth™  2010.0   \n",
       "63541   628150                              Sangokushi Eiketsuden  2017.0   \n",
       "63542   660570           Million Arthur VR: Character Command RPG  2017.0   \n",
       "\n",
       "       metacritic_rating  reviewer_rating  positivity_ratio  to_beat_main  \\\n",
       "0                   63.0              8.0          7.073879          3.60   \n",
       "1                    NaN              8.0          5.208940          2.00   \n",
       "2                   91.0              6.0          3.581082           NaN   \n",
       "3                   82.0              8.0         14.548520          7.06   \n",
       "4                   84.0              8.0         11.440415         43.32   \n",
       "...                  ...              ...               ...           ...   \n",
       "63538                NaN              7.0          6.000000         27.88   \n",
       "63539                NaN              NaN          6.000000          4.38   \n",
       "63540                NaN              7.0          5.000000          4.00   \n",
       "63541                NaN              6.0          3.153846           NaN   \n",
       "63542                NaN              5.0          1.500000           NaN   \n",
       "\n",
       "       to_beat_extra  to_beat_completionist  extra_content_length  \\\n",
       "0               3.60                   3.77                  0.17   \n",
       "1                NaN                  28.07                 26.07   \n",
       "2                NaN                    NaN                   NaN   \n",
       "3               8.73                  10.75                  3.69   \n",
       "4              57.79                  67.55                 24.23   \n",
       "...              ...                    ...                   ...   \n",
       "63538          29.86                    NaN                -27.88   \n",
       "63539           8.15                  11.17                  6.79   \n",
       "63540           4.58                   4.60                  0.60   \n",
       "63541            NaN                    NaN                   NaN   \n",
       "63542            NaN                    NaN                   NaN   \n",
       "\n",
       "                                                    tags  \n",
       "0      Story Rich|Steampunk|Adventure|Atmospheric|Puz...  \n",
       "1      Horror|First-Person|Historical|Multiplayer|Str...  \n",
       "2      Multiplayer|Adventure|VR|Action Roguelike|Phys...  \n",
       "3      Horror|Story Rich|Hacking|Crime|Multiplayer|Dy...  \n",
       "4      Automation|Strategy|Building|Puzzle|Science|Pr...  \n",
       "...                                                  ...  \n",
       "63538                                  Retro|RPG|Trading  \n",
       "63539                                   Retro|Platformer  \n",
       "63540                                                RPG  \n",
       "63541                                                RPG  \n",
       "63542                                       RPG|VR|Anime  \n",
       "\n",
       "[63543 rows x 11 columns]"
      ]
     },
     "execution_count": 331,
     "metadata": {},
     "output_type": "execute_result"
    }
   ],
   "source": [
    "df = pd.read_csv('dataset.csv')\n",
    "df"
   ]
  },
  {
   "cell_type": "markdown",
   "metadata": {},
   "source": [
    "### What subject is your data about? What is the source of your data?"
   ]
  },
  {
   "cell_type": "markdown",
   "metadata": {},
   "source": [
    "### Do authors of this data allow you to use like this? ###"
   ]
  },
  {
   "cell_type": "markdown",
   "metadata": {},
   "source": [
    "### How did authors collect data? ###"
   ]
  },
  {
   "cell_type": "markdown",
   "metadata": {},
   "source": [
    "## 2. Exploring data and preprocessing"
   ]
  },
  {
   "cell_type": "markdown",
   "metadata": {},
   "source": [
    "### How many rows and how many columns?"
   ]
  },
  {
   "cell_type": "code",
   "execution_count": 332,
   "metadata": {},
   "outputs": [
    {
     "data": {
      "text/plain": [
       "(63543, 11)"
      ]
     },
     "execution_count": 332,
     "metadata": {},
     "output_type": "execute_result"
    }
   ],
   "source": [
    "df.shape"
   ]
  },
  {
   "cell_type": "markdown",
   "metadata": {},
   "source": [
    "- Answer: There are ```63543``` rows and ```11``` columns"
   ]
  },
  {
   "cell_type": "markdown",
   "metadata": {},
   "source": [
    "### What is the meaning of each row?"
   ]
  },
  {
   "cell_type": "markdown",
   "metadata": {},
   "source": [
    "### Are there duplicated rows?"
   ]
  },
  {
   "cell_type": "code",
   "execution_count": 333,
   "metadata": {},
   "outputs": [
    {
     "data": {
      "text/plain": [
       "np.int64(0)"
      ]
     },
     "execution_count": 333,
     "metadata": {},
     "output_type": "execute_result"
    }
   ],
   "source": [
    "df.duplicated().sum()"
   ]
  },
  {
   "cell_type": "markdown",
   "metadata": {},
   "source": [
    "- Answer: There are no duplicates row."
   ]
  },
  {
   "cell_type": "markdown",
   "metadata": {},
   "source": [
    "### What is the meaning of each column?"
   ]
  },
  {
   "cell_type": "markdown",
   "metadata": {},
   "source": [
    "### What is the current data type of each column? Are there columns having inappropriate data types?"
   ]
  },
  {
   "cell_type": "code",
   "execution_count": 334,
   "metadata": {},
   "outputs": [
    {
     "data": {
      "text/plain": [
       "id                         int64\n",
       "name                      object\n",
       "year                     float64\n",
       "metacritic_rating        float64\n",
       "reviewer_rating          float64\n",
       "positivity_ratio         float64\n",
       "to_beat_main             float64\n",
       "to_beat_extra            float64\n",
       "to_beat_completionist    float64\n",
       "extra_content_length     float64\n",
       "tags                      object\n",
       "dtype: object"
      ]
     },
     "execution_count": 334,
     "metadata": {},
     "output_type": "execute_result"
    }
   ],
   "source": [
    "df.dtypes"
   ]
  },
  {
   "cell_type": "markdown",
   "metadata": {},
   "source": [
    "- Answer: ```Year``` should be in ```date``` data type."
   ]
  },
  {
   "cell_type": "markdown",
   "metadata": {},
   "source": [
    "### With each numerical column, how are values distributed?"
   ]
  },
  {
   "cell_type": "markdown",
   "metadata": {},
   "source": [
    "- What is the percentage of missing values?"
   ]
  },
  {
   "cell_type": "code",
   "execution_count": 335,
   "metadata": {},
   "outputs": [
    {
     "name": "stdout",
     "output_type": "stream",
     "text": [
      "id: 0.0 %\n",
      "year: 0.1573737469115402 %\n",
      "metacritic_rating: 93.83724407094408 %\n",
      "reviewer_rating: 29.765670490848716 %\n",
      "positivity_ratio: 3.167933525329304 %\n",
      "to_beat_main: 71.98589931227673 %\n",
      "to_beat_extra: 78.86942700218749 %\n",
      "to_beat_completionist: 74.7635459452654 %\n",
      "extra_content_length: 66.66509292919756 %\n"
     ]
    }
   ],
   "source": [
    "numerical_cols = ['id', 'year', 'metacritic_rating', 'reviewer_rating', 'positivity_ratio', 'to_beat_main', 'to_beat_extra', 'to_beat_completionist', 'extra_content_length']\n",
    "missing_data = {numerical_col: sum(value == \"?\" or value != value for value in df[numerical_col]) / len(df[numerical_col]) * 100 for numerical_col in df[numerical_cols]}\n",
    "for k, v in missing_data.items():\n",
    "    print(f'{k}: {v} %')"
   ]
  },
  {
   "cell_type": "markdown",
   "metadata": {},
   "source": [
    "- Min? max? Are they abnormal?"
   ]
  },
  {
   "cell_type": "markdown",
   "metadata": {},
   "source": [
    "### With each categorical column, how are values distributed?"
   ]
  },
  {
   "cell_type": "markdown",
   "metadata": {},
   "source": [
    "- What is the percentage of missing values?"
   ]
  },
  {
   "cell_type": "code",
   "execution_count": 336,
   "metadata": {},
   "outputs": [
    {
     "name": "stdout",
     "output_type": "stream",
     "text": [
      "name: 0.0 %\n",
      "tags: 0.0 %\n"
     ]
    }
   ],
   "source": [
    "categorical_cols = ['name', 'tags']\n",
    "missing_data = {cate_col: sum(value == \"?\" or value != value for value in df[cate_col]) / len(df[cate_col]) * 100 for cate_col in df[categorical_cols]}\n",
    "for k, v in missing_data.items():\n",
    "    print(f'{k}: {v} %')"
   ]
  },
  {
   "cell_type": "markdown",
   "metadata": {},
   "source": [
    "- How many different values? Show a few"
   ]
  },
  {
   "cell_type": "code",
   "execution_count": 337,
   "metadata": {},
   "outputs": [
    {
     "name": "stdout",
     "output_type": "stream",
     "text": [
      "name    63186\n",
      "tags    54024\n",
      "dtype: int64\n",
      "Distinct 'name' values: ['The Tiny Bang Story' 'World of Guns: Gun Disassembly'\n",
      " 'Microsoft Flight Simulator 40th Anniversary Edition' 'Hacknet'\n",
      " 'SpaceChem']\n",
      "Distinct 'tags' values: ['Story Rich|Steampunk|Adventure|Atmospheric|Puzzle|Surreal|Collectathon|Comedy|Relaxing|Touch-Friendly|Classic|Funny|Mystery|Casual|Indie|Short|Cartoony|Retro|Logic|Cult Classic|Remake|Singleplayer|Minigames|Great Soundtrack|Hand-drawn|Colorful|Cute|Hidden Object|Family Friendly|2D|Stylized'\n",
      " 'Horror|First-Person|Historical|Multiplayer|Strategy|Gun Customization|Action|Old School|Adventure|Military|Exploration|Puzzle|Free to Play|Co-op|FPS|Open World|Relaxing|Funny|3D|Casual|Indie|Shooter|America|Simulation|Singleplayer|Realistic|3D Platformer|Online Co-Op|Education|Logic|Sandbox'\n",
      " 'Multiplayer|Adventure|VR|Action Roguelike|Physics|Atmospheric|Boxing|Surreal|Psychological Horror|Controller|Beautiful|Open World|Auto Battler|Flight|Sexual Content|Real-Time|Short|Life Sim|Epic|Singleplayer|Simulation|Realistic|Colorful|Family Friendly|TrackIR|Logic'\n",
      " 'Horror|Story Rich|Hacking|Crime|Multiplayer|Dystopian |Strategy|Adventure|Atmospheric|Puzzle|Cyberpunk|Detective|Programming|Massively Multiplayer|Typing|Casual|Indie|Simulation|Singleplayer|Great Soundtrack|Choices Matter|Education|2D|Difficult|Logic|Illuminati|Sci-fi'\n",
      " 'Automation|Strategy|Building|Puzzle|Science|Programming|Touch-Friendly|Casual|Indie|Simulation|Singleplayer|Space|Great Soundtrack|Education|Addictive|2D|Difficult|Logic|Illuminati|Sci-fi']\n"
     ]
    }
   ],
   "source": [
    "distinct_values = df[['name', 'tags']].nunique()\n",
    "print(distinct_values)\n",
    "\n",
    "distinct_values_name = df['name'].unique()[:5]  \n",
    "distinct_values_tags = df['tags'].unique()[:5]  \n",
    "\n",
    "print(\"Distinct 'name' values:\", distinct_values_name)\n",
    "print(\"Distinct 'tags' values:\", distinct_values_tags)\n"
   ]
  },
  {
   "cell_type": "markdown",
   "metadata": {},
   "source": [
    "- Are they abnormal?"
   ]
  },
  {
   "cell_type": "markdown",
   "metadata": {},
   "source": [
    "# 3. Asking meaningful questions"
   ]
  },
  {
   "cell_type": "markdown",
   "metadata": {},
   "source": [
    "# 4. Preprocessing and analyzing data to answer each question"
   ]
  },
  {
   "cell_type": "markdown",
   "metadata": {},
   "source": [
    "- Remove columns with high level of missing values"
   ]
  },
  {
   "cell_type": "code",
   "execution_count": 338,
   "metadata": {},
   "outputs": [],
   "source": [
    "del df['to_beat_main']\n",
    "del df['metacritic_rating']\n",
    "del df['to_beat_extra']\n",
    "del df['to_beat_completionist']\n",
    "del df['extra_content_length']"
   ]
  },
  {
   "cell_type": "markdown",
   "metadata": {},
   "source": [
    "- Remove rows with **year** == ```Nan```"
   ]
  },
  {
   "cell_type": "code",
   "execution_count": 339,
   "metadata": {},
   "outputs": [],
   "source": [
    "df = df[df['year'].notna()]"
   ]
  },
  {
   "cell_type": "markdown",
   "metadata": {},
   "source": [
    "- Convert **year** to ```datetime``` type"
   ]
  },
  {
   "cell_type": "code",
   "execution_count": 340,
   "metadata": {},
   "outputs": [],
   "source": [
    "df = df.copy()\n",
    "df['year_temp'] = df['year']\n",
    "df.drop(columns=['year'], inplace=True)\n",
    "df['year'] = df['year_temp'].apply(lambda x: datetime.datetime(int(x), 1, 1).year)\n",
    "df.drop(columns=['year_temp'], inplace=True)\n"
   ]
  },
  {
   "cell_type": "markdown",
   "metadata": {},
   "source": [
    "- Sort the dataset by **year**"
   ]
  },
  {
   "cell_type": "code",
   "execution_count": 341,
   "metadata": {},
   "outputs": [],
   "source": [
    "df = df.sort_values(by='year', ascending=True, ignore_index=True)"
   ]
  },
  {
   "cell_type": "code",
   "execution_count": 342,
   "metadata": {},
   "outputs": [
    {
     "data": {
      "text/html": [
       "<div>\n",
       "<style scoped>\n",
       "    .dataframe tbody tr th:only-of-type {\n",
       "        vertical-align: middle;\n",
       "    }\n",
       "\n",
       "    .dataframe tbody tr th {\n",
       "        vertical-align: top;\n",
       "    }\n",
       "\n",
       "    .dataframe thead th {\n",
       "        text-align: right;\n",
       "    }\n",
       "</style>\n",
       "<table border=\"1\" class=\"dataframe\">\n",
       "  <thead>\n",
       "    <tr style=\"text-align: right;\">\n",
       "      <th></th>\n",
       "      <th>id</th>\n",
       "      <th>name</th>\n",
       "      <th>reviewer_rating</th>\n",
       "      <th>positivity_ratio</th>\n",
       "      <th>tags</th>\n",
       "      <th>year</th>\n",
       "    </tr>\n",
       "  </thead>\n",
       "  <tbody>\n",
       "    <tr>\n",
       "      <th>0</th>\n",
       "      <td>232770</td>\n",
       "      <td>POSTAL</td>\n",
       "      <td>8.0</td>\n",
       "      <td>7.791457</td>\n",
       "      <td>Horror|Multiplayer|Level Editor|Action|Atmosph...</td>\n",
       "      <td>1997</td>\n",
       "    </tr>\n",
       "    <tr>\n",
       "      <th>1</th>\n",
       "      <td>282010</td>\n",
       "      <td>Carmageddon Max Pack</td>\n",
       "      <td>8.0</td>\n",
       "      <td>7.906977</td>\n",
       "      <td>Combat Racing|Classic|Racing|Arcade|Multiplaye...</td>\n",
       "      <td>1997</td>\n",
       "    </tr>\n",
       "    <tr>\n",
       "      <th>2</th>\n",
       "      <td>70</td>\n",
       "      <td>Half-Life</td>\n",
       "      <td>9.0</td>\n",
       "      <td>27.847231</td>\n",
       "      <td>Story Rich|First-Person|Action-Adventure|Multi...</td>\n",
       "      <td>1998</td>\n",
       "    </tr>\n",
       "    <tr>\n",
       "      <th>3</th>\n",
       "      <td>50</td>\n",
       "      <td>Half-Life: Opposing Force</td>\n",
       "      <td>9.0</td>\n",
       "      <td>19.693287</td>\n",
       "      <td>First-Person|Story Rich|Action|Adventure|Milit...</td>\n",
       "      <td>1999</td>\n",
       "    </tr>\n",
       "    <tr>\n",
       "      <th>4</th>\n",
       "      <td>224920</td>\n",
       "      <td>Legacy of Kain: Soul Reaver</td>\n",
       "      <td>6.0</td>\n",
       "      <td>2.795309</td>\n",
       "      <td>Horror|Story Rich|Action-Adventure|Action|Adve...</td>\n",
       "      <td>1999</td>\n",
       "    </tr>\n",
       "    <tr>\n",
       "      <th>...</th>\n",
       "      <td>...</td>\n",
       "      <td>...</td>\n",
       "      <td>...</td>\n",
       "      <td>...</td>\n",
       "      <td>...</td>\n",
       "      <td>...</td>\n",
       "    </tr>\n",
       "    <tr>\n",
       "      <th>63438</th>\n",
       "      <td>2176450</td>\n",
       "      <td>Mr. Hopp's Playhouse 3</td>\n",
       "      <td>8.0</td>\n",
       "      <td>11.000000</td>\n",
       "      <td>Horror|Story Rich|Action-Adventure|3D|Indie|Pi...</td>\n",
       "      <td>2023</td>\n",
       "    </tr>\n",
       "    <tr>\n",
       "      <th>63439</th>\n",
       "      <td>2014690</td>\n",
       "      <td>Shame Legacy</td>\n",
       "      <td>5.0</td>\n",
       "      <td>1.439024</td>\n",
       "      <td>Horror|Violent|Dark|Mystery Dungeon|First-Pers...</td>\n",
       "      <td>2023</td>\n",
       "    </tr>\n",
       "    <tr>\n",
       "      <th>63440</th>\n",
       "      <td>1074030</td>\n",
       "      <td>Melon Journey: Bittersweet Memories</td>\n",
       "      <td>8.0</td>\n",
       "      <td>6.875000</td>\n",
       "      <td>Cute|Pixel Graphics|Casual|Adventure</td>\n",
       "      <td>2023</td>\n",
       "    </tr>\n",
       "    <tr>\n",
       "      <th>63441</th>\n",
       "      <td>2235500</td>\n",
       "      <td>Forest Of Relics</td>\n",
       "      <td>8.0</td>\n",
       "      <td>8.000000</td>\n",
       "      <td>Platformer|3D Platformer|Funny|3D|Sexual Conte...</td>\n",
       "      <td>2023</td>\n",
       "    </tr>\n",
       "    <tr>\n",
       "      <th>63442</th>\n",
       "      <td>2200000</td>\n",
       "      <td>Substance 3D Sampler 2023</td>\n",
       "      <td>NaN</td>\n",
       "      <td>6.000000</td>\n",
       "      <td>Game Development</td>\n",
       "      <td>2023</td>\n",
       "    </tr>\n",
       "  </tbody>\n",
       "</table>\n",
       "<p>63443 rows × 6 columns</p>\n",
       "</div>"
      ],
      "text/plain": [
       "            id                                 name  reviewer_rating  \\\n",
       "0       232770                               POSTAL              8.0   \n",
       "1       282010                 Carmageddon Max Pack              8.0   \n",
       "2           70                            Half-Life              9.0   \n",
       "3           50            Half-Life: Opposing Force              9.0   \n",
       "4       224920          Legacy of Kain: Soul Reaver              6.0   \n",
       "...        ...                                  ...              ...   \n",
       "63438  2176450               Mr. Hopp's Playhouse 3              8.0   \n",
       "63439  2014690                         Shame Legacy              5.0   \n",
       "63440  1074030  Melon Journey: Bittersweet Memories              8.0   \n",
       "63441  2235500                     Forest Of Relics              8.0   \n",
       "63442  2200000            Substance 3D Sampler 2023              NaN   \n",
       "\n",
       "       positivity_ratio                                               tags  \\\n",
       "0              7.791457  Horror|Multiplayer|Level Editor|Action|Atmosph...   \n",
       "1              7.906977  Combat Racing|Classic|Racing|Arcade|Multiplaye...   \n",
       "2             27.847231  Story Rich|First-Person|Action-Adventure|Multi...   \n",
       "3             19.693287  First-Person|Story Rich|Action|Adventure|Milit...   \n",
       "4              2.795309  Horror|Story Rich|Action-Adventure|Action|Adve...   \n",
       "...                 ...                                                ...   \n",
       "63438         11.000000  Horror|Story Rich|Action-Adventure|3D|Indie|Pi...   \n",
       "63439          1.439024  Horror|Violent|Dark|Mystery Dungeon|First-Pers...   \n",
       "63440          6.875000               Cute|Pixel Graphics|Casual|Adventure   \n",
       "63441          8.000000  Platformer|3D Platformer|Funny|3D|Sexual Conte...   \n",
       "63442          6.000000                                   Game Development   \n",
       "\n",
       "       year  \n",
       "0      1997  \n",
       "1      1997  \n",
       "2      1998  \n",
       "3      1999  \n",
       "4      1999  \n",
       "...     ...  \n",
       "63438  2023  \n",
       "63439  2023  \n",
       "63440  2023  \n",
       "63441  2023  \n",
       "63442  2023  \n",
       "\n",
       "[63443 rows x 6 columns]"
      ]
     },
     "execution_count": 342,
     "metadata": {},
     "output_type": "execute_result"
    }
   ],
   "source": [
    "df"
   ]
  },
  {
   "cell_type": "markdown",
   "metadata": {},
   "source": [
    "# 5. Reflection"
   ]
  }
 ],
 "metadata": {
  "kernelspec": {
   "display_name": "Python 3",
   "language": "python",
   "name": "python3"
  },
  "language_info": {
   "codemirror_mode": {
    "name": "ipython",
    "version": 3
   },
   "file_extension": ".py",
   "mimetype": "text/x-python",
   "name": "python",
   "nbconvert_exporter": "python",
   "pygments_lexer": "ipython3",
   "version": "3.11.9"
  }
 },
 "nbformat": 4,
 "nbformat_minor": 2
}
