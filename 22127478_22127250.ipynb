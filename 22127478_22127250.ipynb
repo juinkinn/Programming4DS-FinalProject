{
 "cells": [
  {
   "cell_type": "markdown",
   "metadata": {},
   "source": [
    "# Final Project - Programming for Data Science"
   ]
  },
  {
   "cell_type": "markdown",
   "metadata": {},
   "source": [
    "## Team members"
   ]
  },
  {
   "cell_type": "markdown",
   "metadata": {},
   "source": [
    "1. Nguyễn Hoàng Trung Kiên - 22127478\n",
    "\n",
    "2. Trần Thành Long - 22127250"
   ]
  },
  {
   "cell_type": "markdown",
   "metadata": {},
   "source": [
    "## Dataset name\n",
    "\n",
    "**Steam games dataset**"
   ]
  },
  {
   "cell_type": "markdown",
   "metadata": {},
   "source": [
    "## Import libraries"
   ]
  },
  {
   "cell_type": "code",
   "execution_count": 1,
   "metadata": {},
   "outputs": [],
   "source": [
    "import pandas as pd"
   ]
  },
  {
   "cell_type": "markdown",
   "metadata": {},
   "source": [
    "## 1. Collecting data"
   ]
  },
  {
   "cell_type": "code",
   "execution_count": 2,
   "metadata": {},
   "outputs": [
    {
     "data": {
      "text/html": [
       "<div>\n",
       "<style scoped>\n",
       "    .dataframe tbody tr th:only-of-type {\n",
       "        vertical-align: middle;\n",
       "    }\n",
       "\n",
       "    .dataframe tbody tr th {\n",
       "        vertical-align: top;\n",
       "    }\n",
       "\n",
       "    .dataframe thead th {\n",
       "        text-align: right;\n",
       "    }\n",
       "</style>\n",
       "<table border=\"1\" class=\"dataframe\">\n",
       "  <thead>\n",
       "    <tr style=\"text-align: right;\">\n",
       "      <th></th>\n",
       "      <th>id</th>\n",
       "      <th>name</th>\n",
       "      <th>year</th>\n",
       "      <th>metacritic_rating</th>\n",
       "      <th>reviewer_rating</th>\n",
       "      <th>positivity_ratio</th>\n",
       "      <th>to_beat_main</th>\n",
       "      <th>to_beat_extra</th>\n",
       "      <th>to_beat_completionist</th>\n",
       "      <th>extra_content_length</th>\n",
       "      <th>tags</th>\n",
       "    </tr>\n",
       "  </thead>\n",
       "  <tbody>\n",
       "    <tr>\n",
       "      <th>0</th>\n",
       "      <td>96000</td>\n",
       "      <td>The Tiny Bang Story</td>\n",
       "      <td>2011.0</td>\n",
       "      <td>63.0</td>\n",
       "      <td>8.0</td>\n",
       "      <td>7.073879</td>\n",
       "      <td>3.60</td>\n",
       "      <td>3.60</td>\n",
       "      <td>3.77</td>\n",
       "      <td>0.17</td>\n",
       "      <td>Story Rich|Steampunk|Adventure|Atmospheric|Puz...</td>\n",
       "    </tr>\n",
       "    <tr>\n",
       "      <th>1</th>\n",
       "      <td>262410</td>\n",
       "      <td>World of Guns: Gun Disassembly</td>\n",
       "      <td>2014.0</td>\n",
       "      <td>NaN</td>\n",
       "      <td>8.0</td>\n",
       "      <td>5.208940</td>\n",
       "      <td>2.00</td>\n",
       "      <td>NaN</td>\n",
       "      <td>28.07</td>\n",
       "      <td>26.07</td>\n",
       "      <td>Horror|First-Person|Historical|Multiplayer|Str...</td>\n",
       "    </tr>\n",
       "    <tr>\n",
       "      <th>2</th>\n",
       "      <td>1250410</td>\n",
       "      <td>Microsoft Flight Simulator 40th Anniversary Ed...</td>\n",
       "      <td>2020.0</td>\n",
       "      <td>91.0</td>\n",
       "      <td>6.0</td>\n",
       "      <td>3.581082</td>\n",
       "      <td>NaN</td>\n",
       "      <td>NaN</td>\n",
       "      <td>NaN</td>\n",
       "      <td>NaN</td>\n",
       "      <td>Multiplayer|Adventure|VR|Action Roguelike|Phys...</td>\n",
       "    </tr>\n",
       "    <tr>\n",
       "      <th>3</th>\n",
       "      <td>365450</td>\n",
       "      <td>Hacknet</td>\n",
       "      <td>2015.0</td>\n",
       "      <td>82.0</td>\n",
       "      <td>8.0</td>\n",
       "      <td>14.548520</td>\n",
       "      <td>7.06</td>\n",
       "      <td>8.73</td>\n",
       "      <td>10.75</td>\n",
       "      <td>3.69</td>\n",
       "      <td>Horror|Story Rich|Hacking|Crime|Multiplayer|Dy...</td>\n",
       "    </tr>\n",
       "    <tr>\n",
       "      <th>4</th>\n",
       "      <td>92800</td>\n",
       "      <td>SpaceChem</td>\n",
       "      <td>2011.0</td>\n",
       "      <td>84.0</td>\n",
       "      <td>8.0</td>\n",
       "      <td>11.440415</td>\n",
       "      <td>43.32</td>\n",
       "      <td>57.79</td>\n",
       "      <td>67.55</td>\n",
       "      <td>24.23</td>\n",
       "      <td>Automation|Strategy|Building|Puzzle|Science|Pr...</td>\n",
       "    </tr>\n",
       "    <tr>\n",
       "      <th>...</th>\n",
       "      <td>...</td>\n",
       "      <td>...</td>\n",
       "      <td>...</td>\n",
       "      <td>...</td>\n",
       "      <td>...</td>\n",
       "      <td>...</td>\n",
       "      <td>...</td>\n",
       "      <td>...</td>\n",
       "      <td>...</td>\n",
       "      <td>...</td>\n",
       "      <td>...</td>\n",
       "    </tr>\n",
       "    <tr>\n",
       "      <th>63538</th>\n",
       "      <td>521720</td>\n",
       "      <td>Uncharted Waters</td>\n",
       "      <td>2017.0</td>\n",
       "      <td>NaN</td>\n",
       "      <td>7.0</td>\n",
       "      <td>6.000000</td>\n",
       "      <td>27.88</td>\n",
       "      <td>29.86</td>\n",
       "      <td>NaN</td>\n",
       "      <td>-27.88</td>\n",
       "      <td>Retro|RPG|Trading</td>\n",
       "    </tr>\n",
       "    <tr>\n",
       "      <th>63539</th>\n",
       "      <td>34311</td>\n",
       "      <td>Kid Chameleon™</td>\n",
       "      <td>2010.0</td>\n",
       "      <td>NaN</td>\n",
       "      <td>NaN</td>\n",
       "      <td>6.000000</td>\n",
       "      <td>4.38</td>\n",
       "      <td>8.15</td>\n",
       "      <td>11.17</td>\n",
       "      <td>6.79</td>\n",
       "      <td>Retro|Platformer</td>\n",
       "    </tr>\n",
       "    <tr>\n",
       "      <th>63540</th>\n",
       "      <td>34289</td>\n",
       "      <td>Fatal Labyrinth™</td>\n",
       "      <td>2010.0</td>\n",
       "      <td>NaN</td>\n",
       "      <td>7.0</td>\n",
       "      <td>5.000000</td>\n",
       "      <td>4.00</td>\n",
       "      <td>4.58</td>\n",
       "      <td>4.60</td>\n",
       "      <td>0.60</td>\n",
       "      <td>RPG</td>\n",
       "    </tr>\n",
       "    <tr>\n",
       "      <th>63541</th>\n",
       "      <td>628150</td>\n",
       "      <td>Sangokushi Eiketsuden</td>\n",
       "      <td>2017.0</td>\n",
       "      <td>NaN</td>\n",
       "      <td>6.0</td>\n",
       "      <td>3.153846</td>\n",
       "      <td>NaN</td>\n",
       "      <td>NaN</td>\n",
       "      <td>NaN</td>\n",
       "      <td>NaN</td>\n",
       "      <td>RPG</td>\n",
       "    </tr>\n",
       "    <tr>\n",
       "      <th>63542</th>\n",
       "      <td>660570</td>\n",
       "      <td>Million Arthur VR: Character Command RPG</td>\n",
       "      <td>2017.0</td>\n",
       "      <td>NaN</td>\n",
       "      <td>5.0</td>\n",
       "      <td>1.500000</td>\n",
       "      <td>NaN</td>\n",
       "      <td>NaN</td>\n",
       "      <td>NaN</td>\n",
       "      <td>NaN</td>\n",
       "      <td>RPG|VR|Anime</td>\n",
       "    </tr>\n",
       "  </tbody>\n",
       "</table>\n",
       "<p>63543 rows × 11 columns</p>\n",
       "</div>"
      ],
      "text/plain": [
       "            id                                               name    year  \\\n",
       "0        96000                                The Tiny Bang Story  2011.0   \n",
       "1       262410                     World of Guns: Gun Disassembly  2014.0   \n",
       "2      1250410  Microsoft Flight Simulator 40th Anniversary Ed...  2020.0   \n",
       "3       365450                                            Hacknet  2015.0   \n",
       "4        92800                                          SpaceChem  2011.0   \n",
       "...        ...                                                ...     ...   \n",
       "63538   521720                                   Uncharted Waters  2017.0   \n",
       "63539    34311                                     Kid Chameleon™  2010.0   \n",
       "63540    34289                                   Fatal Labyrinth™  2010.0   \n",
       "63541   628150                              Sangokushi Eiketsuden  2017.0   \n",
       "63542   660570           Million Arthur VR: Character Command RPG  2017.0   \n",
       "\n",
       "       metacritic_rating  reviewer_rating  positivity_ratio  to_beat_main  \\\n",
       "0                   63.0              8.0          7.073879          3.60   \n",
       "1                    NaN              8.0          5.208940          2.00   \n",
       "2                   91.0              6.0          3.581082           NaN   \n",
       "3                   82.0              8.0         14.548520          7.06   \n",
       "4                   84.0              8.0         11.440415         43.32   \n",
       "...                  ...              ...               ...           ...   \n",
       "63538                NaN              7.0          6.000000         27.88   \n",
       "63539                NaN              NaN          6.000000          4.38   \n",
       "63540                NaN              7.0          5.000000          4.00   \n",
       "63541                NaN              6.0          3.153846           NaN   \n",
       "63542                NaN              5.0          1.500000           NaN   \n",
       "\n",
       "       to_beat_extra  to_beat_completionist  extra_content_length  \\\n",
       "0               3.60                   3.77                  0.17   \n",
       "1                NaN                  28.07                 26.07   \n",
       "2                NaN                    NaN                   NaN   \n",
       "3               8.73                  10.75                  3.69   \n",
       "4              57.79                  67.55                 24.23   \n",
       "...              ...                    ...                   ...   \n",
       "63538          29.86                    NaN                -27.88   \n",
       "63539           8.15                  11.17                  6.79   \n",
       "63540           4.58                   4.60                  0.60   \n",
       "63541            NaN                    NaN                   NaN   \n",
       "63542            NaN                    NaN                   NaN   \n",
       "\n",
       "                                                    tags  \n",
       "0      Story Rich|Steampunk|Adventure|Atmospheric|Puz...  \n",
       "1      Horror|First-Person|Historical|Multiplayer|Str...  \n",
       "2      Multiplayer|Adventure|VR|Action Roguelike|Phys...  \n",
       "3      Horror|Story Rich|Hacking|Crime|Multiplayer|Dy...  \n",
       "4      Automation|Strategy|Building|Puzzle|Science|Pr...  \n",
       "...                                                  ...  \n",
       "63538                                  Retro|RPG|Trading  \n",
       "63539                                   Retro|Platformer  \n",
       "63540                                                RPG  \n",
       "63541                                                RPG  \n",
       "63542                                       RPG|VR|Anime  \n",
       "\n",
       "[63543 rows x 11 columns]"
      ]
     },
     "execution_count": 2,
     "metadata": {},
     "output_type": "execute_result"
    }
   ],
   "source": [
    "df = pd.read_csv('dataset.csv')\n",
    "df"
   ]
  },
  {
   "cell_type": "markdown",
   "metadata": {},
   "source": [
    "### What subject is your data about? What is the source of your data?"
   ]
  },
  {
   "cell_type": "markdown",
   "metadata": {},
   "source": [
    "### Do authors of this data allow you to use like this? ###"
   ]
  },
  {
   "cell_type": "markdown",
   "metadata": {},
   "source": [
    "### How did authors collect data? ###"
   ]
  },
  {
   "cell_type": "markdown",
   "metadata": {},
   "source": [
    "## 2. Exploring data and preprocessing"
   ]
  },
  {
   "cell_type": "markdown",
   "metadata": {},
   "source": [
    "### How many rows and how many columns?"
   ]
  },
  {
   "cell_type": "markdown",
   "metadata": {},
   "source": [
    "### What is the meaning of each row?"
   ]
  },
  {
   "cell_type": "markdown",
   "metadata": {},
   "source": [
    "### Are there duplicated rows?"
   ]
  },
  {
   "cell_type": "markdown",
   "metadata": {},
   "source": [
    "### What is the meaning of each column?"
   ]
  },
  {
   "cell_type": "markdown",
   "metadata": {},
   "source": [
    "### What is the current data type of each column? Are there columns having inappropriate data types?"
   ]
  },
  {
   "cell_type": "markdown",
   "metadata": {},
   "source": [
    "### With each numerical column, how are values distributed?"
   ]
  },
  {
   "cell_type": "markdown",
   "metadata": {},
   "source": [
    "- What is the percentage of missing values?"
   ]
  },
  {
   "cell_type": "markdown",
   "metadata": {},
   "source": [
    "- Min? max? Are they abnormal?"
   ]
  },
  {
   "cell_type": "markdown",
   "metadata": {},
   "source": [
    "### With each categorical column, how are values distributed?"
   ]
  },
  {
   "cell_type": "markdown",
   "metadata": {},
   "source": [
    "- What is the percentage of missing values?"
   ]
  },
  {
   "cell_type": "markdown",
   "metadata": {},
   "source": [
    "- How many different values? Show a few"
   ]
  },
  {
   "cell_type": "markdown",
   "metadata": {},
   "source": [
    "- Are they abnormal?"
   ]
  },
  {
   "cell_type": "markdown",
   "metadata": {},
   "source": [
    "# 3. Asking meaningful questions"
   ]
  },
  {
   "cell_type": "markdown",
   "metadata": {},
   "source": [
    "# 4. Preprocessing and analyzing data to answer each question"
   ]
  },
  {
   "cell_type": "markdown",
   "metadata": {},
   "source": [
    "# 5. Reflection"
   ]
  }
 ],
 "metadata": {
  "kernelspec": {
   "display_name": "Python 3",
   "language": "python",
   "name": "python3"
  },
  "language_info": {
   "codemirror_mode": {
    "name": "ipython",
    "version": 3
   },
   "file_extension": ".py",
   "mimetype": "text/x-python",
   "name": "python",
   "nbconvert_exporter": "python",
   "pygments_lexer": "ipython3",
   "version": "3.11.9"
  }
 },
 "nbformat": 4,
 "nbformat_minor": 2
}
