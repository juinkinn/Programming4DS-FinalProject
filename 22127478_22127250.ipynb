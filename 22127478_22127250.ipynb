{
 "cells": [
  {
   "cell_type": "markdown",
   "metadata": {},
   "source": [
    "# Final Project - Programming for Data Science"
   ]
  },
  {
   "cell_type": "markdown",
   "metadata": {},
   "source": [
    "## Team members"
   ]
  },
  {
   "cell_type": "markdown",
   "metadata": {},
   "source": [
    "1. Nguyễn Hoàng Trung Kiên - 22127478\n",
    "\n",
    "2. Trần Thành Long - 22127250"
   ]
  },
  {
   "cell_type": "markdown",
   "metadata": {},
   "source": [
    "## Dataset name\n",
    "\n",
    "**Steam games dataset**"
   ]
  },
  {
   "cell_type": "markdown",
   "metadata": {},
   "source": [
    "## Import libraries"
   ]
  },
  {
   "cell_type": "code",
   "execution_count": 66,
   "metadata": {},
   "outputs": [],
   "source": [
    "import pandas as pd\n",
    "import matplotlib.pyplot as plt"
   ]
  },
  {
   "cell_type": "markdown",
   "metadata": {},
   "source": [
    "## 1. Collecting data"
   ]
  },
  {
   "cell_type": "code",
   "execution_count": 67,
   "metadata": {},
   "outputs": [
    {
     "data": {
      "text/html": [
       "<div>\n",
       "<style scoped>\n",
       "    .dataframe tbody tr th:only-of-type {\n",
       "        vertical-align: middle;\n",
       "    }\n",
       "\n",
       "    .dataframe tbody tr th {\n",
       "        vertical-align: top;\n",
       "    }\n",
       "\n",
       "    .dataframe thead th {\n",
       "        text-align: right;\n",
       "    }\n",
       "</style>\n",
       "<table border=\"1\" class=\"dataframe\">\n",
       "  <thead>\n",
       "    <tr style=\"text-align: right;\">\n",
       "      <th></th>\n",
       "      <th>id</th>\n",
       "      <th>name</th>\n",
       "      <th>year</th>\n",
       "      <th>metacritic_rating</th>\n",
       "      <th>reviewer_rating</th>\n",
       "      <th>positivity_ratio</th>\n",
       "      <th>to_beat_main</th>\n",
       "      <th>to_beat_extra</th>\n",
       "      <th>to_beat_completionist</th>\n",
       "      <th>extra_content_length</th>\n",
       "      <th>tags</th>\n",
       "    </tr>\n",
       "  </thead>\n",
       "  <tbody>\n",
       "    <tr>\n",
       "      <th>0</th>\n",
       "      <td>96000</td>\n",
       "      <td>The Tiny Bang Story</td>\n",
       "      <td>2011.0</td>\n",
       "      <td>63.0</td>\n",
       "      <td>8.0</td>\n",
       "      <td>7.073879</td>\n",
       "      <td>3.60</td>\n",
       "      <td>3.60</td>\n",
       "      <td>3.77</td>\n",
       "      <td>0.17</td>\n",
       "      <td>Story Rich|Steampunk|Adventure|Atmospheric|Puz...</td>\n",
       "    </tr>\n",
       "    <tr>\n",
       "      <th>1</th>\n",
       "      <td>262410</td>\n",
       "      <td>World of Guns: Gun Disassembly</td>\n",
       "      <td>2014.0</td>\n",
       "      <td>NaN</td>\n",
       "      <td>8.0</td>\n",
       "      <td>5.208940</td>\n",
       "      <td>2.00</td>\n",
       "      <td>NaN</td>\n",
       "      <td>28.07</td>\n",
       "      <td>26.07</td>\n",
       "      <td>Horror|First-Person|Historical|Multiplayer|Str...</td>\n",
       "    </tr>\n",
       "    <tr>\n",
       "      <th>2</th>\n",
       "      <td>1250410</td>\n",
       "      <td>Microsoft Flight Simulator 40th Anniversary Ed...</td>\n",
       "      <td>2020.0</td>\n",
       "      <td>91.0</td>\n",
       "      <td>6.0</td>\n",
       "      <td>3.581082</td>\n",
       "      <td>NaN</td>\n",
       "      <td>NaN</td>\n",
       "      <td>NaN</td>\n",
       "      <td>NaN</td>\n",
       "      <td>Multiplayer|Adventure|VR|Action Roguelike|Phys...</td>\n",
       "    </tr>\n",
       "    <tr>\n",
       "      <th>3</th>\n",
       "      <td>365450</td>\n",
       "      <td>Hacknet</td>\n",
       "      <td>2015.0</td>\n",
       "      <td>82.0</td>\n",
       "      <td>8.0</td>\n",
       "      <td>14.548520</td>\n",
       "      <td>7.06</td>\n",
       "      <td>8.73</td>\n",
       "      <td>10.75</td>\n",
       "      <td>3.69</td>\n",
       "      <td>Horror|Story Rich|Hacking|Crime|Multiplayer|Dy...</td>\n",
       "    </tr>\n",
       "    <tr>\n",
       "      <th>4</th>\n",
       "      <td>92800</td>\n",
       "      <td>SpaceChem</td>\n",
       "      <td>2011.0</td>\n",
       "      <td>84.0</td>\n",
       "      <td>8.0</td>\n",
       "      <td>11.440415</td>\n",
       "      <td>43.32</td>\n",
       "      <td>57.79</td>\n",
       "      <td>67.55</td>\n",
       "      <td>24.23</td>\n",
       "      <td>Automation|Strategy|Building|Puzzle|Science|Pr...</td>\n",
       "    </tr>\n",
       "    <tr>\n",
       "      <th>...</th>\n",
       "      <td>...</td>\n",
       "      <td>...</td>\n",
       "      <td>...</td>\n",
       "      <td>...</td>\n",
       "      <td>...</td>\n",
       "      <td>...</td>\n",
       "      <td>...</td>\n",
       "      <td>...</td>\n",
       "      <td>...</td>\n",
       "      <td>...</td>\n",
       "      <td>...</td>\n",
       "    </tr>\n",
       "    <tr>\n",
       "      <th>63538</th>\n",
       "      <td>521720</td>\n",
       "      <td>Uncharted Waters</td>\n",
       "      <td>2017.0</td>\n",
       "      <td>NaN</td>\n",
       "      <td>7.0</td>\n",
       "      <td>6.000000</td>\n",
       "      <td>27.88</td>\n",
       "      <td>29.86</td>\n",
       "      <td>NaN</td>\n",
       "      <td>-27.88</td>\n",
       "      <td>Retro|RPG|Trading</td>\n",
       "    </tr>\n",
       "    <tr>\n",
       "      <th>63539</th>\n",
       "      <td>34311</td>\n",
       "      <td>Kid Chameleon™</td>\n",
       "      <td>2010.0</td>\n",
       "      <td>NaN</td>\n",
       "      <td>NaN</td>\n",
       "      <td>6.000000</td>\n",
       "      <td>4.38</td>\n",
       "      <td>8.15</td>\n",
       "      <td>11.17</td>\n",
       "      <td>6.79</td>\n",
       "      <td>Retro|Platformer</td>\n",
       "    </tr>\n",
       "    <tr>\n",
       "      <th>63540</th>\n",
       "      <td>34289</td>\n",
       "      <td>Fatal Labyrinth™</td>\n",
       "      <td>2010.0</td>\n",
       "      <td>NaN</td>\n",
       "      <td>7.0</td>\n",
       "      <td>5.000000</td>\n",
       "      <td>4.00</td>\n",
       "      <td>4.58</td>\n",
       "      <td>4.60</td>\n",
       "      <td>0.60</td>\n",
       "      <td>RPG</td>\n",
       "    </tr>\n",
       "    <tr>\n",
       "      <th>63541</th>\n",
       "      <td>628150</td>\n",
       "      <td>Sangokushi Eiketsuden</td>\n",
       "      <td>2017.0</td>\n",
       "      <td>NaN</td>\n",
       "      <td>6.0</td>\n",
       "      <td>3.153846</td>\n",
       "      <td>NaN</td>\n",
       "      <td>NaN</td>\n",
       "      <td>NaN</td>\n",
       "      <td>NaN</td>\n",
       "      <td>RPG</td>\n",
       "    </tr>\n",
       "    <tr>\n",
       "      <th>63542</th>\n",
       "      <td>660570</td>\n",
       "      <td>Million Arthur VR: Character Command RPG</td>\n",
       "      <td>2017.0</td>\n",
       "      <td>NaN</td>\n",
       "      <td>5.0</td>\n",
       "      <td>1.500000</td>\n",
       "      <td>NaN</td>\n",
       "      <td>NaN</td>\n",
       "      <td>NaN</td>\n",
       "      <td>NaN</td>\n",
       "      <td>RPG|VR|Anime</td>\n",
       "    </tr>\n",
       "  </tbody>\n",
       "</table>\n",
       "<p>63543 rows × 11 columns</p>\n",
       "</div>"
      ],
      "text/plain": [
       "            id                                               name    year  \\\n",
       "0        96000                                The Tiny Bang Story  2011.0   \n",
       "1       262410                     World of Guns: Gun Disassembly  2014.0   \n",
       "2      1250410  Microsoft Flight Simulator 40th Anniversary Ed...  2020.0   \n",
       "3       365450                                            Hacknet  2015.0   \n",
       "4        92800                                          SpaceChem  2011.0   \n",
       "...        ...                                                ...     ...   \n",
       "63538   521720                                   Uncharted Waters  2017.0   \n",
       "63539    34311                                     Kid Chameleon™  2010.0   \n",
       "63540    34289                                   Fatal Labyrinth™  2010.0   \n",
       "63541   628150                              Sangokushi Eiketsuden  2017.0   \n",
       "63542   660570           Million Arthur VR: Character Command RPG  2017.0   \n",
       "\n",
       "       metacritic_rating  reviewer_rating  positivity_ratio  to_beat_main  \\\n",
       "0                   63.0              8.0          7.073879          3.60   \n",
       "1                    NaN              8.0          5.208940          2.00   \n",
       "2                   91.0              6.0          3.581082           NaN   \n",
       "3                   82.0              8.0         14.548520          7.06   \n",
       "4                   84.0              8.0         11.440415         43.32   \n",
       "...                  ...              ...               ...           ...   \n",
       "63538                NaN              7.0          6.000000         27.88   \n",
       "63539                NaN              NaN          6.000000          4.38   \n",
       "63540                NaN              7.0          5.000000          4.00   \n",
       "63541                NaN              6.0          3.153846           NaN   \n",
       "63542                NaN              5.0          1.500000           NaN   \n",
       "\n",
       "       to_beat_extra  to_beat_completionist  extra_content_length  \\\n",
       "0               3.60                   3.77                  0.17   \n",
       "1                NaN                  28.07                 26.07   \n",
       "2                NaN                    NaN                   NaN   \n",
       "3               8.73                  10.75                  3.69   \n",
       "4              57.79                  67.55                 24.23   \n",
       "...              ...                    ...                   ...   \n",
       "63538          29.86                    NaN                -27.88   \n",
       "63539           8.15                  11.17                  6.79   \n",
       "63540           4.58                   4.60                  0.60   \n",
       "63541            NaN                    NaN                   NaN   \n",
       "63542            NaN                    NaN                   NaN   \n",
       "\n",
       "                                                    tags  \n",
       "0      Story Rich|Steampunk|Adventure|Atmospheric|Puz...  \n",
       "1      Horror|First-Person|Historical|Multiplayer|Str...  \n",
       "2      Multiplayer|Adventure|VR|Action Roguelike|Phys...  \n",
       "3      Horror|Story Rich|Hacking|Crime|Multiplayer|Dy...  \n",
       "4      Automation|Strategy|Building|Puzzle|Science|Pr...  \n",
       "...                                                  ...  \n",
       "63538                                  Retro|RPG|Trading  \n",
       "63539                                   Retro|Platformer  \n",
       "63540                                                RPG  \n",
       "63541                                                RPG  \n",
       "63542                                       RPG|VR|Anime  \n",
       "\n",
       "[63543 rows x 11 columns]"
      ]
     },
     "execution_count": 67,
     "metadata": {},
     "output_type": "execute_result"
    }
   ],
   "source": [
    "df = pd.read_csv('dataset.csv')\n",
    "df"
   ]
  },
  {
   "cell_type": "markdown",
   "metadata": {},
   "source": [
    "### What subject is your data about? What is the source of your data?"
   ]
  },
  {
   "cell_type": "markdown",
   "metadata": {},
   "source": [
    "### Do authors of this data allow you to use like this? ###"
   ]
  },
  {
   "cell_type": "markdown",
   "metadata": {},
   "source": [
    "### How did authors collect data? ###"
   ]
  },
  {
   "cell_type": "markdown",
   "metadata": {},
   "source": [
    "## 2. Exploring data and preprocessing"
   ]
  },
  {
   "cell_type": "markdown",
   "metadata": {},
   "source": [
    "### How many rows and how many columns?"
   ]
  },
  {
   "cell_type": "code",
   "execution_count": 68,
   "metadata": {},
   "outputs": [
    {
     "data": {
      "text/plain": [
       "(63543, 11)"
      ]
     },
     "execution_count": 68,
     "metadata": {},
     "output_type": "execute_result"
    }
   ],
   "source": [
    "df.shape"
   ]
  },
  {
   "cell_type": "markdown",
   "metadata": {},
   "source": [
    "- Answer: There are ```63543``` rows and ```11``` columns"
   ]
  },
  {
   "cell_type": "markdown",
   "metadata": {},
   "source": [
    "### What is the meaning of each row?"
   ]
  },
  {
   "cell_type": "markdown",
   "metadata": {},
   "source": []
  },
  {
   "cell_type": "markdown",
   "metadata": {},
   "source": [
    "### Are there duplicated rows?"
   ]
  },
  {
   "cell_type": "code",
   "execution_count": 69,
   "metadata": {},
   "outputs": [
    {
     "data": {
      "text/plain": [
       "np.int64(0)"
      ]
     },
     "execution_count": 69,
     "metadata": {},
     "output_type": "execute_result"
    }
   ],
   "source": [
    "df.duplicated().sum()"
   ]
  },
  {
   "cell_type": "markdown",
   "metadata": {},
   "source": [
    "- Answer: There are no duplicates row."
   ]
  },
  {
   "cell_type": "markdown",
   "metadata": {},
   "source": [
    "### What is the meaning of each column?"
   ]
  },
  {
   "cell_type": "markdown",
   "metadata": {},
   "source": [
    "### What is the current data type of each column? Are there columns having inappropriate data types?"
   ]
  },
  {
   "cell_type": "code",
   "execution_count": 70,
   "metadata": {},
   "outputs": [
    {
     "data": {
      "text/plain": [
       "id                         int64\n",
       "name                      object\n",
       "year                     float64\n",
       "metacritic_rating        float64\n",
       "reviewer_rating          float64\n",
       "positivity_ratio         float64\n",
       "to_beat_main             float64\n",
       "to_beat_extra            float64\n",
       "to_beat_completionist    float64\n",
       "extra_content_length     float64\n",
       "tags                      object\n",
       "dtype: object"
      ]
     },
     "execution_count": 70,
     "metadata": {},
     "output_type": "execute_result"
    }
   ],
   "source": [
    "df.dtypes"
   ]
  },
  {
   "cell_type": "markdown",
   "metadata": {},
   "source": [
    "- Answer: ```Year``` should be in ```date``` data type."
   ]
  },
  {
   "cell_type": "markdown",
   "metadata": {},
   "source": [
    "### With each numerical column, how are values distributed?"
   ]
  },
  {
   "cell_type": "markdown",
   "metadata": {},
   "source": [
    "- What is the percentage of missing values?"
   ]
  },
  {
   "cell_type": "code",
   "execution_count": 71,
   "metadata": {},
   "outputs": [
    {
     "name": "stdout",
     "output_type": "stream",
     "text": [
      "id: 0.0 %\n",
      "year: 0.1573737469115402 %\n",
      "metacritic_rating: 93.83724407094408 %\n",
      "reviewer_rating: 29.765670490848716 %\n",
      "positivity_ratio: 3.167933525329304 %\n",
      "to_beat_main: 71.98589931227673 %\n",
      "to_beat_extra: 78.86942700218749 %\n",
      "to_beat_completionist: 74.7635459452654 %\n",
      "extra_content_length: 66.66509292919756 %\n"
     ]
    }
   ],
   "source": [
    "numerical_cols = ['id', 'year', 'metacritic_rating', 'reviewer_rating', 'positivity_ratio', 'to_beat_main', 'to_beat_extra', 'to_beat_completionist', 'extra_content_length']\n",
    "missing_data = {numerical_col: sum(value == \"?\" or value != value for value in df[numerical_col]) / len(df[numerical_col]) * 100 for numerical_col in df[numerical_cols]}\n",
    "for k, v in missing_data.items():\n",
    "    print(f'{k}: {v} %')"
   ]
  },
  {
   "cell_type": "markdown",
   "metadata": {},
   "source": [
    "- Min? max? Are they abnormal?"
   ]
  },
  {
   "cell_type": "markdown",
   "metadata": {},
   "source": [
    "### With each categorical column, how are values distributed?"
   ]
  },
  {
   "cell_type": "markdown",
   "metadata": {},
   "source": [
    "- What is the percentage of missing values?"
   ]
  },
  {
   "cell_type": "code",
   "execution_count": 72,
   "metadata": {},
   "outputs": [
    {
     "name": "stdout",
     "output_type": "stream",
     "text": [
      "name: 0.0 %\n",
      "tags: 0.0 %\n"
     ]
    }
   ],
   "source": [
    "categorical_cols = ['name', 'tags']\n",
    "missing_data = {cate_col: sum(value == \"?\" or value != value for value in df[cate_col]) / len(df[cate_col]) * 100 for cate_col in df[categorical_cols]}\n",
    "for k, v in missing_data.items():\n",
    "    print(f'{k}: {v} %')"
   ]
  },
  {
   "cell_type": "markdown",
   "metadata": {},
   "source": [
    "- How many different values? Show a few"
   ]
  },
  {
   "cell_type": "code",
   "execution_count": null,
   "metadata": {},
   "outputs": [
    {
     "name": "stdout",
     "output_type": "stream",
     "text": [
      "name    63186\n",
      "tags    54024\n",
      "dtype: int64\n",
      "Distinct 'name' values: ['POSTAL' 'Carmageddon Max Pack' 'Half-Life' 'Half-Life: Opposing Force'\n",
      " 'Legacy of Kain: Soul Reaver']\n",
      "Distinct 'tags' values: ['Horror|Multiplayer|Level Editor|Action|Atmospheric|Isometric|Gore|Surreal|Psychological Horror|Top-Down|Comedy|Villain Protagonist|Mature|Top-Down Shooter|Classic|Twin Stick Shooter|Funny|Indie|Dark Humor|Linear|Shooter|Singleplayer|Dark Comedy|Psychological|Hand-drawn|Violent|Dark|Anime|Third Person|Family Friendly|Difficult|Open World'\n",
      " 'Combat Racing|Classic|Racing|Arcade|Multiplayer|Indie|Retro|Gore|Action|Vehicular Combat|Female Protagonist|Great Soundtrack|Singleplayer'\n",
      " 'Story Rich|First-Person|Action-Adventure|Multiplayer|Action|Adventure|Silent Protagonist|Atmospheric|Gore|FPS|Classic|Funny|Moddable|Retro|Linear|Shooter|Singleplayer|PvP|Aliens|Difficult|Great Soundtrack|Sci-fi'\n",
      " 'First-Person|Story Rich|Action|Adventure|Military|Silent Protagonist|Atmospheric|Puzzle|Free to Play|Gore|Co-op|FPS|Classic|Moddable|Indie|Retro|Shooter|Singleplayer|Aliens|Anime|Great Soundtrack|Sci-fi'\n",
      " 'Horror|Story Rich|Action-Adventure|Action|Adventure|Atmospheric|Puzzle|Vampire|Dark Fantasy|Classic|Fantasy|Retro|Singleplayer|Dark|Gothic|Third Person|Hack and Slash|Great Soundtrack|Metroidvania']\n"
     ]
    }
   ],
   "source": [
    "distinct_values = df[['name', 'tags']].nunique()\n",
    "print(distinct_values)\n",
    "\n",
    "distinct_values_name = df['name'].unique()[:5]  \n",
    "distinct_values_tags = df['tags'].unique()[:5]  \n",
    "\n",
    "print(\"Distinct 'name' values:\", distinct_values_name)\n",
    "print(\"Distinct 'tags' values:\", distinct_values_tags)\n"
   ]
  },
  {
   "cell_type": "markdown",
   "metadata": {},
   "source": [
    "- Are they abnormal?"
   ]
  },
  {
   "cell_type": "markdown",
   "metadata": {},
   "source": [
    "# 3. Asking meaningful questions"
   ]
  },
  {
   "cell_type": "markdown",
   "metadata": {},
   "source": [
    "# 4. Preprocessing and analyzing data to answer each question"
   ]
  },
  {
   "cell_type": "markdown",
   "metadata": {},
   "source": [
    "- Sort the dataset by year"
   ]
  },
  {
   "cell_type": "code",
   "execution_count": 73,
   "metadata": {},
   "outputs": [],
   "source": [
    "df = df.sort_values(by='year', ascending=True, ignore_index=True)"
   ]
  },
  {
   "cell_type": "code",
   "execution_count": 74,
   "metadata": {},
   "outputs": [
    {
     "name": "stderr",
     "output_type": "stream",
     "text": [
      "C:\\Users\\Ping\\AppData\\Local\\Temp\\ipykernel_8500\\3339644551.py:1: DeprecationWarning: DataFrameGroupBy.apply operated on the grouping columns. This behavior is deprecated, and in a future version of pandas the grouping columns will be excluded from the operation. Either pass `include_groups=False` to exclude the groupings or explicitly select the grouping columns after groupby to silence this warning.\n",
      "  missing_by_year = df.groupby('year').apply(lambda group: group.isnull().mean() * 100)\n"
     ]
    },
    {
     "data": {
      "image/png": "[encoded data removed]",
      "text/plain": [
       "<Figure size 1000x600 with 1 Axes>"
      ]
     },
     "metadata": {},
     "output_type": "display_data"
    }
   ],
   "source": [
    "missing_by_year = df.groupby('year').apply(lambda group: group.isnull().mean() * 100)\n",
    "missing_by_year.plot(kind='bar', figsize=(10, 6), stacked=False)\n",
    "plt.title('Missing Data Percentage by Year')\n",
    "plt.xlabel('Year')\n",
    "plt.ylabel('Missing Data Percentage (%)')\n",
    "plt.legend(title='Columns')\n",
    "plt.tight_layout()\n",
    "plt.show()"
   ]
  },
  {
   "cell_type": "code",
   "execution_count": 75,
   "metadata": {},
   "outputs": [
    {
     "data": {
      "text/html": [
       "<div>\n",
       "<style scoped>\n",
       "    .dataframe tbody tr th:only-of-type {\n",
       "        vertical-align: middle;\n",
       "    }\n",
       "\n",
       "    .dataframe tbody tr th {\n",
       "        vertical-align: top;\n",
       "    }\n",
       "\n",
       "    .dataframe thead th {\n",
       "        text-align: right;\n",
       "    }\n",
       "</style>\n",
       "<table border=\"1\" class=\"dataframe\">\n",
       "  <thead>\n",
       "    <tr style=\"text-align: right;\">\n",
       "      <th></th>\n",
       "      <th>id</th>\n",
       "      <th>name</th>\n",
       "      <th>year</th>\n",
       "      <th>metacritic_rating</th>\n",
       "      <th>reviewer_rating</th>\n",
       "      <th>positivity_ratio</th>\n",
       "      <th>to_beat_main</th>\n",
       "      <th>to_beat_extra</th>\n",
       "      <th>to_beat_completionist</th>\n",
       "      <th>extra_content_length</th>\n",
       "      <th>tags</th>\n",
       "    </tr>\n",
       "    <tr>\n",
       "      <th>year</th>\n",
       "      <th></th>\n",
       "      <th></th>\n",
       "      <th></th>\n",
       "      <th></th>\n",
       "      <th></th>\n",
       "      <th></th>\n",
       "      <th></th>\n",
       "      <th></th>\n",
       "      <th></th>\n",
       "      <th></th>\n",
       "      <th></th>\n",
       "    </tr>\n",
       "  </thead>\n",
       "  <tbody>\n",
       "    <tr>\n",
       "      <th>1997.0</th>\n",
       "      <td>0.0</td>\n",
       "      <td>0.0</td>\n",
       "      <td>0.0</td>\n",
       "      <td>50.000000</td>\n",
       "      <td>0.000000</td>\n",
       "      <td>0.000000</td>\n",
       "      <td>0.000000</td>\n",
       "      <td>0.000000</td>\n",
       "      <td>50.000000</td>\n",
       "      <td>0.000000</td>\n",
       "      <td>0.0</td>\n",
       "    </tr>\n",
       "    <tr>\n",
       "      <th>1998.0</th>\n",
       "      <td>0.0</td>\n",
       "      <td>0.0</td>\n",
       "      <td>0.0</td>\n",
       "      <td>0.000000</td>\n",
       "      <td>0.000000</td>\n",
       "      <td>0.000000</td>\n",
       "      <td>0.000000</td>\n",
       "      <td>0.000000</td>\n",
       "      <td>0.000000</td>\n",
       "      <td>0.000000</td>\n",
       "      <td>0.0</td>\n",
       "    </tr>\n",
       "    <tr>\n",
       "      <th>1999.0</th>\n",
       "      <td>0.0</td>\n",
       "      <td>0.0</td>\n",
       "      <td>0.0</td>\n",
       "      <td>100.000000</td>\n",
       "      <td>0.000000</td>\n",
       "      <td>0.000000</td>\n",
       "      <td>0.000000</td>\n",
       "      <td>0.000000</td>\n",
       "      <td>33.333333</td>\n",
       "      <td>0.000000</td>\n",
       "      <td>0.0</td>\n",
       "    </tr>\n",
       "    <tr>\n",
       "      <th>2000.0</th>\n",
       "      <td>0.0</td>\n",
       "      <td>0.0</td>\n",
       "      <td>0.0</td>\n",
       "      <td>50.000000</td>\n",
       "      <td>0.000000</td>\n",
       "      <td>0.000000</td>\n",
       "      <td>0.000000</td>\n",
       "      <td>50.000000</td>\n",
       "      <td>0.000000</td>\n",
       "      <td>0.000000</td>\n",
       "      <td>0.0</td>\n",
       "    </tr>\n",
       "    <tr>\n",
       "      <th>2001.0</th>\n",
       "      <td>0.0</td>\n",
       "      <td>0.0</td>\n",
       "      <td>0.0</td>\n",
       "      <td>33.333333</td>\n",
       "      <td>0.000000</td>\n",
       "      <td>0.000000</td>\n",
       "      <td>16.666667</td>\n",
       "      <td>33.333333</td>\n",
       "      <td>50.000000</td>\n",
       "      <td>16.666667</td>\n",
       "      <td>0.0</td>\n",
       "    </tr>\n",
       "    <tr>\n",
       "      <th>2002.0</th>\n",
       "      <td>0.0</td>\n",
       "      <td>0.0</td>\n",
       "      <td>0.0</td>\n",
       "      <td>0.000000</td>\n",
       "      <td>0.000000</td>\n",
       "      <td>0.000000</td>\n",
       "      <td>0.000000</td>\n",
       "      <td>0.000000</td>\n",
       "      <td>0.000000</td>\n",
       "      <td>0.000000</td>\n",
       "      <td>0.0</td>\n",
       "    </tr>\n",
       "    <tr>\n",
       "      <th>2003.0</th>\n",
       "      <td>0.0</td>\n",
       "      <td>0.0</td>\n",
       "      <td>0.0</td>\n",
       "      <td>66.666667</td>\n",
       "      <td>0.000000</td>\n",
       "      <td>0.000000</td>\n",
       "      <td>0.000000</td>\n",
       "      <td>33.333333</td>\n",
       "      <td>33.333333</td>\n",
       "      <td>0.000000</td>\n",
       "      <td>0.0</td>\n",
       "    </tr>\n",
       "    <tr>\n",
       "      <th>2004.0</th>\n",
       "      <td>0.0</td>\n",
       "      <td>0.0</td>\n",
       "      <td>0.0</td>\n",
       "      <td>40.000000</td>\n",
       "      <td>0.000000</td>\n",
       "      <td>0.000000</td>\n",
       "      <td>0.000000</td>\n",
       "      <td>0.000000</td>\n",
       "      <td>0.000000</td>\n",
       "      <td>0.000000</td>\n",
       "      <td>0.0</td>\n",
       "    </tr>\n",
       "    <tr>\n",
       "      <th>2005.0</th>\n",
       "      <td>0.0</td>\n",
       "      <td>0.0</td>\n",
       "      <td>0.0</td>\n",
       "      <td>33.333333</td>\n",
       "      <td>0.000000</td>\n",
       "      <td>0.000000</td>\n",
       "      <td>0.000000</td>\n",
       "      <td>0.000000</td>\n",
       "      <td>0.000000</td>\n",
       "      <td>0.000000</td>\n",
       "      <td>0.0</td>\n",
       "    </tr>\n",
       "    <tr>\n",
       "      <th>2006.0</th>\n",
       "      <td>0.0</td>\n",
       "      <td>0.0</td>\n",
       "      <td>0.0</td>\n",
       "      <td>40.909091</td>\n",
       "      <td>1.515152</td>\n",
       "      <td>1.515152</td>\n",
       "      <td>16.666667</td>\n",
       "      <td>36.363636</td>\n",
       "      <td>36.363636</td>\n",
       "      <td>13.636364</td>\n",
       "      <td>0.0</td>\n",
       "    </tr>\n",
       "    <tr>\n",
       "      <th>2007.0</th>\n",
       "      <td>0.0</td>\n",
       "      <td>0.0</td>\n",
       "      <td>0.0</td>\n",
       "      <td>36.190476</td>\n",
       "      <td>0.000000</td>\n",
       "      <td>0.000000</td>\n",
       "      <td>10.476190</td>\n",
       "      <td>15.238095</td>\n",
       "      <td>19.047619</td>\n",
       "      <td>10.476190</td>\n",
       "      <td>0.0</td>\n",
       "    </tr>\n",
       "    <tr>\n",
       "      <th>2008.0</th>\n",
       "      <td>0.0</td>\n",
       "      <td>0.0</td>\n",
       "      <td>0.0</td>\n",
       "      <td>39.534884</td>\n",
       "      <td>2.906977</td>\n",
       "      <td>0.581395</td>\n",
       "      <td>19.767442</td>\n",
       "      <td>31.976744</td>\n",
       "      <td>29.651163</td>\n",
       "      <td>15.116279</td>\n",
       "      <td>0.0</td>\n",
       "    </tr>\n",
       "    <tr>\n",
       "      <th>2009.0</th>\n",
       "      <td>0.0</td>\n",
       "      <td>0.0</td>\n",
       "      <td>0.0</td>\n",
       "      <td>44.099379</td>\n",
       "      <td>1.552795</td>\n",
       "      <td>0.310559</td>\n",
       "      <td>22.981366</td>\n",
       "      <td>33.850932</td>\n",
       "      <td>30.745342</td>\n",
       "      <td>20.807453</td>\n",
       "      <td>0.0</td>\n",
       "    </tr>\n",
       "    <tr>\n",
       "      <th>2010.0</th>\n",
       "      <td>0.0</td>\n",
       "      <td>0.0</td>\n",
       "      <td>0.0</td>\n",
       "      <td>53.716216</td>\n",
       "      <td>11.148649</td>\n",
       "      <td>0.000000</td>\n",
       "      <td>24.662162</td>\n",
       "      <td>34.459459</td>\n",
       "      <td>31.756757</td>\n",
       "      <td>17.905405</td>\n",
       "      <td>0.0</td>\n",
       "    </tr>\n",
       "    <tr>\n",
       "      <th>2011.0</th>\n",
       "      <td>0.0</td>\n",
       "      <td>0.0</td>\n",
       "      <td>0.0</td>\n",
       "      <td>38.545455</td>\n",
       "      <td>2.545455</td>\n",
       "      <td>0.000000</td>\n",
       "      <td>14.909091</td>\n",
       "      <td>22.181818</td>\n",
       "      <td>25.818182</td>\n",
       "      <td>13.818182</td>\n",
       "      <td>0.0</td>\n",
       "    </tr>\n",
       "    <tr>\n",
       "      <th>2012.0</th>\n",
       "      <td>0.0</td>\n",
       "      <td>0.0</td>\n",
       "      <td>0.0</td>\n",
       "      <td>45.454545</td>\n",
       "      <td>3.125000</td>\n",
       "      <td>0.000000</td>\n",
       "      <td>17.329545</td>\n",
       "      <td>19.886364</td>\n",
       "      <td>24.431818</td>\n",
       "      <td>13.920455</td>\n",
       "      <td>0.0</td>\n",
       "    </tr>\n",
       "    <tr>\n",
       "      <th>2013.0</th>\n",
       "      <td>0.0</td>\n",
       "      <td>0.0</td>\n",
       "      <td>0.0</td>\n",
       "      <td>49.060543</td>\n",
       "      <td>0.208768</td>\n",
       "      <td>0.000000</td>\n",
       "      <td>21.920668</td>\n",
       "      <td>27.557411</td>\n",
       "      <td>32.150313</td>\n",
       "      <td>20.041754</td>\n",
       "      <td>0.0</td>\n",
       "    </tr>\n",
       "    <tr>\n",
       "      <th>2014.0</th>\n",
       "      <td>0.0</td>\n",
       "      <td>0.0</td>\n",
       "      <td>0.0</td>\n",
       "      <td>78.074534</td>\n",
       "      <td>0.931677</td>\n",
       "      <td>0.124224</td>\n",
       "      <td>33.478261</td>\n",
       "      <td>44.968944</td>\n",
       "      <td>43.478261</td>\n",
       "      <td>28.509317</td>\n",
       "      <td>0.0</td>\n",
       "    </tr>\n",
       "    <tr>\n",
       "      <th>2015.0</th>\n",
       "      <td>0.0</td>\n",
       "      <td>0.0</td>\n",
       "      <td>0.0</td>\n",
       "      <td>86.537023</td>\n",
       "      <td>3.926702</td>\n",
       "      <td>0.373972</td>\n",
       "      <td>50.523560</td>\n",
       "      <td>61.555722</td>\n",
       "      <td>57.479432</td>\n",
       "      <td>44.053852</td>\n",
       "      <td>0.0</td>\n",
       "    </tr>\n",
       "    <tr>\n",
       "      <th>2016.0</th>\n",
       "      <td>0.0</td>\n",
       "      <td>0.0</td>\n",
       "      <td>0.0</td>\n",
       "      <td>91.487414</td>\n",
       "      <td>9.954233</td>\n",
       "      <td>0.983982</td>\n",
       "      <td>62.105263</td>\n",
       "      <td>71.121281</td>\n",
       "      <td>65.148741</td>\n",
       "      <td>54.393593</td>\n",
       "      <td>0.0</td>\n",
       "    </tr>\n",
       "    <tr>\n",
       "      <th>2017.0</th>\n",
       "      <td>0.0</td>\n",
       "      <td>0.0</td>\n",
       "      <td>0.0</td>\n",
       "      <td>94.483757</td>\n",
       "      <td>21.534255</td>\n",
       "      <td>2.380187</td>\n",
       "      <td>71.196526</td>\n",
       "      <td>79.575426</td>\n",
       "      <td>71.132197</td>\n",
       "      <td>62.431650</td>\n",
       "      <td>0.0</td>\n",
       "    </tr>\n",
       "    <tr>\n",
       "      <th>2018.0</th>\n",
       "      <td>0.0</td>\n",
       "      <td>0.0</td>\n",
       "      <td>0.0</td>\n",
       "      <td>95.767666</td>\n",
       "      <td>27.147941</td>\n",
       "      <td>2.885104</td>\n",
       "      <td>76.131164</td>\n",
       "      <td>82.473310</td>\n",
       "      <td>74.237417</td>\n",
       "      <td>67.221657</td>\n",
       "      <td>0.0</td>\n",
       "    </tr>\n",
       "    <tr>\n",
       "      <th>2019.0</th>\n",
       "      <td>0.0</td>\n",
       "      <td>0.0</td>\n",
       "      <td>0.0</td>\n",
       "      <td>96.256610</td>\n",
       "      <td>32.716393</td>\n",
       "      <td>4.160868</td>\n",
       "      <td>75.702755</td>\n",
       "      <td>82.660729</td>\n",
       "      <td>78.110214</td>\n",
       "      <td>70.748678</td>\n",
       "      <td>0.0</td>\n",
       "    </tr>\n",
       "    <tr>\n",
       "      <th>2020.0</th>\n",
       "      <td>0.0</td>\n",
       "      <td>0.0</td>\n",
       "      <td>0.0</td>\n",
       "      <td>96.690253</td>\n",
       "      <td>34.581146</td>\n",
       "      <td>3.469528</td>\n",
       "      <td>75.564940</td>\n",
       "      <td>82.892034</td>\n",
       "      <td>78.874686</td>\n",
       "      <td>71.011185</td>\n",
       "      <td>0.0</td>\n",
       "    </tr>\n",
       "    <tr>\n",
       "      <th>2021.0</th>\n",
       "      <td>0.0</td>\n",
       "      <td>0.0</td>\n",
       "      <td>0.0</td>\n",
       "      <td>97.521470</td>\n",
       "      <td>38.449832</td>\n",
       "      <td>3.815632</td>\n",
       "      <td>78.867268</td>\n",
       "      <td>84.150451</td>\n",
       "      <td>81.704533</td>\n",
       "      <td>75.062507</td>\n",
       "      <td>0.0</td>\n",
       "    </tr>\n",
       "    <tr>\n",
       "      <th>2022.0</th>\n",
       "      <td>0.0</td>\n",
       "      <td>0.0</td>\n",
       "      <td>0.0</td>\n",
       "      <td>98.433308</td>\n",
       "      <td>42.633330</td>\n",
       "      <td>4.474729</td>\n",
       "      <td>80.749007</td>\n",
       "      <td>85.974890</td>\n",
       "      <td>84.054083</td>\n",
       "      <td>77.561970</td>\n",
       "      <td>0.0</td>\n",
       "    </tr>\n",
       "    <tr>\n",
       "      <th>2023.0</th>\n",
       "      <td>0.0</td>\n",
       "      <td>0.0</td>\n",
       "      <td>0.0</td>\n",
       "      <td>98.792562</td>\n",
       "      <td>46.510505</td>\n",
       "      <td>5.047090</td>\n",
       "      <td>82.830234</td>\n",
       "      <td>87.563390</td>\n",
       "      <td>87.804878</td>\n",
       "      <td>80.898334</td>\n",
       "      <td>0.0</td>\n",
       "    </tr>\n",
       "  </tbody>\n",
       "</table>\n",
       "</div>"
      ],
      "text/plain": [
       "         id  name  year  metacritic_rating  reviewer_rating  positivity_ratio  \\\n",
       "year                                                                            \n",
       "1997.0  0.0   0.0   0.0          50.000000         0.000000          0.000000   \n",
       "1998.0  0.0   0.0   0.0           0.000000         0.000000          0.000000   \n",
       "1999.0  0.0   0.0   0.0         100.000000         0.000000          0.000000   \n",
       "2000.0  0.0   0.0   0.0          50.000000         0.000000          0.000000   \n",
       "2001.0  0.0   0.0   0.0          33.333333         0.000000          0.000000   \n",
       "2002.0  0.0   0.0   0.0           0.000000         0.000000          0.000000   \n",
       "2003.0  0.0   0.0   0.0          66.666667         0.000000          0.000000   \n",
       "2004.0  0.0   0.0   0.0          40.000000         0.000000          0.000000   \n",
       "2005.0  0.0   0.0   0.0          33.333333         0.000000          0.000000   \n",
       "2006.0  0.0   0.0   0.0          40.909091         1.515152          1.515152   \n",
       "2007.0  0.0   0.0   0.0          36.190476         0.000000          0.000000   \n",
       "2008.0  0.0   0.0   0.0          39.534884         2.906977          0.581395   \n",
       "2009.0  0.0   0.0   0.0          44.099379         1.552795          0.310559   \n",
       "2010.0  0.0   0.0   0.0          53.716216        11.148649          0.000000   \n",
       "2011.0  0.0   0.0   0.0          38.545455         2.545455          0.000000   \n",
       "2012.0  0.0   0.0   0.0          45.454545         3.125000          0.000000   \n",
       "2013.0  0.0   0.0   0.0          49.060543         0.208768          0.000000   \n",
       "2014.0  0.0   0.0   0.0          78.074534         0.931677          0.124224   \n",
       "2015.0  0.0   0.0   0.0          86.537023         3.926702          0.373972   \n",
       "2016.0  0.0   0.0   0.0          91.487414         9.954233          0.983982   \n",
       "2017.0  0.0   0.0   0.0          94.483757        21.534255          2.380187   \n",
       "2018.0  0.0   0.0   0.0          95.767666        27.147941          2.885104   \n",
       "2019.0  0.0   0.0   0.0          96.256610        32.716393          4.160868   \n",
       "2020.0  0.0   0.0   0.0          96.690253        34.581146          3.469528   \n",
       "2021.0  0.0   0.0   0.0          97.521470        38.449832          3.815632   \n",
       "2022.0  0.0   0.0   0.0          98.433308        42.633330          4.474729   \n",
       "2023.0  0.0   0.0   0.0          98.792562        46.510505          5.047090   \n",
       "\n",
       "        to_beat_main  to_beat_extra  to_beat_completionist  \\\n",
       "year                                                         \n",
       "1997.0      0.000000       0.000000              50.000000   \n",
       "1998.0      0.000000       0.000000               0.000000   \n",
       "1999.0      0.000000       0.000000              33.333333   \n",
       "2000.0      0.000000      50.000000               0.000000   \n",
       "2001.0     16.666667      33.333333              50.000000   \n",
       "2002.0      0.000000       0.000000               0.000000   \n",
       "2003.0      0.000000      33.333333              33.333333   \n",
       "2004.0      0.000000       0.000000               0.000000   \n",
       "2005.0      0.000000       0.000000               0.000000   \n",
       "2006.0     16.666667      36.363636              36.363636   \n",
       "2007.0     10.476190      15.238095              19.047619   \n",
       "2008.0     19.767442      31.976744              29.651163   \n",
       "2009.0     22.981366      33.850932              30.745342   \n",
       "2010.0     24.662162      34.459459              31.756757   \n",
       "2011.0     14.909091      22.181818              25.818182   \n",
       "2012.0     17.329545      19.886364              24.431818   \n",
       "2013.0     21.920668      27.557411              32.150313   \n",
       "2014.0     33.478261      44.968944              43.478261   \n",
       "2015.0     50.523560      61.555722              57.479432   \n",
       "2016.0     62.105263      71.121281              65.148741   \n",
       "2017.0     71.196526      79.575426              71.132197   \n",
       "2018.0     76.131164      82.473310              74.237417   \n",
       "2019.0     75.702755      82.660729              78.110214   \n",
       "2020.0     75.564940      82.892034              78.874686   \n",
       "2021.0     78.867268      84.150451              81.704533   \n",
       "2022.0     80.749007      85.974890              84.054083   \n",
       "2023.0     82.830234      87.563390              87.804878   \n",
       "\n",
       "        extra_content_length  tags  \n",
       "year                                \n",
       "1997.0              0.000000   0.0  \n",
       "1998.0              0.000000   0.0  \n",
       "1999.0              0.000000   0.0  \n",
       "2000.0              0.000000   0.0  \n",
       "2001.0             16.666667   0.0  \n",
       "2002.0              0.000000   0.0  \n",
       "2003.0              0.000000   0.0  \n",
       "2004.0              0.000000   0.0  \n",
       "2005.0              0.000000   0.0  \n",
       "2006.0             13.636364   0.0  \n",
       "2007.0             10.476190   0.0  \n",
       "2008.0             15.116279   0.0  \n",
       "2009.0             20.807453   0.0  \n",
       "2010.0             17.905405   0.0  \n",
       "2011.0             13.818182   0.0  \n",
       "2012.0             13.920455   0.0  \n",
       "2013.0             20.041754   0.0  \n",
       "2014.0             28.509317   0.0  \n",
       "2015.0             44.053852   0.0  \n",
       "2016.0             54.393593   0.0  \n",
       "2017.0             62.431650   0.0  \n",
       "2018.0             67.221657   0.0  \n",
       "2019.0             70.748678   0.0  \n",
       "2020.0             71.011185   0.0  \n",
       "2021.0             75.062507   0.0  \n",
       "2022.0             77.561970   0.0  \n",
       "2023.0             80.898334   0.0  "
      ]
     },
     "execution_count": 75,
     "metadata": {},
     "output_type": "execute_result"
    }
   ],
   "source": [
    "missing_by_year"
   ]
  },
  {
   "cell_type": "markdown",
   "metadata": {},
   "source": [
    "# 5. Reflection"
   ]
  }
 ],
 "metadata": {
  "kernelspec": {
   "display_name": "Python 3",
   "language": "python",
   "name": "python3"
  },
  "language_info": {
   "codemirror_mode": {
    "name": "ipython",
    "version": 3
   },
   "file_extension": ".py",
   "mimetype": "text/x-python",
   "name": "python",
   "nbconvert_exporter": "python",
   "pygments_lexer": "ipython3",
   "version": "3.11.9"
  }
 },
 "nbformat": 4,
 "nbformat_minor": 2
}
